{
 "cells": [
  {
   "cell_type": "markdown",
   "metadata": {},
   "source": [
    "# Выбор локации для скважины"
   ]
  },
  {
   "cell_type": "markdown",
   "metadata": {},
   "source": [
    "### Описание данных"
   ]
  },
  {
   "cell_type": "markdown",
   "metadata": {},
   "source": [
    "* **id** — уникальный идентификатор скважины;  \n",
    "* **f0**, **f1**, **f2** — три признака точек (неважно, что они означают, но сами признаки значимы);  \n",
    "* **product** — объём запасов в скважине (тыс. баррелей)."
   ]
  },
  {
   "cell_type": "markdown",
   "metadata": {},
   "source": [
    "### Условия задачи"
   ]
  },
  {
   "cell_type": "markdown",
   "metadata": {},
   "source": [
    "* Для обучения модели подходит только линейная регрессия (остальные — недостаточно предсказуемые).  \n",
    "* При разведке региона исследуют 500 точек, из которых с помощью машинного обучения выбирают 200 лучших для разработки.  \n",
    "* Бюджет на разработку скважин в регионе — 10 млрд рублей.  \n",
    "* При нынешних ценах один баррель сырья приносит 450 рублей дохода. Доход с каждой единицы продукта составляет 450 тыс. рублей, поскольку объём указан в тысячах баррелей.  \n",
    "* После оценки рисков нужно оставить лишь те регионы, в которых вероятность убытков меньше 2.5%. Среди них выбирают регион с наибольшей средней прибылью."
   ]
  },
  {
   "cell_type": "markdown",
   "metadata": {},
   "source": [
    "## Загрузка и подготовка данных"
   ]
  },
  {
   "cell_type": "code",
   "execution_count": 42,
   "metadata": {},
   "outputs": [],
   "source": [
    "# !pip install plotly"
   ]
  },
  {
   "cell_type": "code",
   "execution_count": 43,
   "metadata": {},
   "outputs": [],
   "source": [
    "import pandas as pd\n",
    "import numpy as np\n",
    "from numpy.random import RandomState\n",
    "\n",
    "import matplotlib.pyplot as plt\n",
    "import seaborn as sns\n",
    "import plotly.express as px\n",
    "import plotly.graph_objs as go\n",
    "import plotly.figure_factory as ff\n",
    "\n",
    "from sklearn.model_selection import train_test_split\n",
    "from sklearn.linear_model import LinearRegression\n",
    "from sklearn.metrics import mean_squared_error\n",
    "import warnings"
   ]
  },
  {
   "cell_type": "code",
   "execution_count": 44,
   "metadata": {},
   "outputs": [],
   "source": [
    "warnings.filterwarnings('ignore')"
   ]
  },
  {
   "cell_type": "code",
   "execution_count": 45,
   "metadata": {},
   "outputs": [],
   "source": [
    "RANDOM_STATE = 100500"
   ]
  },
  {
   "cell_type": "markdown",
   "metadata": {},
   "source": [
    "Загрузим данные из 3-х датасетов, посмотрим на несколько строк."
   ]
  },
  {
   "cell_type": "code",
   "execution_count": 46,
   "metadata": {},
   "outputs": [
    {
     "data": {
      "text/html": [
       "<div>\n",
       "<style scoped>\n",
       "    .dataframe tbody tr th:only-of-type {\n",
       "        vertical-align: middle;\n",
       "    }\n",
       "\n",
       "    .dataframe tbody tr th {\n",
       "        vertical-align: top;\n",
       "    }\n",
       "\n",
       "    .dataframe thead th {\n",
       "        text-align: right;\n",
       "    }\n",
       "</style>\n",
       "<table border=\"1\" class=\"dataframe\">\n",
       "  <thead>\n",
       "    <tr style=\"text-align: right;\">\n",
       "      <th></th>\n",
       "      <th>id</th>\n",
       "      <th>f0</th>\n",
       "      <th>f1</th>\n",
       "      <th>f2</th>\n",
       "      <th>product</th>\n",
       "    </tr>\n",
       "  </thead>\n",
       "  <tbody>\n",
       "    <tr>\n",
       "      <th>0</th>\n",
       "      <td>txEyH</td>\n",
       "      <td>0.705745</td>\n",
       "      <td>-0.497823</td>\n",
       "      <td>1.221170</td>\n",
       "      <td>105.280062</td>\n",
       "    </tr>\n",
       "    <tr>\n",
       "      <th>1</th>\n",
       "      <td>2acmU</td>\n",
       "      <td>1.334711</td>\n",
       "      <td>-0.340164</td>\n",
       "      <td>4.365080</td>\n",
       "      <td>73.037750</td>\n",
       "    </tr>\n",
       "    <tr>\n",
       "      <th>2</th>\n",
       "      <td>409Wp</td>\n",
       "      <td>1.022732</td>\n",
       "      <td>0.151990</td>\n",
       "      <td>1.419926</td>\n",
       "      <td>85.265647</td>\n",
       "    </tr>\n",
       "    <tr>\n",
       "      <th>3</th>\n",
       "      <td>iJLyR</td>\n",
       "      <td>-0.032172</td>\n",
       "      <td>0.139033</td>\n",
       "      <td>2.978566</td>\n",
       "      <td>168.620776</td>\n",
       "    </tr>\n",
       "    <tr>\n",
       "      <th>4</th>\n",
       "      <td>Xdl7t</td>\n",
       "      <td>1.988431</td>\n",
       "      <td>0.155413</td>\n",
       "      <td>4.751769</td>\n",
       "      <td>154.036647</td>\n",
       "    </tr>\n",
       "  </tbody>\n",
       "</table>\n",
       "</div>"
      ],
      "text/plain": [
       "      id        f0        f1        f2     product\n",
       "0  txEyH  0.705745 -0.497823  1.221170  105.280062\n",
       "1  2acmU  1.334711 -0.340164  4.365080   73.037750\n",
       "2  409Wp  1.022732  0.151990  1.419926   85.265647\n",
       "3  iJLyR -0.032172  0.139033  2.978566  168.620776\n",
       "4  Xdl7t  1.988431  0.155413  4.751769  154.036647"
      ]
     },
     "execution_count": 46,
     "metadata": {},
     "output_type": "execute_result"
    }
   ],
   "source": [
    "try:\n",
    "    df1 = pd.read_csv('datasets/geo_data_0.csv')\n",
    "except:\n",
    "    df1 = pd.read_csv('/datasets/geo_data_0.csv')\n",
    "    \n",
    "df1.head()"
   ]
  },
  {
   "cell_type": "code",
   "execution_count": 47,
   "metadata": {},
   "outputs": [
    {
     "data": {
      "text/html": [
       "<div>\n",
       "<style scoped>\n",
       "    .dataframe tbody tr th:only-of-type {\n",
       "        vertical-align: middle;\n",
       "    }\n",
       "\n",
       "    .dataframe tbody tr th {\n",
       "        vertical-align: top;\n",
       "    }\n",
       "\n",
       "    .dataframe thead th {\n",
       "        text-align: right;\n",
       "    }\n",
       "</style>\n",
       "<table border=\"1\" class=\"dataframe\">\n",
       "  <thead>\n",
       "    <tr style=\"text-align: right;\">\n",
       "      <th></th>\n",
       "      <th>id</th>\n",
       "      <th>f0</th>\n",
       "      <th>f1</th>\n",
       "      <th>f2</th>\n",
       "      <th>product</th>\n",
       "    </tr>\n",
       "  </thead>\n",
       "  <tbody>\n",
       "    <tr>\n",
       "      <th>0</th>\n",
       "      <td>kBEdx</td>\n",
       "      <td>-15.001348</td>\n",
       "      <td>-8.276000</td>\n",
       "      <td>-0.005876</td>\n",
       "      <td>3.179103</td>\n",
       "    </tr>\n",
       "    <tr>\n",
       "      <th>1</th>\n",
       "      <td>62mP7</td>\n",
       "      <td>14.272088</td>\n",
       "      <td>-3.475083</td>\n",
       "      <td>0.999183</td>\n",
       "      <td>26.953261</td>\n",
       "    </tr>\n",
       "    <tr>\n",
       "      <th>2</th>\n",
       "      <td>vyE1P</td>\n",
       "      <td>6.263187</td>\n",
       "      <td>-5.948386</td>\n",
       "      <td>5.001160</td>\n",
       "      <td>134.766305</td>\n",
       "    </tr>\n",
       "    <tr>\n",
       "      <th>3</th>\n",
       "      <td>KcrkZ</td>\n",
       "      <td>-13.081196</td>\n",
       "      <td>-11.506057</td>\n",
       "      <td>4.999415</td>\n",
       "      <td>137.945408</td>\n",
       "    </tr>\n",
       "    <tr>\n",
       "      <th>4</th>\n",
       "      <td>AHL4O</td>\n",
       "      <td>12.702195</td>\n",
       "      <td>-8.147433</td>\n",
       "      <td>5.004363</td>\n",
       "      <td>134.766305</td>\n",
       "    </tr>\n",
       "  </tbody>\n",
       "</table>\n",
       "</div>"
      ],
      "text/plain": [
       "      id         f0         f1        f2     product\n",
       "0  kBEdx -15.001348  -8.276000 -0.005876    3.179103\n",
       "1  62mP7  14.272088  -3.475083  0.999183   26.953261\n",
       "2  vyE1P   6.263187  -5.948386  5.001160  134.766305\n",
       "3  KcrkZ -13.081196 -11.506057  4.999415  137.945408\n",
       "4  AHL4O  12.702195  -8.147433  5.004363  134.766305"
      ]
     },
     "execution_count": 47,
     "metadata": {},
     "output_type": "execute_result"
    }
   ],
   "source": [
    "try:\n",
    "    df2 = pd.read_csv('datasets/geo_data_1.csv')\n",
    "except:\n",
    "    df2 = pd.read_csv('/datasets/geo_data_1.csv')\n",
    "    \n",
    "df2.head()"
   ]
  },
  {
   "cell_type": "code",
   "execution_count": 48,
   "metadata": {},
   "outputs": [
    {
     "data": {
      "text/html": [
       "<div>\n",
       "<style scoped>\n",
       "    .dataframe tbody tr th:only-of-type {\n",
       "        vertical-align: middle;\n",
       "    }\n",
       "\n",
       "    .dataframe tbody tr th {\n",
       "        vertical-align: top;\n",
       "    }\n",
       "\n",
       "    .dataframe thead th {\n",
       "        text-align: right;\n",
       "    }\n",
       "</style>\n",
       "<table border=\"1\" class=\"dataframe\">\n",
       "  <thead>\n",
       "    <tr style=\"text-align: right;\">\n",
       "      <th></th>\n",
       "      <th>id</th>\n",
       "      <th>f0</th>\n",
       "      <th>f1</th>\n",
       "      <th>f2</th>\n",
       "      <th>product</th>\n",
       "    </tr>\n",
       "  </thead>\n",
       "  <tbody>\n",
       "    <tr>\n",
       "      <th>0</th>\n",
       "      <td>fwXo0</td>\n",
       "      <td>-1.146987</td>\n",
       "      <td>0.963328</td>\n",
       "      <td>-0.828965</td>\n",
       "      <td>27.758673</td>\n",
       "    </tr>\n",
       "    <tr>\n",
       "      <th>1</th>\n",
       "      <td>WJtFt</td>\n",
       "      <td>0.262778</td>\n",
       "      <td>0.269839</td>\n",
       "      <td>-2.530187</td>\n",
       "      <td>56.069697</td>\n",
       "    </tr>\n",
       "    <tr>\n",
       "      <th>2</th>\n",
       "      <td>ovLUW</td>\n",
       "      <td>0.194587</td>\n",
       "      <td>0.289035</td>\n",
       "      <td>-5.586433</td>\n",
       "      <td>62.871910</td>\n",
       "    </tr>\n",
       "    <tr>\n",
       "      <th>3</th>\n",
       "      <td>q6cA6</td>\n",
       "      <td>2.236060</td>\n",
       "      <td>-0.553760</td>\n",
       "      <td>0.930038</td>\n",
       "      <td>114.572842</td>\n",
       "    </tr>\n",
       "    <tr>\n",
       "      <th>4</th>\n",
       "      <td>WPMUX</td>\n",
       "      <td>-0.515993</td>\n",
       "      <td>1.716266</td>\n",
       "      <td>5.899011</td>\n",
       "      <td>149.600746</td>\n",
       "    </tr>\n",
       "  </tbody>\n",
       "</table>\n",
       "</div>"
      ],
      "text/plain": [
       "      id        f0        f1        f2     product\n",
       "0  fwXo0 -1.146987  0.963328 -0.828965   27.758673\n",
       "1  WJtFt  0.262778  0.269839 -2.530187   56.069697\n",
       "2  ovLUW  0.194587  0.289035 -5.586433   62.871910\n",
       "3  q6cA6  2.236060 -0.553760  0.930038  114.572842\n",
       "4  WPMUX -0.515993  1.716266  5.899011  149.600746"
      ]
     },
     "execution_count": 48,
     "metadata": {},
     "output_type": "execute_result"
    }
   ],
   "source": [
    "try:\n",
    "    df3 = pd.read_csv('datasets/geo_data_2.csv')\n",
    "except:\n",
    "    df3 = pd.read_csv('/datasets/geo_data_2.csv')\n",
    "    \n",
    "df3.head()"
   ]
  },
  {
   "cell_type": "code",
   "execution_count": 49,
   "metadata": {},
   "outputs": [
    {
     "data": {
      "text/plain": [
       "0        105.280062\n",
       "1         73.037750\n",
       "2         85.265647\n",
       "3        168.620776\n",
       "4        154.036647\n",
       "            ...    \n",
       "99995    110.744026\n",
       "99996    122.346843\n",
       "99997     64.375443\n",
       "99998     74.040764\n",
       "99999    149.633246\n",
       "Name: product, Length: 100000, dtype: float64"
      ]
     },
     "execution_count": 49,
     "metadata": {},
     "output_type": "execute_result"
    }
   ],
   "source": [
    "# сохраним отдельно таргеты, они нам понадобятся в дальнейшем\n",
    "target_1 = df1['product']\n",
    "target_2 = df2['product']\n",
    "target_3 = df3['product']\n",
    "target_1"
   ]
  },
  {
   "cell_type": "code",
   "execution_count": 50,
   "metadata": {},
   "outputs": [],
   "source": [
    "# создадим функцию по предварительной обработке данных\n",
    "\n",
    "def prep(data):\n",
    "    \n",
    "    print(data.info())\n",
    "    \n",
    "    # удаляем дубликаты, если они есть\n",
    "    data = data.drop_duplicates().reset_index(drop=True)\n",
    "    \n",
    "    # удаляем столбец id - он будет мешать при обучении модели\n",
    "    data = data.drop(['id'], axis=1)\n",
    "    \n",
    "    # строим гистограммы столбцов\n",
    "    \n",
    "    fig = plt.figure(figsize = (9, 9))\n",
    "    ax = fig.gca()\n",
    "    data.hist(bins=50, ax = ax)\n",
    "    plt.show()\n",
    "    \n",
    "    display(data.describe())\n",
    "    "
   ]
  },
  {
   "cell_type": "code",
   "execution_count": 51,
   "metadata": {
    "scrolled": true
   },
   "outputs": [
    {
     "name": "stdout",
     "output_type": "stream",
     "text": [
      "<class 'pandas.core.frame.DataFrame'>\n",
      "RangeIndex: 100000 entries, 0 to 99999\n",
      "Data columns (total 5 columns):\n",
      " #   Column   Non-Null Count   Dtype  \n",
      "---  ------   --------------   -----  \n",
      " 0   id       100000 non-null  object \n",
      " 1   f0       100000 non-null  float64\n",
      " 2   f1       100000 non-null  float64\n",
      " 3   f2       100000 non-null  float64\n",
      " 4   product  100000 non-null  float64\n",
      "dtypes: float64(4), object(1)\n",
      "memory usage: 3.8+ MB\n",
      "None\n"
     ]
    },
    {
     "data": {
      "image/png": "[encoded data removed]",
      "text/plain": [
       "<Figure size 900x900 with 4 Axes>"
      ]
     },
     "metadata": {},
     "output_type": "display_data"
    },
    {
     "data": {
      "text/html": [
       "<div>\n",
       "<style scoped>\n",
       "    .dataframe tbody tr th:only-of-type {\n",
       "        vertical-align: middle;\n",
       "    }\n",
       "\n",
       "    .dataframe tbody tr th {\n",
       "        vertical-align: top;\n",
       "    }\n",
       "\n",
       "    .dataframe thead th {\n",
       "        text-align: right;\n",
       "    }\n",
       "</style>\n",
       "<table border=\"1\" class=\"dataframe\">\n",
       "  <thead>\n",
       "    <tr style=\"text-align: right;\">\n",
       "      <th></th>\n",
       "      <th>f0</th>\n",
       "      <th>f1</th>\n",
       "      <th>f2</th>\n",
       "      <th>product</th>\n",
       "    </tr>\n",
       "  </thead>\n",
       "  <tbody>\n",
       "    <tr>\n",
       "      <th>count</th>\n",
       "      <td>100000.000000</td>\n",
       "      <td>100000.000000</td>\n",
       "      <td>100000.000000</td>\n",
       "      <td>100000.000000</td>\n",
       "    </tr>\n",
       "    <tr>\n",
       "      <th>mean</th>\n",
       "      <td>0.500419</td>\n",
       "      <td>0.250143</td>\n",
       "      <td>2.502647</td>\n",
       "      <td>92.500000</td>\n",
       "    </tr>\n",
       "    <tr>\n",
       "      <th>std</th>\n",
       "      <td>0.871832</td>\n",
       "      <td>0.504433</td>\n",
       "      <td>3.248248</td>\n",
       "      <td>44.288691</td>\n",
       "    </tr>\n",
       "    <tr>\n",
       "      <th>min</th>\n",
       "      <td>-1.408605</td>\n",
       "      <td>-0.848218</td>\n",
       "      <td>-12.088328</td>\n",
       "      <td>0.000000</td>\n",
       "    </tr>\n",
       "    <tr>\n",
       "      <th>25%</th>\n",
       "      <td>-0.072580</td>\n",
       "      <td>-0.200881</td>\n",
       "      <td>0.287748</td>\n",
       "      <td>56.497507</td>\n",
       "    </tr>\n",
       "    <tr>\n",
       "      <th>50%</th>\n",
       "      <td>0.502360</td>\n",
       "      <td>0.250252</td>\n",
       "      <td>2.515969</td>\n",
       "      <td>91.849972</td>\n",
       "    </tr>\n",
       "    <tr>\n",
       "      <th>75%</th>\n",
       "      <td>1.073581</td>\n",
       "      <td>0.700646</td>\n",
       "      <td>4.715088</td>\n",
       "      <td>128.564089</td>\n",
       "    </tr>\n",
       "    <tr>\n",
       "      <th>max</th>\n",
       "      <td>2.362331</td>\n",
       "      <td>1.343769</td>\n",
       "      <td>16.003790</td>\n",
       "      <td>185.364347</td>\n",
       "    </tr>\n",
       "  </tbody>\n",
       "</table>\n",
       "</div>"
      ],
      "text/plain": [
       "                  f0             f1             f2        product\n",
       "count  100000.000000  100000.000000  100000.000000  100000.000000\n",
       "mean        0.500419       0.250143       2.502647      92.500000\n",
       "std         0.871832       0.504433       3.248248      44.288691\n",
       "min        -1.408605      -0.848218     -12.088328       0.000000\n",
       "25%        -0.072580      -0.200881       0.287748      56.497507\n",
       "50%         0.502360       0.250252       2.515969      91.849972\n",
       "75%         1.073581       0.700646       4.715088     128.564089\n",
       "max         2.362331       1.343769      16.003790     185.364347"
      ]
     },
     "metadata": {},
     "output_type": "display_data"
    }
   ],
   "source": [
    "prep(df1)"
   ]
  },
  {
   "cell_type": "markdown",
   "metadata": {},
   "source": [
    "Первый датасет соответствует наблюениям первого региона. Имеем 100 тыс строк, пропусков нет. У признаков f0 и f1 есть пики, f2 - нормально распределен. Целевой параметр product распределен приближенно нормально. "
   ]
  },
  {
   "cell_type": "code",
   "execution_count": 52,
   "metadata": {
    "scrolled": false
   },
   "outputs": [
    {
     "name": "stdout",
     "output_type": "stream",
     "text": [
      "<class 'pandas.core.frame.DataFrame'>\n",
      "RangeIndex: 100000 entries, 0 to 99999\n",
      "Data columns (total 5 columns):\n",
      " #   Column   Non-Null Count   Dtype  \n",
      "---  ------   --------------   -----  \n",
      " 0   id       100000 non-null  object \n",
      " 1   f0       100000 non-null  float64\n",
      " 2   f1       100000 non-null  float64\n",
      " 3   f2       100000 non-null  float64\n",
      " 4   product  100000 non-null  float64\n",
      "dtypes: float64(4), object(1)\n",
      "memory usage: 3.8+ MB\n",
      "None\n"
     ]
    },
    {
     "data": {
      "image/png": "[encoded data removed]",
      "text/plain": [
       "<Figure size 900x900 with 4 Axes>"
      ]
     },
     "metadata": {},
     "output_type": "display_data"
    },
    {
     "data": {
      "text/html": [
       "<div>\n",
       "<style scoped>\n",
       "    .dataframe tbody tr th:only-of-type {\n",
       "        vertical-align: middle;\n",
       "    }\n",
       "\n",
       "    .dataframe tbody tr th {\n",
       "        vertical-align: top;\n",
       "    }\n",
       "\n",
       "    .dataframe thead th {\n",
       "        text-align: right;\n",
       "    }\n",
       "</style>\n",
       "<table border=\"1\" class=\"dataframe\">\n",
       "  <thead>\n",
       "    <tr style=\"text-align: right;\">\n",
       "      <th></th>\n",
       "      <th>f0</th>\n",
       "      <th>f1</th>\n",
       "      <th>f2</th>\n",
       "      <th>product</th>\n",
       "    </tr>\n",
       "  </thead>\n",
       "  <tbody>\n",
       "    <tr>\n",
       "      <th>count</th>\n",
       "      <td>100000.000000</td>\n",
       "      <td>100000.000000</td>\n",
       "      <td>100000.000000</td>\n",
       "      <td>100000.000000</td>\n",
       "    </tr>\n",
       "    <tr>\n",
       "      <th>mean</th>\n",
       "      <td>1.141296</td>\n",
       "      <td>-4.796579</td>\n",
       "      <td>2.494541</td>\n",
       "      <td>68.825000</td>\n",
       "    </tr>\n",
       "    <tr>\n",
       "      <th>std</th>\n",
       "      <td>8.965932</td>\n",
       "      <td>5.119872</td>\n",
       "      <td>1.703572</td>\n",
       "      <td>45.944423</td>\n",
       "    </tr>\n",
       "    <tr>\n",
       "      <th>min</th>\n",
       "      <td>-31.609576</td>\n",
       "      <td>-26.358598</td>\n",
       "      <td>-0.018144</td>\n",
       "      <td>0.000000</td>\n",
       "    </tr>\n",
       "    <tr>\n",
       "      <th>25%</th>\n",
       "      <td>-6.298551</td>\n",
       "      <td>-8.267985</td>\n",
       "      <td>1.000021</td>\n",
       "      <td>26.953261</td>\n",
       "    </tr>\n",
       "    <tr>\n",
       "      <th>50%</th>\n",
       "      <td>1.153055</td>\n",
       "      <td>-4.813172</td>\n",
       "      <td>2.011479</td>\n",
       "      <td>57.085625</td>\n",
       "    </tr>\n",
       "    <tr>\n",
       "      <th>75%</th>\n",
       "      <td>8.621015</td>\n",
       "      <td>-1.332816</td>\n",
       "      <td>3.999904</td>\n",
       "      <td>107.813044</td>\n",
       "    </tr>\n",
       "    <tr>\n",
       "      <th>max</th>\n",
       "      <td>29.421755</td>\n",
       "      <td>18.734063</td>\n",
       "      <td>5.019721</td>\n",
       "      <td>137.945408</td>\n",
       "    </tr>\n",
       "  </tbody>\n",
       "</table>\n",
       "</div>"
      ],
      "text/plain": [
       "                  f0             f1             f2        product\n",
       "count  100000.000000  100000.000000  100000.000000  100000.000000\n",
       "mean        1.141296      -4.796579       2.494541      68.825000\n",
       "std         8.965932       5.119872       1.703572      45.944423\n",
       "min       -31.609576     -26.358598      -0.018144       0.000000\n",
       "25%        -6.298551      -8.267985       1.000021      26.953261\n",
       "50%         1.153055      -4.813172       2.011479      57.085625\n",
       "75%         8.621015      -1.332816       3.999904     107.813044\n",
       "max        29.421755      18.734063       5.019721     137.945408"
      ]
     },
     "metadata": {},
     "output_type": "display_data"
    }
   ],
   "source": [
    "prep(df2)"
   ]
  },
  {
   "cell_type": "markdown",
   "metadata": {},
   "source": [
    "Датасет второго региона также имеет 100 тыс наблюдений, пропусков в данных нет. Признак f0 распределен с 2 вершинами. У f1 четкое нормальное распределение. F2 и product распределены ненормально. "
   ]
  },
  {
   "cell_type": "code",
   "execution_count": 53,
   "metadata": {
    "scrolled": true
   },
   "outputs": [
    {
     "name": "stdout",
     "output_type": "stream",
     "text": [
      "<class 'pandas.core.frame.DataFrame'>\n",
      "RangeIndex: 100000 entries, 0 to 99999\n",
      "Data columns (total 5 columns):\n",
      " #   Column   Non-Null Count   Dtype  \n",
      "---  ------   --------------   -----  \n",
      " 0   id       100000 non-null  object \n",
      " 1   f0       100000 non-null  float64\n",
      " 2   f1       100000 non-null  float64\n",
      " 3   f2       100000 non-null  float64\n",
      " 4   product  100000 non-null  float64\n",
      "dtypes: float64(4), object(1)\n",
      "memory usage: 3.8+ MB\n",
      "None\n"
     ]
    },
    {
     "data": {
      "image/png": "[encoded data removed]",
      "text/plain": [
       "<Figure size 900x900 with 4 Axes>"
      ]
     },
     "metadata": {},
     "output_type": "display_data"
    },
    {
     "data": {
      "text/html": [
       "<div>\n",
       "<style scoped>\n",
       "    .dataframe tbody tr th:only-of-type {\n",
       "        vertical-align: middle;\n",
       "    }\n",
       "\n",
       "    .dataframe tbody tr th {\n",
       "        vertical-align: top;\n",
       "    }\n",
       "\n",
       "    .dataframe thead th {\n",
       "        text-align: right;\n",
       "    }\n",
       "</style>\n",
       "<table border=\"1\" class=\"dataframe\">\n",
       "  <thead>\n",
       "    <tr style=\"text-align: right;\">\n",
       "      <th></th>\n",
       "      <th>f0</th>\n",
       "      <th>f1</th>\n",
       "      <th>f2</th>\n",
       "      <th>product</th>\n",
       "    </tr>\n",
       "  </thead>\n",
       "  <tbody>\n",
       "    <tr>\n",
       "      <th>count</th>\n",
       "      <td>100000.000000</td>\n",
       "      <td>100000.000000</td>\n",
       "      <td>100000.000000</td>\n",
       "      <td>100000.000000</td>\n",
       "    </tr>\n",
       "    <tr>\n",
       "      <th>mean</th>\n",
       "      <td>0.002023</td>\n",
       "      <td>-0.002081</td>\n",
       "      <td>2.495128</td>\n",
       "      <td>95.000000</td>\n",
       "    </tr>\n",
       "    <tr>\n",
       "      <th>std</th>\n",
       "      <td>1.732045</td>\n",
       "      <td>1.730417</td>\n",
       "      <td>3.473445</td>\n",
       "      <td>44.749921</td>\n",
       "    </tr>\n",
       "    <tr>\n",
       "      <th>min</th>\n",
       "      <td>-8.760004</td>\n",
       "      <td>-7.084020</td>\n",
       "      <td>-11.970335</td>\n",
       "      <td>0.000000</td>\n",
       "    </tr>\n",
       "    <tr>\n",
       "      <th>25%</th>\n",
       "      <td>-1.162288</td>\n",
       "      <td>-1.174820</td>\n",
       "      <td>0.130359</td>\n",
       "      <td>59.450441</td>\n",
       "    </tr>\n",
       "    <tr>\n",
       "      <th>50%</th>\n",
       "      <td>0.009424</td>\n",
       "      <td>-0.009482</td>\n",
       "      <td>2.484236</td>\n",
       "      <td>94.925613</td>\n",
       "    </tr>\n",
       "    <tr>\n",
       "      <th>75%</th>\n",
       "      <td>1.158535</td>\n",
       "      <td>1.163678</td>\n",
       "      <td>4.858794</td>\n",
       "      <td>130.595027</td>\n",
       "    </tr>\n",
       "    <tr>\n",
       "      <th>max</th>\n",
       "      <td>7.238262</td>\n",
       "      <td>7.844801</td>\n",
       "      <td>16.739402</td>\n",
       "      <td>190.029838</td>\n",
       "    </tr>\n",
       "  </tbody>\n",
       "</table>\n",
       "</div>"
      ],
      "text/plain": [
       "                  f0             f1             f2        product\n",
       "count  100000.000000  100000.000000  100000.000000  100000.000000\n",
       "mean        0.002023      -0.002081       2.495128      95.000000\n",
       "std         1.732045       1.730417       3.473445      44.749921\n",
       "min        -8.760004      -7.084020     -11.970335       0.000000\n",
       "25%        -1.162288      -1.174820       0.130359      59.450441\n",
       "50%         0.009424      -0.009482       2.484236      94.925613\n",
       "75%         1.158535       1.163678       4.858794     130.595027\n",
       "max         7.238262       7.844801      16.739402     190.029838"
      ]
     },
     "metadata": {},
     "output_type": "display_data"
    }
   ],
   "source": [
    "prep(df3)"
   ]
  },
  {
   "cell_type": "markdown",
   "metadata": {},
   "source": [
    "У третьего региона датасет со 100 тыс. строками, без пропусков. Признаки f0, f1, f2 распределены нормально. Целевой признак product имеет распределение, близкое к нормальному. "
   ]
  },
  {
   "cell_type": "code",
   "execution_count": 54,
   "metadata": {},
   "outputs": [],
   "source": [
    "# создадим функцию корреляции признаков\n",
    "def corr_features(data):\n",
    "    upp_mat = np.triu(data.corr())\n",
    "    sns.heatmap(data.corr(), vmin = -1, vmax = +1, annot = True, cmap = 'coolwarm', mask = upp_mat)"
   ]
  },
  {
   "cell_type": "code",
   "execution_count": 55,
   "metadata": {
    "scrolled": true
   },
   "outputs": [
    {
     "data": {
      "image/png": "[encoded data removed]",
      "text/plain": [
       "<Figure size 640x480 with 2 Axes>"
      ]
     },
     "metadata": {},
     "output_type": "display_data"
    }
   ],
   "source": [
    "corr_features(df1)"
   ]
  },
  {
   "cell_type": "markdown",
   "metadata": {},
   "source": [
    "Между собой у признаков максимальная корреляция -0.44 (f0 и f1). С целевым признаком максимальная корреляция у f2 (0.48)."
   ]
  },
  {
   "cell_type": "code",
   "execution_count": 56,
   "metadata": {},
   "outputs": [
    {
     "data": {
      "image/png": "[encoded data removed]",
      "text/plain": [
       "<Figure size 640x480 with 2 Axes>"
      ]
     },
     "metadata": {},
     "output_type": "display_data"
    }
   ],
   "source": [
    "corr_features(df2)"
   ]
  },
  {
   "cell_type": "markdown",
   "metadata": {},
   "source": [
    "Максимальный коэф. корреляции между признаками 0.18 (f0 и f1). Очень странно видеть коэф.корреляции 1 у f2 и таргета (product). В задании было указано, что эти данные синтетические. В жизни такие вряд ли будут)"
   ]
  },
  {
   "cell_type": "code",
   "execution_count": 57,
   "metadata": {},
   "outputs": [
    {
     "data": {
      "image/png": "[encoded data removed]",
      "text/plain": [
       "<Figure size 640x480 with 2 Axes>"
      ]
     },
     "metadata": {},
     "output_type": "display_data"
    }
   ],
   "source": [
    "corr_features(df3)"
   ]
  },
  {
   "cell_type": "markdown",
   "metadata": {},
   "source": [
    "Между признаками коэф. корреляции очень слабые. С таргетом хорошо коррелирует признак f2(0.45)."
   ]
  },
  {
   "cell_type": "markdown",
   "metadata": {},
   "source": [
    "### Вывод"
   ]
  },
  {
   "cell_type": "markdown",
   "metadata": {},
   "source": [
    "1. У нас есть 3 датасета с размерами 100тыс. строк и 4 основные признака (один из которых целевой - product) + id.  \n",
    "2. Пропусков, дубликатов нет.\n",
    "3. Смущает странные распределения f2 и product во втором датасете. И коэф. корреляции между ними 1. Это неестественно. Мое объяснение - синтетические данные, для этого датасета не совсем удачно сгенерированные.  \n",
    "4. Сильных зависимостей между признаками нет."
   ]
  },
  {
   "cell_type": "markdown",
   "metadata": {},
   "source": [
    "### Подготовка данных к обучению модели"
   ]
  },
  {
   "cell_type": "code",
   "execution_count": 58,
   "metadata": {},
   "outputs": [],
   "source": [
    "# напишем функцию для деления датафрейма на features/target с коэф. 0.25\n",
    "def split_features_target(data, coef):\n",
    "    target = data['product']\n",
    "    features = data.drop(['product', 'id'], axis=1)\n",
    "    features_train, features_valid, target_train, target_valid = train_test_split(features, target, test_size=coef, \n",
    "                                                                                random_state=RANDOM_STATE)\n",
    "    return features_train, features_valid, target_train, target_valid\n",
    "    "
   ]
  },
  {
   "cell_type": "code",
   "execution_count": 59,
   "metadata": {},
   "outputs": [],
   "source": [
    "feat_train_1, feat_valid_1, target_train_1, target_valid_1 = split_features_target(df1, 0.25)"
   ]
  },
  {
   "cell_type": "code",
   "execution_count": 60,
   "metadata": {},
   "outputs": [],
   "source": [
    "feat_train_2, feat_valid_2, target_train_2, target_valid_2 = split_features_target(df2, 0.25)"
   ]
  },
  {
   "cell_type": "code",
   "execution_count": 61,
   "metadata": {},
   "outputs": [],
   "source": [
    "feat_train_3, feat_valid_3, target_train_3, target_valid_3 = split_features_target(df3, 0.25)"
   ]
  },
  {
   "cell_type": "code",
   "execution_count": 62,
   "metadata": {},
   "outputs": [
    {
     "data": {
      "text/plain": [
       "36340     27.671557\n",
       "67280    165.908101\n",
       "97694    121.001842\n",
       "51303     56.963438\n",
       "71874     75.223567\n",
       "            ...    \n",
       "47757     83.662206\n",
       "58516    152.451945\n",
       "45075     20.688438\n",
       "59132     63.982049\n",
       "53895     65.385211\n",
       "Name: product, Length: 25000, dtype: float64"
      ]
     },
     "execution_count": 62,
     "metadata": {},
     "output_type": "execute_result"
    }
   ],
   "source": [
    "# check\n",
    "target_valid_1"
   ]
  },
  {
   "cell_type": "code",
   "execution_count": 63,
   "metadata": {
    "scrolled": true
   },
   "outputs": [
    {
     "data": {
      "text/plain": [
       "50177    121.610860\n",
       "73464    132.830492\n",
       "83834    133.585537\n",
       "4689     121.279285\n",
       "46028     56.675155\n",
       "Name: product, dtype: float64"
      ]
     },
     "execution_count": 63,
     "metadata": {},
     "output_type": "execute_result"
    }
   ],
   "source": [
    "# check\n",
    "target_train_1.head()"
   ]
  },
  {
   "cell_type": "markdown",
   "metadata": {},
   "source": [
    "## Обучение и проверка модели"
   ]
  },
  {
   "cell_type": "code",
   "execution_count": 64,
   "metadata": {},
   "outputs": [],
   "source": [
    "# создадим функцию для обучения модели, записи метрик, предиктов\n",
    "def fit_and_score(features_train, features_valid, target_train, target_valid):\n",
    "    model = LinearRegression().fit(features_train, target_train)\n",
    "    predict = model.predict(features_valid)\n",
    "    r2 = model.score(features_valid, target_valid)\n",
    "    pred_mean = predict.mean()\n",
    "    rmse = (mean_squared_error(target_valid, predict))**0.5\n",
    "    data = pd.DataFrame({'r2': [r2], 'rmse': [rmse], 'Средний запас предск.сырья, тыс.бар.': [pred_mean]}).round(4)\n",
    "    display(data)\n",
    "    return model, predict, r2, pred_mean, rmse"
   ]
  },
  {
   "cell_type": "code",
   "execution_count": 65,
   "metadata": {
    "scrolled": true
   },
   "outputs": [
    {
     "data": {
      "text/html": [
       "<div>\n",
       "<style scoped>\n",
       "    .dataframe tbody tr th:only-of-type {\n",
       "        vertical-align: middle;\n",
       "    }\n",
       "\n",
       "    .dataframe tbody tr th {\n",
       "        vertical-align: top;\n",
       "    }\n",
       "\n",
       "    .dataframe thead th {\n",
       "        text-align: right;\n",
       "    }\n",
       "</style>\n",
       "<table border=\"1\" class=\"dataframe\">\n",
       "  <thead>\n",
       "    <tr style=\"text-align: right;\">\n",
       "      <th></th>\n",
       "      <th>r2</th>\n",
       "      <th>rmse</th>\n",
       "      <th>Средний запас предск.сырья, тыс.бар.</th>\n",
       "    </tr>\n",
       "  </thead>\n",
       "  <tbody>\n",
       "    <tr>\n",
       "      <th>0</th>\n",
       "      <td>0.2778</td>\n",
       "      <td>37.5755</td>\n",
       "      <td>92.4153</td>\n",
       "    </tr>\n",
       "  </tbody>\n",
       "</table>\n",
       "</div>"
      ],
      "text/plain": [
       "       r2     rmse  Средний запас предск.сырья, тыс.бар.\n",
       "0  0.2778  37.5755                               92.4153"
      ]
     },
     "metadata": {},
     "output_type": "display_data"
    }
   ],
   "source": [
    "model_1, pred_1, r2_1, pred_mean_1, rmse_1 = fit_and_score(feat_train_1, feat_valid_1, target_train_1, target_valid_1)"
   ]
  },
  {
   "cell_type": "code",
   "execution_count": 66,
   "metadata": {},
   "outputs": [
    {
     "data": {
      "text/html": [
       "<div>\n",
       "<style scoped>\n",
       "    .dataframe tbody tr th:only-of-type {\n",
       "        vertical-align: middle;\n",
       "    }\n",
       "\n",
       "    .dataframe tbody tr th {\n",
       "        vertical-align: top;\n",
       "    }\n",
       "\n",
       "    .dataframe thead th {\n",
       "        text-align: right;\n",
       "    }\n",
       "</style>\n",
       "<table border=\"1\" class=\"dataframe\">\n",
       "  <thead>\n",
       "    <tr style=\"text-align: right;\">\n",
       "      <th></th>\n",
       "      <th>r2</th>\n",
       "      <th>rmse</th>\n",
       "      <th>Средний запас предск.сырья, тыс.бар.</th>\n",
       "    </tr>\n",
       "  </thead>\n",
       "  <tbody>\n",
       "    <tr>\n",
       "      <th>0</th>\n",
       "      <td>0.9996</td>\n",
       "      <td>0.8927</td>\n",
       "      <td>68.6727</td>\n",
       "    </tr>\n",
       "  </tbody>\n",
       "</table>\n",
       "</div>"
      ],
      "text/plain": [
       "       r2    rmse  Средний запас предск.сырья, тыс.бар.\n",
       "0  0.9996  0.8927                               68.6727"
      ]
     },
     "metadata": {},
     "output_type": "display_data"
    }
   ],
   "source": [
    "model_2, pred_2, r2_2, pred_mean_2, rmse_2 = fit_and_score(feat_train_2, feat_valid_2, target_train_2, target_valid_2)"
   ]
  },
  {
   "cell_type": "code",
   "execution_count": 67,
   "metadata": {},
   "outputs": [
    {
     "data": {
      "text/html": [
       "<div>\n",
       "<style scoped>\n",
       "    .dataframe tbody tr th:only-of-type {\n",
       "        vertical-align: middle;\n",
       "    }\n",
       "\n",
       "    .dataframe tbody tr th {\n",
       "        vertical-align: top;\n",
       "    }\n",
       "\n",
       "    .dataframe thead th {\n",
       "        text-align: right;\n",
       "    }\n",
       "</style>\n",
       "<table border=\"1\" class=\"dataframe\">\n",
       "  <thead>\n",
       "    <tr style=\"text-align: right;\">\n",
       "      <th></th>\n",
       "      <th>r2</th>\n",
       "      <th>rmse</th>\n",
       "      <th>Средний запас предск.сырья, тыс.бар.</th>\n",
       "    </tr>\n",
       "  </thead>\n",
       "  <tbody>\n",
       "    <tr>\n",
       "      <th>0</th>\n",
       "      <td>0.1947</td>\n",
       "      <td>40.114</td>\n",
       "      <td>94.9082</td>\n",
       "    </tr>\n",
       "  </tbody>\n",
       "</table>\n",
       "</div>"
      ],
      "text/plain": [
       "       r2    rmse  Средний запас предск.сырья, тыс.бар.\n",
       "0  0.1947  40.114                               94.9082"
      ]
     },
     "metadata": {},
     "output_type": "display_data"
    }
   ],
   "source": [
    "model_3, pred_3, r2_3, pred_mean_3, rmse_3 = fit_and_score(feat_train_3, feat_valid_3, target_train_3, target_valid_3)"
   ]
  },
  {
   "cell_type": "markdown",
   "metadata": {},
   "source": [
    "### Вывод"
   ]
  },
  {
   "cell_type": "markdown",
   "metadata": {},
   "source": [
    "1. Коэффициент детерминации невероятно высокий 0.9996 у модели второго региона - благодаря коэф. корреляции 1 (между f2 и product). У модели первого региона 0.2778, самый скромный у модели 3 региона 0.1947.  \n",
    "2. Минимальная rmse у модели первого региона 37.58, далее по возрастанию идут третий (40.11) и второй (0.8927).  \n",
    "3. Средний предсказанный запас сырья в тыс. баррелей: третий регион (94.91), первый (92.42), второй (68.67).  \n",
    "\n",
    "**Основные показатели моделей по трем регионам**\n",
    "\n",
    "|Регион    | R2        |  RMSE       |Средний запас предсказанного сырья, тыс.баррелей  |\n",
    "|----------|-----------|-------------|--------------------------------------------------|\n",
    "|регион 1 | 0.2778 |37.58 | 92.4153|\n",
    "|регион 2 |0.9996|0.8927|68.6727|\n",
    "|регион 3 |0.1947|40.114|94.9082|"
   ]
  },
  {
   "cell_type": "markdown",
   "metadata": {},
   "source": [
    "## Подготовка к расчёту прибыли"
   ]
  },
  {
   "cell_type": "code",
   "execution_count": 68,
   "metadata": {},
   "outputs": [],
   "source": [
    "BUDGET = 10**10\n",
    "PRICE_PER_1000_BARREL = 450000"
   ]
  },
  {
   "cell_type": "code",
   "execution_count": 69,
   "metadata": {},
   "outputs": [
    {
     "data": {
      "text/plain": [
       "111.11111111111111"
      ]
     },
     "execution_count": 69,
     "metadata": {},
     "output_type": "execute_result"
    }
   ],
   "source": [
    "# посчитаем безубыточный запас сырья в тыс. баррелей для каждой вышки\n",
    "stock = BUDGET / (PRICE_PER_1000_BARREL*200)\n",
    "stock"
   ]
  },
  {
   "cell_type": "code",
   "execution_count": 70,
   "metadata": {
    "scrolled": false
   },
   "outputs": [
    {
     "data": {
      "application/vnd.plotly.v1+json": {
       "config": {
        "plotlyServerURL": "https://plot.ly"
       },
       "data": [
        {
         "type": "bar",
         "x": [
          "регион 1",
          "регион 2",
          "регион 3",
          "запас безубыточности"
         ],
         "y": [
          92.4152933529185,
          68.67271393275183,
          94.90823424321351,
          111.11111111111111
         ]
        }
       ],
       "layout": {
        "barmode": "overlay",
        "margin": {
         "b": 0,
         "l": 0,
         "r": 0,
         "t": 40
        },
        "template": {
         "data": {
          "bar": [
           {
            "error_x": {
             "color": "#2a3f5f"
            },
            "error_y": {
             "color": "#2a3f5f"
            },
            "marker": {
             "line": {
              "color": "#E5ECF6",
              "width": 0.5
             },
             "pattern": {
              "fillmode": "overlay",
              "size": 10,
              "solidity": 0.2
             }
            },
            "type": "bar"
           }
          ],
          "barpolar": [
           {
            "marker": {
             "line": {
              "color": "#E5ECF6",
              "width": 0.5
             },
             "pattern": {
              "fillmode": "overlay",
              "size": 10,
              "solidity": 0.2
             }
            },
            "type": "barpolar"
           }
          ],
          "carpet": [
           {
            "aaxis": {
             "endlinecolor": "#2a3f5f",
             "gridcolor": "white",
             "linecolor": "white",
             "minorgridcolor": "white",
             "startlinecolor": "#2a3f5f"
            },
            "baxis": {
             "endlinecolor": "#2a3f5f",
             "gridcolor": "white",
             "linecolor": "white",
             "minorgridcolor": "white",
             "startlinecolor": "#2a3f5f"
            },
            "type": "carpet"
           }
          ],
          "choropleth": [
           {
            "colorbar": {
             "outlinewidth": 0,
             "ticks": ""
            },
            "type": "choropleth"
           }
          ],
          "contour": [
           {
            "colorbar": {
             "outlinewidth": 0,
             "ticks": ""
            },
            "colorscale": [
             [
              0,
              "#0d0887"
             ],
             [
              0.1111111111111111,
              "#46039f"
             ],
             [
              0.2222222222222222,
              "#7201a8"
             ],
             [
              0.3333333333333333,
              "#9c179e"
             ],
             [
              0.4444444444444444,
              "#bd3786"
             ],
             [
              0.5555555555555556,
              "#d8576b"
             ],
             [
              0.6666666666666666,
              "#ed7953"
             ],
             [
              0.7777777777777778,
              "#fb9f3a"
             ],
             [
              0.8888888888888888,
              "#fdca26"
             ],
             [
              1,
              "#f0f921"
             ]
            ],
            "type": "contour"
           }
          ],
          "contourcarpet": [
           {
            "colorbar": {
             "outlinewidth": 0,
             "ticks": ""
            },
            "type": "contourcarpet"
           }
          ],
          "heatmap": [
           {
            "colorbar": {
             "outlinewidth": 0,
             "ticks": ""
            },
            "colorscale": [
             [
              0,
              "#0d0887"
             ],
             [
              0.1111111111111111,
              "#46039f"
             ],
             [
              0.2222222222222222,
              "#7201a8"
             ],
             [
              0.3333333333333333,
              "#9c179e"
             ],
             [
              0.4444444444444444,
              "#bd3786"
             ],
             [
              0.5555555555555556,
              "#d8576b"
             ],
             [
              0.6666666666666666,
              "#ed7953"
             ],
             [
              0.7777777777777778,
              "#fb9f3a"
             ],
             [
              0.8888888888888888,
              "#fdca26"
             ],
             [
              1,
              "#f0f921"
             ]
            ],
            "type": "heatmap"
           }
          ],
          "heatmapgl": [
           {
            "colorbar": {
             "outlinewidth": 0,
             "ticks": ""
            },
            "colorscale": [
             [
              0,
              "#0d0887"
             ],
             [
              0.1111111111111111,
              "#46039f"
             ],
             [
              0.2222222222222222,
              "#7201a8"
             ],
             [
              0.3333333333333333,
              "#9c179e"
             ],
             [
              0.4444444444444444,
              "#bd3786"
             ],
             [
              0.5555555555555556,
              "#d8576b"
             ],
             [
              0.6666666666666666,
              "#ed7953"
             ],
             [
              0.7777777777777778,
              "#fb9f3a"
             ],
             [
              0.8888888888888888,
              "#fdca26"
             ],
             [
              1,
              "#f0f921"
             ]
            ],
            "type": "heatmapgl"
           }
          ],
          "histogram": [
           {
            "marker": {
             "pattern": {
              "fillmode": "overlay",
              "size": 10,
              "solidity": 0.2
             }
            },
            "type": "histogram"
           }
          ],
          "histogram2d": [
           {
            "colorbar": {
             "outlinewidth": 0,
             "ticks": ""
            },
            "colorscale": [
             [
              0,
              "#0d0887"
             ],
             [
              0.1111111111111111,
              "#46039f"
             ],
             [
              0.2222222222222222,
              "#7201a8"
             ],
             [
              0.3333333333333333,
              "#9c179e"
             ],
             [
              0.4444444444444444,
              "#bd3786"
             ],
             [
              0.5555555555555556,
              "#d8576b"
             ],
             [
              0.6666666666666666,
              "#ed7953"
             ],
             [
              0.7777777777777778,
              "#fb9f3a"
             ],
             [
              0.8888888888888888,
              "#fdca26"
             ],
             [
              1,
              "#f0f921"
             ]
            ],
            "type": "histogram2d"
           }
          ],
          "histogram2dcontour": [
           {
            "colorbar": {
             "outlinewidth": 0,
             "ticks": ""
            },
            "colorscale": [
             [
              0,
              "#0d0887"
             ],
             [
              0.1111111111111111,
              "#46039f"
             ],
             [
              0.2222222222222222,
              "#7201a8"
             ],
             [
              0.3333333333333333,
              "#9c179e"
             ],
             [
              0.4444444444444444,
              "#bd3786"
             ],
             [
              0.5555555555555556,
              "#d8576b"
             ],
             [
              0.6666666666666666,
              "#ed7953"
             ],
             [
              0.7777777777777778,
              "#fb9f3a"
             ],
             [
              0.8888888888888888,
              "#fdca26"
             ],
             [
              1,
              "#f0f921"
             ]
            ],
            "type": "histogram2dcontour"
           }
          ],
          "mesh3d": [
           {
            "colorbar": {
             "outlinewidth": 0,
             "ticks": ""
            },
            "type": "mesh3d"
           }
          ],
          "parcoords": [
           {
            "line": {
             "colorbar": {
              "outlinewidth": 0,
              "ticks": ""
             }
            },
            "type": "parcoords"
           }
          ],
          "pie": [
           {
            "automargin": true,
            "type": "pie"
           }
          ],
          "scatter": [
           {
            "fillpattern": {
             "fillmode": "overlay",
             "size": 10,
             "solidity": 0.2
            },
            "type": "scatter"
           }
          ],
          "scatter3d": [
           {
            "line": {
             "colorbar": {
              "outlinewidth": 0,
              "ticks": ""
             }
            },
            "marker": {
             "colorbar": {
              "outlinewidth": 0,
              "ticks": ""
             }
            },
            "type": "scatter3d"
           }
          ],
          "scattercarpet": [
           {
            "marker": {
             "colorbar": {
              "outlinewidth": 0,
              "ticks": ""
             }
            },
            "type": "scattercarpet"
           }
          ],
          "scattergeo": [
           {
            "marker": {
             "colorbar": {
              "outlinewidth": 0,
              "ticks": ""
             }
            },
            "type": "scattergeo"
           }
          ],
          "scattergl": [
           {
            "marker": {
             "colorbar": {
              "outlinewidth": 0,
              "ticks": ""
             }
            },
            "type": "scattergl"
           }
          ],
          "scattermapbox": [
           {
            "marker": {
             "colorbar": {
              "outlinewidth": 0,
              "ticks": ""
             }
            },
            "type": "scattermapbox"
           }
          ],
          "scatterpolar": [
           {
            "marker": {
             "colorbar": {
              "outlinewidth": 0,
              "ticks": ""
             }
            },
            "type": "scatterpolar"
           }
          ],
          "scatterpolargl": [
           {
            "marker": {
             "colorbar": {
              "outlinewidth": 0,
              "ticks": ""
             }
            },
            "type": "scatterpolargl"
           }
          ],
          "scatterternary": [
           {
            "marker": {
             "colorbar": {
              "outlinewidth": 0,
              "ticks": ""
             }
            },
            "type": "scatterternary"
           }
          ],
          "surface": [
           {
            "colorbar": {
             "outlinewidth": 0,
             "ticks": ""
            },
            "colorscale": [
             [
              0,
              "#0d0887"
             ],
             [
              0.1111111111111111,
              "#46039f"
             ],
             [
              0.2222222222222222,
              "#7201a8"
             ],
             [
              0.3333333333333333,
              "#9c179e"
             ],
             [
              0.4444444444444444,
              "#bd3786"
             ],
             [
              0.5555555555555556,
              "#d8576b"
             ],
             [
              0.6666666666666666,
              "#ed7953"
             ],
             [
              0.7777777777777778,
              "#fb9f3a"
             ],
             [
              0.8888888888888888,
              "#fdca26"
             ],
             [
              1,
              "#f0f921"
             ]
            ],
            "type": "surface"
           }
          ],
          "table": [
           {
            "cells": {
             "fill": {
              "color": "#EBF0F8"
             },
             "line": {
              "color": "white"
             }
            },
            "header": {
             "fill": {
              "color": "#C8D4E3"
             },
             "line": {
              "color": "white"
             }
            },
            "type": "table"
           }
          ]
         },
         "layout": {
          "annotationdefaults": {
           "arrowcolor": "#2a3f5f",
           "arrowhead": 0,
           "arrowwidth": 1
          },
          "autotypenumbers": "strict",
          "coloraxis": {
           "colorbar": {
            "outlinewidth": 0,
            "ticks": ""
           }
          },
          "colorscale": {
           "diverging": [
            [
             0,
             "#8e0152"
            ],
            [
             0.1,
             "#c51b7d"
            ],
            [
             0.2,
             "#de77ae"
            ],
            [
             0.3,
             "#f1b6da"
            ],
            [
             0.4,
             "#fde0ef"
            ],
            [
             0.5,
             "#f7f7f7"
            ],
            [
             0.6,
             "#e6f5d0"
            ],
            [
             0.7,
             "#b8e186"
            ],
            [
             0.8,
             "#7fbc41"
            ],
            [
             0.9,
             "#4d9221"
            ],
            [
             1,
             "#276419"
            ]
           ],
           "sequential": [
            [
             0,
             "#0d0887"
            ],
            [
             0.1111111111111111,
             "#46039f"
            ],
            [
             0.2222222222222222,
             "#7201a8"
            ],
            [
             0.3333333333333333,
             "#9c179e"
            ],
            [
             0.4444444444444444,
             "#bd3786"
            ],
            [
             0.5555555555555556,
             "#d8576b"
            ],
            [
             0.6666666666666666,
             "#ed7953"
            ],
            [
             0.7777777777777778,
             "#fb9f3a"
            ],
            [
             0.8888888888888888,
             "#fdca26"
            ],
            [
             1,
             "#f0f921"
            ]
           ],
           "sequentialminus": [
            [
             0,
             "#0d0887"
            ],
            [
             0.1111111111111111,
             "#46039f"
            ],
            [
             0.2222222222222222,
             "#7201a8"
            ],
            [
             0.3333333333333333,
             "#9c179e"
            ],
            [
             0.4444444444444444,
             "#bd3786"
            ],
            [
             0.5555555555555556,
             "#d8576b"
            ],
            [
             0.6666666666666666,
             "#ed7953"
            ],
            [
             0.7777777777777778,
             "#fb9f3a"
            ],
            [
             0.8888888888888888,
             "#fdca26"
            ],
            [
             1,
             "#f0f921"
            ]
           ]
          },
          "colorway": [
           "#636efa",
           "#EF553B",
           "#00cc96",
           "#ab63fa",
           "#FFA15A",
           "#19d3f3",
           "#FF6692",
           "#B6E880",
           "#FF97FF",
           "#FECB52"
          ],
          "font": {
           "color": "#2a3f5f"
          },
          "geo": {
           "bgcolor": "white",
           "lakecolor": "white",
           "landcolor": "#E5ECF6",
           "showlakes": true,
           "showland": true,
           "subunitcolor": "white"
          },
          "hoverlabel": {
           "align": "left"
          },
          "hovermode": "closest",
          "mapbox": {
           "style": "light"
          },
          "paper_bgcolor": "white",
          "plot_bgcolor": "#E5ECF6",
          "polar": {
           "angularaxis": {
            "gridcolor": "white",
            "linecolor": "white",
            "ticks": ""
           },
           "bgcolor": "#E5ECF6",
           "radialaxis": {
            "gridcolor": "white",
            "linecolor": "white",
            "ticks": ""
           }
          },
          "scene": {
           "xaxis": {
            "backgroundcolor": "#E5ECF6",
            "gridcolor": "white",
            "gridwidth": 2,
            "linecolor": "white",
            "showbackground": true,
            "ticks": "",
            "zerolinecolor": "white"
           },
           "yaxis": {
            "backgroundcolor": "#E5ECF6",
            "gridcolor": "white",
            "gridwidth": 2,
            "linecolor": "white",
            "showbackground": true,
            "ticks": "",
            "zerolinecolor": "white"
           },
           "zaxis": {
            "backgroundcolor": "#E5ECF6",
            "gridcolor": "white",
            "gridwidth": 2,
            "linecolor": "white",
            "showbackground": true,
            "ticks": "",
            "zerolinecolor": "white"
           }
          },
          "shapedefaults": {
           "line": {
            "color": "#2a3f5f"
           }
          },
          "ternary": {
           "aaxis": {
            "gridcolor": "white",
            "linecolor": "white",
            "ticks": ""
           },
           "baxis": {
            "gridcolor": "white",
            "linecolor": "white",
            "ticks": ""
           },
           "bgcolor": "#E5ECF6",
           "caxis": {
            "gridcolor": "white",
            "linecolor": "white",
            "ticks": ""
           }
          },
          "title": {
           "x": 0.05
          },
          "xaxis": {
           "automargin": true,
           "gridcolor": "white",
           "linecolor": "white",
           "ticks": "",
           "title": {
            "standoff": 15
           },
           "zerolinecolor": "white",
           "zerolinewidth": 2
          },
          "yaxis": {
           "automargin": true,
           "gridcolor": "white",
           "linecolor": "white",
           "ticks": "",
           "title": {
            "standoff": 15
           },
           "zerolinecolor": "white",
           "zerolinewidth": 2
          }
         }
        },
        "title": {
         "text": "Средний запас предсказанного сырья",
         "x": 0.5
        },
        "yaxis": {
         "title": {
          "text": "тыс. баррелей"
         }
        }
       }
      },
      "text/html": [
       "<div>                            <div id=\"6cb30c48-2f3a-440a-a4cd-b6cbc846d392\" class=\"plotly-graph-div\" style=\"height:525px; width:100%;\"></div>            <script type=\"text/javascript\">                require([\"plotly\"], function(Plotly) {                    window.PLOTLYENV=window.PLOTLYENV || {};                                    if (document.getElementById(\"6cb30c48-2f3a-440a-a4cd-b6cbc846d392\")) {                    Plotly.newPlot(                        \"6cb30c48-2f3a-440a-a4cd-b6cbc846d392\",                        [{\"x\":[\"\\u0440\\u0435\\u0433\\u0438\\u043e\\u043d 1\",\"\\u0440\\u0435\\u0433\\u0438\\u043e\\u043d 2\",\"\\u0440\\u0435\\u0433\\u0438\\u043e\\u043d 3\",\"\\u0437\\u0430\\u043f\\u0430\\u0441 \\u0431\\u0435\\u0437\\u0443\\u0431\\u044b\\u0442\\u043e\\u0447\\u043d\\u043e\\u0441\\u0442\\u0438\"],\"y\":[92.4152933529185,68.67271393275183,94.90823424321351,111.11111111111111],\"type\":\"bar\"}],                        {\"template\":{\"data\":{\"histogram2dcontour\":[{\"type\":\"histogram2dcontour\",\"colorbar\":{\"outlinewidth\":0,\"ticks\":\"\"},\"colorscale\":[[0.0,\"#0d0887\"],[0.1111111111111111,\"#46039f\"],[0.2222222222222222,\"#7201a8\"],[0.3333333333333333,\"#9c179e\"],[0.4444444444444444,\"#bd3786\"],[0.5555555555555556,\"#d8576b\"],[0.6666666666666666,\"#ed7953\"],[0.7777777777777778,\"#fb9f3a\"],[0.8888888888888888,\"#fdca26\"],[1.0,\"#f0f921\"]]}],\"choropleth\":[{\"type\":\"choropleth\",\"colorbar\":{\"outlinewidth\":0,\"ticks\":\"\"}}],\"histogram2d\":[{\"type\":\"histogram2d\",\"colorbar\":{\"outlinewidth\":0,\"ticks\":\"\"},\"colorscale\":[[0.0,\"#0d0887\"],[0.1111111111111111,\"#46039f\"],[0.2222222222222222,\"#7201a8\"],[0.3333333333333333,\"#9c179e\"],[0.4444444444444444,\"#bd3786\"],[0.5555555555555556,\"#d8576b\"],[0.6666666666666666,\"#ed7953\"],[0.7777777777777778,\"#fb9f3a\"],[0.8888888888888888,\"#fdca26\"],[1.0,\"#f0f921\"]]}],\"heatmap\":[{\"type\":\"heatmap\",\"colorbar\":{\"outlinewidth\":0,\"ticks\":\"\"},\"colorscale\":[[0.0,\"#0d0887\"],[0.1111111111111111,\"#46039f\"],[0.2222222222222222,\"#7201a8\"],[0.3333333333333333,\"#9c179e\"],[0.4444444444444444,\"#bd3786\"],[0.5555555555555556,\"#d8576b\"],[0.6666666666666666,\"#ed7953\"],[0.7777777777777778,\"#fb9f3a\"],[0.8888888888888888,\"#fdca26\"],[1.0,\"#f0f921\"]]}],\"heatmapgl\":[{\"type\":\"heatmapgl\",\"colorbar\":{\"outlinewidth\":0,\"ticks\":\"\"},\"colorscale\":[[0.0,\"#0d0887\"],[0.1111111111111111,\"#46039f\"],[0.2222222222222222,\"#7201a8\"],[0.3333333333333333,\"#9c179e\"],[0.4444444444444444,\"#bd3786\"],[0.5555555555555556,\"#d8576b\"],[0.6666666666666666,\"#ed7953\"],[0.7777777777777778,\"#fb9f3a\"],[0.8888888888888888,\"#fdca26\"],[1.0,\"#f0f921\"]]}],\"contourcarpet\":[{\"type\":\"contourcarpet\",\"colorbar\":{\"outlinewidth\":0,\"ticks\":\"\"}}],\"contour\":[{\"type\":\"contour\",\"colorbar\":{\"outlinewidth\":0,\"ticks\":\"\"},\"colorscale\":[[0.0,\"#0d0887\"],[0.1111111111111111,\"#46039f\"],[0.2222222222222222,\"#7201a8\"],[0.3333333333333333,\"#9c179e\"],[0.4444444444444444,\"#bd3786\"],[0.5555555555555556,\"#d8576b\"],[0.6666666666666666,\"#ed7953\"],[0.7777777777777778,\"#fb9f3a\"],[0.8888888888888888,\"#fdca26\"],[1.0,\"#f0f921\"]]}],\"surface\":[{\"type\":\"surface\",\"colorbar\":{\"outlinewidth\":0,\"ticks\":\"\"},\"colorscale\":[[0.0,\"#0d0887\"],[0.1111111111111111,\"#46039f\"],[0.2222222222222222,\"#7201a8\"],[0.3333333333333333,\"#9c179e\"],[0.4444444444444444,\"#bd3786\"],[0.5555555555555556,\"#d8576b\"],[0.6666666666666666,\"#ed7953\"],[0.7777777777777778,\"#fb9f3a\"],[0.8888888888888888,\"#fdca26\"],[1.0,\"#f0f921\"]]}],\"mesh3d\":[{\"type\":\"mesh3d\",\"colorbar\":{\"outlinewidth\":0,\"ticks\":\"\"}}],\"scatter\":[{\"fillpattern\":{\"fillmode\":\"overlay\",\"size\":10,\"solidity\":0.2},\"type\":\"scatter\"}],\"parcoords\":[{\"type\":\"parcoords\",\"line\":{\"colorbar\":{\"outlinewidth\":0,\"ticks\":\"\"}}}],\"scatterpolargl\":[{\"type\":\"scatterpolargl\",\"marker\":{\"colorbar\":{\"outlinewidth\":0,\"ticks\":\"\"}}}],\"bar\":[{\"error_x\":{\"color\":\"#2a3f5f\"},\"error_y\":{\"color\":\"#2a3f5f\"},\"marker\":{\"line\":{\"color\":\"#E5ECF6\",\"width\":0.5},\"pattern\":{\"fillmode\":\"overlay\",\"size\":10,\"solidity\":0.2}},\"type\":\"bar\"}],\"scattergeo\":[{\"type\":\"scattergeo\",\"marker\":{\"colorbar\":{\"outlinewidth\":0,\"ticks\":\"\"}}}],\"scatterpolar\":[{\"type\":\"scatterpolar\",\"marker\":{\"colorbar\":{\"outlinewidth\":0,\"ticks\":\"\"}}}],\"histogram\":[{\"marker\":{\"pattern\":{\"fillmode\":\"overlay\",\"size\":10,\"solidity\":0.2}},\"type\":\"histogram\"}],\"scattergl\":[{\"type\":\"scattergl\",\"marker\":{\"colorbar\":{\"outlinewidth\":0,\"ticks\":\"\"}}}],\"scatter3d\":[{\"type\":\"scatter3d\",\"line\":{\"colorbar\":{\"outlinewidth\":0,\"ticks\":\"\"}},\"marker\":{\"colorbar\":{\"outlinewidth\":0,\"ticks\":\"\"}}}],\"scattermapbox\":[{\"type\":\"scattermapbox\",\"marker\":{\"colorbar\":{\"outlinewidth\":0,\"ticks\":\"\"}}}],\"scatterternary\":[{\"type\":\"scatterternary\",\"marker\":{\"colorbar\":{\"outlinewidth\":0,\"ticks\":\"\"}}}],\"scattercarpet\":[{\"type\":\"scattercarpet\",\"marker\":{\"colorbar\":{\"outlinewidth\":0,\"ticks\":\"\"}}}],\"carpet\":[{\"aaxis\":{\"endlinecolor\":\"#2a3f5f\",\"gridcolor\":\"white\",\"linecolor\":\"white\",\"minorgridcolor\":\"white\",\"startlinecolor\":\"#2a3f5f\"},\"baxis\":{\"endlinecolor\":\"#2a3f5f\",\"gridcolor\":\"white\",\"linecolor\":\"white\",\"minorgridcolor\":\"white\",\"startlinecolor\":\"#2a3f5f\"},\"type\":\"carpet\"}],\"table\":[{\"cells\":{\"fill\":{\"color\":\"#EBF0F8\"},\"line\":{\"color\":\"white\"}},\"header\":{\"fill\":{\"color\":\"#C8D4E3\"},\"line\":{\"color\":\"white\"}},\"type\":\"table\"}],\"barpolar\":[{\"marker\":{\"line\":{\"color\":\"#E5ECF6\",\"width\":0.5},\"pattern\":{\"fillmode\":\"overlay\",\"size\":10,\"solidity\":0.2}},\"type\":\"barpolar\"}],\"pie\":[{\"automargin\":true,\"type\":\"pie\"}]},\"layout\":{\"autotypenumbers\":\"strict\",\"colorway\":[\"#636efa\",\"#EF553B\",\"#00cc96\",\"#ab63fa\",\"#FFA15A\",\"#19d3f3\",\"#FF6692\",\"#B6E880\",\"#FF97FF\",\"#FECB52\"],\"font\":{\"color\":\"#2a3f5f\"},\"hovermode\":\"closest\",\"hoverlabel\":{\"align\":\"left\"},\"paper_bgcolor\":\"white\",\"plot_bgcolor\":\"#E5ECF6\",\"polar\":{\"bgcolor\":\"#E5ECF6\",\"angularaxis\":{\"gridcolor\":\"white\",\"linecolor\":\"white\",\"ticks\":\"\"},\"radialaxis\":{\"gridcolor\":\"white\",\"linecolor\":\"white\",\"ticks\":\"\"}},\"ternary\":{\"bgcolor\":\"#E5ECF6\",\"aaxis\":{\"gridcolor\":\"white\",\"linecolor\":\"white\",\"ticks\":\"\"},\"baxis\":{\"gridcolor\":\"white\",\"linecolor\":\"white\",\"ticks\":\"\"},\"caxis\":{\"gridcolor\":\"white\",\"linecolor\":\"white\",\"ticks\":\"\"}},\"coloraxis\":{\"colorbar\":{\"outlinewidth\":0,\"ticks\":\"\"}},\"colorscale\":{\"sequential\":[[0.0,\"#0d0887\"],[0.1111111111111111,\"#46039f\"],[0.2222222222222222,\"#7201a8\"],[0.3333333333333333,\"#9c179e\"],[0.4444444444444444,\"#bd3786\"],[0.5555555555555556,\"#d8576b\"],[0.6666666666666666,\"#ed7953\"],[0.7777777777777778,\"#fb9f3a\"],[0.8888888888888888,\"#fdca26\"],[1.0,\"#f0f921\"]],\"sequentialminus\":[[0.0,\"#0d0887\"],[0.1111111111111111,\"#46039f\"],[0.2222222222222222,\"#7201a8\"],[0.3333333333333333,\"#9c179e\"],[0.4444444444444444,\"#bd3786\"],[0.5555555555555556,\"#d8576b\"],[0.6666666666666666,\"#ed7953\"],[0.7777777777777778,\"#fb9f3a\"],[0.8888888888888888,\"#fdca26\"],[1.0,\"#f0f921\"]],\"diverging\":[[0,\"#8e0152\"],[0.1,\"#c51b7d\"],[0.2,\"#de77ae\"],[0.3,\"#f1b6da\"],[0.4,\"#fde0ef\"],[0.5,\"#f7f7f7\"],[0.6,\"#e6f5d0\"],[0.7,\"#b8e186\"],[0.8,\"#7fbc41\"],[0.9,\"#4d9221\"],[1,\"#276419\"]]},\"xaxis\":{\"gridcolor\":\"white\",\"linecolor\":\"white\",\"ticks\":\"\",\"title\":{\"standoff\":15},\"zerolinecolor\":\"white\",\"automargin\":true,\"zerolinewidth\":2},\"yaxis\":{\"gridcolor\":\"white\",\"linecolor\":\"white\",\"ticks\":\"\",\"title\":{\"standoff\":15},\"zerolinecolor\":\"white\",\"automargin\":true,\"zerolinewidth\":2},\"scene\":{\"xaxis\":{\"backgroundcolor\":\"#E5ECF6\",\"gridcolor\":\"white\",\"linecolor\":\"white\",\"showbackground\":true,\"ticks\":\"\",\"zerolinecolor\":\"white\",\"gridwidth\":2},\"yaxis\":{\"backgroundcolor\":\"#E5ECF6\",\"gridcolor\":\"white\",\"linecolor\":\"white\",\"showbackground\":true,\"ticks\":\"\",\"zerolinecolor\":\"white\",\"gridwidth\":2},\"zaxis\":{\"backgroundcolor\":\"#E5ECF6\",\"gridcolor\":\"white\",\"linecolor\":\"white\",\"showbackground\":true,\"ticks\":\"\",\"zerolinecolor\":\"white\",\"gridwidth\":2}},\"shapedefaults\":{\"line\":{\"color\":\"#2a3f5f\"}},\"annotationdefaults\":{\"arrowcolor\":\"#2a3f5f\",\"arrowhead\":0,\"arrowwidth\":1},\"geo\":{\"bgcolor\":\"white\",\"landcolor\":\"#E5ECF6\",\"subunitcolor\":\"white\",\"showland\":true,\"showlakes\":true,\"lakecolor\":\"white\"},\"title\":{\"x\":0.05},\"mapbox\":{\"style\":\"light\"}}},\"title\":{\"text\":\"\\u0421\\u0440\\u0435\\u0434\\u043d\\u0438\\u0439 \\u0437\\u0430\\u043f\\u0430\\u0441 \\u043f\\u0440\\u0435\\u0434\\u0441\\u043a\\u0430\\u0437\\u0430\\u043d\\u043d\\u043e\\u0433\\u043e \\u0441\\u044b\\u0440\\u044c\\u044f\",\"x\":0.5},\"margin\":{\"l\":0,\"r\":0,\"t\":40,\"b\":0},\"yaxis\":{\"title\":{\"text\":\"\\u0442\\u044b\\u0441. \\u0431\\u0430\\u0440\\u0440\\u0435\\u043b\\u0435\\u0439\"}},\"barmode\":\"overlay\"},                        {\"responsive\": true}                    ).then(function(){\n",
       "                            \n",
       "var gd = document.getElementById('6cb30c48-2f3a-440a-a4cd-b6cbc846d392');\n",
       "var x = new MutationObserver(function (mutations, observer) {{\n",
       "        var display = window.getComputedStyle(gd).display;\n",
       "        if (!display || display === 'none') {{\n",
       "            console.log([gd, 'removed!']);\n",
       "            Plotly.purge(gd);\n",
       "            observer.disconnect();\n",
       "        }}\n",
       "}});\n",
       "\n",
       "// Listen for the removal of the full notebook cells\n",
       "var notebookContainer = gd.closest('#notebook-container');\n",
       "if (notebookContainer) {{\n",
       "    x.observe(notebookContainer, {childList: true});\n",
       "}}\n",
       "\n",
       "// Listen for the clearing of the current output cell\n",
       "var outputEl = gd.closest('.output');\n",
       "if (outputEl) {{\n",
       "    x.observe(outputEl, {childList: true});\n",
       "}}\n",
       "\n",
       "                        })                };                });            </script>        </div>"
      ]
     },
     "metadata": {},
     "output_type": "display_data"
    }
   ],
   "source": [
    "labels = ['регион 1', 'регион 2', 'регион 3', 'запас безубыточности']\n",
    "values = [pred_mean_1, pred_mean_2, pred_mean_3, stock]\n",
    "\n",
    "fig = go.Figure(data=[go.Bar(x = labels, y = values)])\n",
    "fig.update_layout(\n",
    "        title=\"Средний запас предсказанного сырья\",\n",
    "        title_x = 0.5,\n",
    "        yaxis_title=\"тыс. баррелей\",\n",
    "        barmode='overlay',\n",
    "        margin=dict(l=0, r=0, t=40, b=0))\n",
    "fig.show()"
   ]
  },
  {
   "cell_type": "code",
   "execution_count": 71,
   "metadata": {
    "scrolled": false
   },
   "outputs": [
    {
     "data": {
      "application/vnd.plotly.v1+json": {
       "config": {
        "plotlyServerURL": "https://plot.ly"
       },
       "data": [
        {
         "type": "bar",
         "x": [
          "регион 1",
          "регион 2",
          "регион 3",
          "запас безубыточности"
         ],
         "y": [
          92.50000000000001,
          68.82500000000002,
          95.00000000000004,
          111.11111111111111
         ]
        }
       ],
       "layout": {
        "barmode": "overlay",
        "legend": {
         "orientation": "h",
         "x": 0.5,
         "xanchor": "center"
        },
        "margin": {
         "b": 0,
         "l": 0,
         "r": 0,
         "t": 30
        },
        "template": {
         "data": {
          "bar": [
           {
            "error_x": {
             "color": "#2a3f5f"
            },
            "error_y": {
             "color": "#2a3f5f"
            },
            "marker": {
             "line": {
              "color": "#E5ECF6",
              "width": 0.5
             },
             "pattern": {
              "fillmode": "overlay",
              "size": 10,
              "solidity": 0.2
             }
            },
            "type": "bar"
           }
          ],
          "barpolar": [
           {
            "marker": {
             "line": {
              "color": "#E5ECF6",
              "width": 0.5
             },
             "pattern": {
              "fillmode": "overlay",
              "size": 10,
              "solidity": 0.2
             }
            },
            "type": "barpolar"
           }
          ],
          "carpet": [
           {
            "aaxis": {
             "endlinecolor": "#2a3f5f",
             "gridcolor": "white",
             "linecolor": "white",
             "minorgridcolor": "white",
             "startlinecolor": "#2a3f5f"
            },
            "baxis": {
             "endlinecolor": "#2a3f5f",
             "gridcolor": "white",
             "linecolor": "white",
             "minorgridcolor": "white",
             "startlinecolor": "#2a3f5f"
            },
            "type": "carpet"
           }
          ],
          "choropleth": [
           {
            "colorbar": {
             "outlinewidth": 0,
             "ticks": ""
            },
            "type": "choropleth"
           }
          ],
          "contour": [
           {
            "colorbar": {
             "outlinewidth": 0,
             "ticks": ""
            },
            "colorscale": [
             [
              0,
              "#0d0887"
             ],
             [
              0.1111111111111111,
              "#46039f"
             ],
             [
              0.2222222222222222,
              "#7201a8"
             ],
             [
              0.3333333333333333,
              "#9c179e"
             ],
             [
              0.4444444444444444,
              "#bd3786"
             ],
             [
              0.5555555555555556,
              "#d8576b"
             ],
             [
              0.6666666666666666,
              "#ed7953"
             ],
             [
              0.7777777777777778,
              "#fb9f3a"
             ],
             [
              0.8888888888888888,
              "#fdca26"
             ],
             [
              1,
              "#f0f921"
             ]
            ],
            "type": "contour"
           }
          ],
          "contourcarpet": [
           {
            "colorbar": {
             "outlinewidth": 0,
             "ticks": ""
            },
            "type": "contourcarpet"
           }
          ],
          "heatmap": [
           {
            "colorbar": {
             "outlinewidth": 0,
             "ticks": ""
            },
            "colorscale": [
             [
              0,
              "#0d0887"
             ],
             [
              0.1111111111111111,
              "#46039f"
             ],
             [
              0.2222222222222222,
              "#7201a8"
             ],
             [
              0.3333333333333333,
              "#9c179e"
             ],
             [
              0.4444444444444444,
              "#bd3786"
             ],
             [
              0.5555555555555556,
              "#d8576b"
             ],
             [
              0.6666666666666666,
              "#ed7953"
             ],
             [
              0.7777777777777778,
              "#fb9f3a"
             ],
             [
              0.8888888888888888,
              "#fdca26"
             ],
             [
              1,
              "#f0f921"
             ]
            ],
            "type": "heatmap"
           }
          ],
          "heatmapgl": [
           {
            "colorbar": {
             "outlinewidth": 0,
             "ticks": ""
            },
            "colorscale": [
             [
              0,
              "#0d0887"
             ],
             [
              0.1111111111111111,
              "#46039f"
             ],
             [
              0.2222222222222222,
              "#7201a8"
             ],
             [
              0.3333333333333333,
              "#9c179e"
             ],
             [
              0.4444444444444444,
              "#bd3786"
             ],
             [
              0.5555555555555556,
              "#d8576b"
             ],
             [
              0.6666666666666666,
              "#ed7953"
             ],
             [
              0.7777777777777778,
              "#fb9f3a"
             ],
             [
              0.8888888888888888,
              "#fdca26"
             ],
             [
              1,
              "#f0f921"
             ]
            ],
            "type": "heatmapgl"
           }
          ],
          "histogram": [
           {
            "marker": {
             "pattern": {
              "fillmode": "overlay",
              "size": 10,
              "solidity": 0.2
             }
            },
            "type": "histogram"
           }
          ],
          "histogram2d": [
           {
            "colorbar": {
             "outlinewidth": 0,
             "ticks": ""
            },
            "colorscale": [
             [
              0,
              "#0d0887"
             ],
             [
              0.1111111111111111,
              "#46039f"
             ],
             [
              0.2222222222222222,
              "#7201a8"
             ],
             [
              0.3333333333333333,
              "#9c179e"
             ],
             [
              0.4444444444444444,
              "#bd3786"
             ],
             [
              0.5555555555555556,
              "#d8576b"
             ],
             [
              0.6666666666666666,
              "#ed7953"
             ],
             [
              0.7777777777777778,
              "#fb9f3a"
             ],
             [
              0.8888888888888888,
              "#fdca26"
             ],
             [
              1,
              "#f0f921"
             ]
            ],
            "type": "histogram2d"
           }
          ],
          "histogram2dcontour": [
           {
            "colorbar": {
             "outlinewidth": 0,
             "ticks": ""
            },
            "colorscale": [
             [
              0,
              "#0d0887"
             ],
             [
              0.1111111111111111,
              "#46039f"
             ],
             [
              0.2222222222222222,
              "#7201a8"
             ],
             [
              0.3333333333333333,
              "#9c179e"
             ],
             [
              0.4444444444444444,
              "#bd3786"
             ],
             [
              0.5555555555555556,
              "#d8576b"
             ],
             [
              0.6666666666666666,
              "#ed7953"
             ],
             [
              0.7777777777777778,
              "#fb9f3a"
             ],
             [
              0.8888888888888888,
              "#fdca26"
             ],
             [
              1,
              "#f0f921"
             ]
            ],
            "type": "histogram2dcontour"
           }
          ],
          "mesh3d": [
           {
            "colorbar": {
             "outlinewidth": 0,
             "ticks": ""
            },
            "type": "mesh3d"
           }
          ],
          "parcoords": [
           {
            "line": {
             "colorbar": {
              "outlinewidth": 0,
              "ticks": ""
             }
            },
            "type": "parcoords"
           }
          ],
          "pie": [
           {
            "automargin": true,
            "type": "pie"
           }
          ],
          "scatter": [
           {
            "fillpattern": {
             "fillmode": "overlay",
             "size": 10,
             "solidity": 0.2
            },
            "type": "scatter"
           }
          ],
          "scatter3d": [
           {
            "line": {
             "colorbar": {
              "outlinewidth": 0,
              "ticks": ""
             }
            },
            "marker": {
             "colorbar": {
              "outlinewidth": 0,
              "ticks": ""
             }
            },
            "type": "scatter3d"
           }
          ],
          "scattercarpet": [
           {
            "marker": {
             "colorbar": {
              "outlinewidth": 0,
              "ticks": ""
             }
            },
            "type": "scattercarpet"
           }
          ],
          "scattergeo": [
           {
            "marker": {
             "colorbar": {
              "outlinewidth": 0,
              "ticks": ""
             }
            },
            "type": "scattergeo"
           }
          ],
          "scattergl": [
           {
            "marker": {
             "colorbar": {
              "outlinewidth": 0,
              "ticks": ""
             }
            },
            "type": "scattergl"
           }
          ],
          "scattermapbox": [
           {
            "marker": {
             "colorbar": {
              "outlinewidth": 0,
              "ticks": ""
             }
            },
            "type": "scattermapbox"
           }
          ],
          "scatterpolar": [
           {
            "marker": {
             "colorbar": {
              "outlinewidth": 0,
              "ticks": ""
             }
            },
            "type": "scatterpolar"
           }
          ],
          "scatterpolargl": [
           {
            "marker": {
             "colorbar": {
              "outlinewidth": 0,
              "ticks": ""
             }
            },
            "type": "scatterpolargl"
           }
          ],
          "scatterternary": [
           {
            "marker": {
             "colorbar": {
              "outlinewidth": 0,
              "ticks": ""
             }
            },
            "type": "scatterternary"
           }
          ],
          "surface": [
           {
            "colorbar": {
             "outlinewidth": 0,
             "ticks": ""
            },
            "colorscale": [
             [
              0,
              "#0d0887"
             ],
             [
              0.1111111111111111,
              "#46039f"
             ],
             [
              0.2222222222222222,
              "#7201a8"
             ],
             [
              0.3333333333333333,
              "#9c179e"
             ],
             [
              0.4444444444444444,
              "#bd3786"
             ],
             [
              0.5555555555555556,
              "#d8576b"
             ],
             [
              0.6666666666666666,
              "#ed7953"
             ],
             [
              0.7777777777777778,
              "#fb9f3a"
             ],
             [
              0.8888888888888888,
              "#fdca26"
             ],
             [
              1,
              "#f0f921"
             ]
            ],
            "type": "surface"
           }
          ],
          "table": [
           {
            "cells": {
             "fill": {
              "color": "#EBF0F8"
             },
             "line": {
              "color": "white"
             }
            },
            "header": {
             "fill": {
              "color": "#C8D4E3"
             },
             "line": {
              "color": "white"
             }
            },
            "type": "table"
           }
          ]
         },
         "layout": {
          "annotationdefaults": {
           "arrowcolor": "#2a3f5f",
           "arrowhead": 0,
           "arrowwidth": 1
          },
          "autotypenumbers": "strict",
          "coloraxis": {
           "colorbar": {
            "outlinewidth": 0,
            "ticks": ""
           }
          },
          "colorscale": {
           "diverging": [
            [
             0,
             "#8e0152"
            ],
            [
             0.1,
             "#c51b7d"
            ],
            [
             0.2,
             "#de77ae"
            ],
            [
             0.3,
             "#f1b6da"
            ],
            [
             0.4,
             "#fde0ef"
            ],
            [
             0.5,
             "#f7f7f7"
            ],
            [
             0.6,
             "#e6f5d0"
            ],
            [
             0.7,
             "#b8e186"
            ],
            [
             0.8,
             "#7fbc41"
            ],
            [
             0.9,
             "#4d9221"
            ],
            [
             1,
             "#276419"
            ]
           ],
           "sequential": [
            [
             0,
             "#0d0887"
            ],
            [
             0.1111111111111111,
             "#46039f"
            ],
            [
             0.2222222222222222,
             "#7201a8"
            ],
            [
             0.3333333333333333,
             "#9c179e"
            ],
            [
             0.4444444444444444,
             "#bd3786"
            ],
            [
             0.5555555555555556,
             "#d8576b"
            ],
            [
             0.6666666666666666,
             "#ed7953"
            ],
            [
             0.7777777777777778,
             "#fb9f3a"
            ],
            [
             0.8888888888888888,
             "#fdca26"
            ],
            [
             1,
             "#f0f921"
            ]
           ],
           "sequentialminus": [
            [
             0,
             "#0d0887"
            ],
            [
             0.1111111111111111,
             "#46039f"
            ],
            [
             0.2222222222222222,
             "#7201a8"
            ],
            [
             0.3333333333333333,
             "#9c179e"
            ],
            [
             0.4444444444444444,
             "#bd3786"
            ],
            [
             0.5555555555555556,
             "#d8576b"
            ],
            [
             0.6666666666666666,
             "#ed7953"
            ],
            [
             0.7777777777777778,
             "#fb9f3a"
            ],
            [
             0.8888888888888888,
             "#fdca26"
            ],
            [
             1,
             "#f0f921"
            ]
           ]
          },
          "colorway": [
           "#636efa",
           "#EF553B",
           "#00cc96",
           "#ab63fa",
           "#FFA15A",
           "#19d3f3",
           "#FF6692",
           "#B6E880",
           "#FF97FF",
           "#FECB52"
          ],
          "font": {
           "color": "#2a3f5f"
          },
          "geo": {
           "bgcolor": "white",
           "lakecolor": "white",
           "landcolor": "#E5ECF6",
           "showlakes": true,
           "showland": true,
           "subunitcolor": "white"
          },
          "hoverlabel": {
           "align": "left"
          },
          "hovermode": "closest",
          "mapbox": {
           "style": "light"
          },
          "paper_bgcolor": "white",
          "plot_bgcolor": "#E5ECF6",
          "polar": {
           "angularaxis": {
            "gridcolor": "white",
            "linecolor": "white",
            "ticks": ""
           },
           "bgcolor": "#E5ECF6",
           "radialaxis": {
            "gridcolor": "white",
            "linecolor": "white",
            "ticks": ""
           }
          },
          "scene": {
           "xaxis": {
            "backgroundcolor": "#E5ECF6",
            "gridcolor": "white",
            "gridwidth": 2,
            "linecolor": "white",
            "showbackground": true,
            "ticks": "",
            "zerolinecolor": "white"
           },
           "yaxis": {
            "backgroundcolor": "#E5ECF6",
            "gridcolor": "white",
            "gridwidth": 2,
            "linecolor": "white",
            "showbackground": true,
            "ticks": "",
            "zerolinecolor": "white"
           },
           "zaxis": {
            "backgroundcolor": "#E5ECF6",
            "gridcolor": "white",
            "gridwidth": 2,
            "linecolor": "white",
            "showbackground": true,
            "ticks": "",
            "zerolinecolor": "white"
           }
          },
          "shapedefaults": {
           "line": {
            "color": "#2a3f5f"
           }
          },
          "ternary": {
           "aaxis": {
            "gridcolor": "white",
            "linecolor": "white",
            "ticks": ""
           },
           "baxis": {
            "gridcolor": "white",
            "linecolor": "white",
            "ticks": ""
           },
           "bgcolor": "#E5ECF6",
           "caxis": {
            "gridcolor": "white",
            "linecolor": "white",
            "ticks": ""
           }
          },
          "title": {
           "x": 0.05
          },
          "xaxis": {
           "automargin": true,
           "gridcolor": "white",
           "linecolor": "white",
           "ticks": "",
           "title": {
            "standoff": 15
           },
           "zerolinecolor": "white",
           "zerolinewidth": 2
          },
          "yaxis": {
           "automargin": true,
           "gridcolor": "white",
           "linecolor": "white",
           "ticks": "",
           "title": {
            "standoff": 15
           },
           "zerolinecolor": "white",
           "zerolinewidth": 2
          }
         }
        },
        "title": {
         "text": "Средний запас сырья по таргету",
         "x": 0.5
        },
        "yaxis": {
         "title": {
          "text": "тыс. баррелей"
         }
        }
       }
      },
      "text/html": [
       "<div>                            <div id=\"069c6dd3-b012-4a90-a4e1-ffc8c42a430a\" class=\"plotly-graph-div\" style=\"height:525px; width:100%;\"></div>            <script type=\"text/javascript\">                require([\"plotly\"], function(Plotly) {                    window.PLOTLYENV=window.PLOTLYENV || {};                                    if (document.getElementById(\"069c6dd3-b012-4a90-a4e1-ffc8c42a430a\")) {                    Plotly.newPlot(                        \"069c6dd3-b012-4a90-a4e1-ffc8c42a430a\",                        [{\"x\":[\"\\u0440\\u0435\\u0433\\u0438\\u043e\\u043d 1\",\"\\u0440\\u0435\\u0433\\u0438\\u043e\\u043d 2\",\"\\u0440\\u0435\\u0433\\u0438\\u043e\\u043d 3\",\"\\u0437\\u0430\\u043f\\u0430\\u0441 \\u0431\\u0435\\u0437\\u0443\\u0431\\u044b\\u0442\\u043e\\u0447\\u043d\\u043e\\u0441\\u0442\\u0438\"],\"y\":[92.50000000000001,68.82500000000002,95.00000000000004,111.11111111111111],\"type\":\"bar\"}],                        {\"template\":{\"data\":{\"histogram2dcontour\":[{\"type\":\"histogram2dcontour\",\"colorbar\":{\"outlinewidth\":0,\"ticks\":\"\"},\"colorscale\":[[0.0,\"#0d0887\"],[0.1111111111111111,\"#46039f\"],[0.2222222222222222,\"#7201a8\"],[0.3333333333333333,\"#9c179e\"],[0.4444444444444444,\"#bd3786\"],[0.5555555555555556,\"#d8576b\"],[0.6666666666666666,\"#ed7953\"],[0.7777777777777778,\"#fb9f3a\"],[0.8888888888888888,\"#fdca26\"],[1.0,\"#f0f921\"]]}],\"choropleth\":[{\"type\":\"choropleth\",\"colorbar\":{\"outlinewidth\":0,\"ticks\":\"\"}}],\"histogram2d\":[{\"type\":\"histogram2d\",\"colorbar\":{\"outlinewidth\":0,\"ticks\":\"\"},\"colorscale\":[[0.0,\"#0d0887\"],[0.1111111111111111,\"#46039f\"],[0.2222222222222222,\"#7201a8\"],[0.3333333333333333,\"#9c179e\"],[0.4444444444444444,\"#bd3786\"],[0.5555555555555556,\"#d8576b\"],[0.6666666666666666,\"#ed7953\"],[0.7777777777777778,\"#fb9f3a\"],[0.8888888888888888,\"#fdca26\"],[1.0,\"#f0f921\"]]}],\"heatmap\":[{\"type\":\"heatmap\",\"colorbar\":{\"outlinewidth\":0,\"ticks\":\"\"},\"colorscale\":[[0.0,\"#0d0887\"],[0.1111111111111111,\"#46039f\"],[0.2222222222222222,\"#7201a8\"],[0.3333333333333333,\"#9c179e\"],[0.4444444444444444,\"#bd3786\"],[0.5555555555555556,\"#d8576b\"],[0.6666666666666666,\"#ed7953\"],[0.7777777777777778,\"#fb9f3a\"],[0.8888888888888888,\"#fdca26\"],[1.0,\"#f0f921\"]]}],\"heatmapgl\":[{\"type\":\"heatmapgl\",\"colorbar\":{\"outlinewidth\":0,\"ticks\":\"\"},\"colorscale\":[[0.0,\"#0d0887\"],[0.1111111111111111,\"#46039f\"],[0.2222222222222222,\"#7201a8\"],[0.3333333333333333,\"#9c179e\"],[0.4444444444444444,\"#bd3786\"],[0.5555555555555556,\"#d8576b\"],[0.6666666666666666,\"#ed7953\"],[0.7777777777777778,\"#fb9f3a\"],[0.8888888888888888,\"#fdca26\"],[1.0,\"#f0f921\"]]}],\"contourcarpet\":[{\"type\":\"contourcarpet\",\"colorbar\":{\"outlinewidth\":0,\"ticks\":\"\"}}],\"contour\":[{\"type\":\"contour\",\"colorbar\":{\"outlinewidth\":0,\"ticks\":\"\"},\"colorscale\":[[0.0,\"#0d0887\"],[0.1111111111111111,\"#46039f\"],[0.2222222222222222,\"#7201a8\"],[0.3333333333333333,\"#9c179e\"],[0.4444444444444444,\"#bd3786\"],[0.5555555555555556,\"#d8576b\"],[0.6666666666666666,\"#ed7953\"],[0.7777777777777778,\"#fb9f3a\"],[0.8888888888888888,\"#fdca26\"],[1.0,\"#f0f921\"]]}],\"surface\":[{\"type\":\"surface\",\"colorbar\":{\"outlinewidth\":0,\"ticks\":\"\"},\"colorscale\":[[0.0,\"#0d0887\"],[0.1111111111111111,\"#46039f\"],[0.2222222222222222,\"#7201a8\"],[0.3333333333333333,\"#9c179e\"],[0.4444444444444444,\"#bd3786\"],[0.5555555555555556,\"#d8576b\"],[0.6666666666666666,\"#ed7953\"],[0.7777777777777778,\"#fb9f3a\"],[0.8888888888888888,\"#fdca26\"],[1.0,\"#f0f921\"]]}],\"mesh3d\":[{\"type\":\"mesh3d\",\"colorbar\":{\"outlinewidth\":0,\"ticks\":\"\"}}],\"scatter\":[{\"fillpattern\":{\"fillmode\":\"overlay\",\"size\":10,\"solidity\":0.2},\"type\":\"scatter\"}],\"parcoords\":[{\"type\":\"parcoords\",\"line\":{\"colorbar\":{\"outlinewidth\":0,\"ticks\":\"\"}}}],\"scatterpolargl\":[{\"type\":\"scatterpolargl\",\"marker\":{\"colorbar\":{\"outlinewidth\":0,\"ticks\":\"\"}}}],\"bar\":[{\"error_x\":{\"color\":\"#2a3f5f\"},\"error_y\":{\"color\":\"#2a3f5f\"},\"marker\":{\"line\":{\"color\":\"#E5ECF6\",\"width\":0.5},\"pattern\":{\"fillmode\":\"overlay\",\"size\":10,\"solidity\":0.2}},\"type\":\"bar\"}],\"scattergeo\":[{\"type\":\"scattergeo\",\"marker\":{\"colorbar\":{\"outlinewidth\":0,\"ticks\":\"\"}}}],\"scatterpolar\":[{\"type\":\"scatterpolar\",\"marker\":{\"colorbar\":{\"outlinewidth\":0,\"ticks\":\"\"}}}],\"histogram\":[{\"marker\":{\"pattern\":{\"fillmode\":\"overlay\",\"size\":10,\"solidity\":0.2}},\"type\":\"histogram\"}],\"scattergl\":[{\"type\":\"scattergl\",\"marker\":{\"colorbar\":{\"outlinewidth\":0,\"ticks\":\"\"}}}],\"scatter3d\":[{\"type\":\"scatter3d\",\"line\":{\"colorbar\":{\"outlinewidth\":0,\"ticks\":\"\"}},\"marker\":{\"colorbar\":{\"outlinewidth\":0,\"ticks\":\"\"}}}],\"scattermapbox\":[{\"type\":\"scattermapbox\",\"marker\":{\"colorbar\":{\"outlinewidth\":0,\"ticks\":\"\"}}}],\"scatterternary\":[{\"type\":\"scatterternary\",\"marker\":{\"colorbar\":{\"outlinewidth\":0,\"ticks\":\"\"}}}],\"scattercarpet\":[{\"type\":\"scattercarpet\",\"marker\":{\"colorbar\":{\"outlinewidth\":0,\"ticks\":\"\"}}}],\"carpet\":[{\"aaxis\":{\"endlinecolor\":\"#2a3f5f\",\"gridcolor\":\"white\",\"linecolor\":\"white\",\"minorgridcolor\":\"white\",\"startlinecolor\":\"#2a3f5f\"},\"baxis\":{\"endlinecolor\":\"#2a3f5f\",\"gridcolor\":\"white\",\"linecolor\":\"white\",\"minorgridcolor\":\"white\",\"startlinecolor\":\"#2a3f5f\"},\"type\":\"carpet\"}],\"table\":[{\"cells\":{\"fill\":{\"color\":\"#EBF0F8\"},\"line\":{\"color\":\"white\"}},\"header\":{\"fill\":{\"color\":\"#C8D4E3\"},\"line\":{\"color\":\"white\"}},\"type\":\"table\"}],\"barpolar\":[{\"marker\":{\"line\":{\"color\":\"#E5ECF6\",\"width\":0.5},\"pattern\":{\"fillmode\":\"overlay\",\"size\":10,\"solidity\":0.2}},\"type\":\"barpolar\"}],\"pie\":[{\"automargin\":true,\"type\":\"pie\"}]},\"layout\":{\"autotypenumbers\":\"strict\",\"colorway\":[\"#636efa\",\"#EF553B\",\"#00cc96\",\"#ab63fa\",\"#FFA15A\",\"#19d3f3\",\"#FF6692\",\"#B6E880\",\"#FF97FF\",\"#FECB52\"],\"font\":{\"color\":\"#2a3f5f\"},\"hovermode\":\"closest\",\"hoverlabel\":{\"align\":\"left\"},\"paper_bgcolor\":\"white\",\"plot_bgcolor\":\"#E5ECF6\",\"polar\":{\"bgcolor\":\"#E5ECF6\",\"angularaxis\":{\"gridcolor\":\"white\",\"linecolor\":\"white\",\"ticks\":\"\"},\"radialaxis\":{\"gridcolor\":\"white\",\"linecolor\":\"white\",\"ticks\":\"\"}},\"ternary\":{\"bgcolor\":\"#E5ECF6\",\"aaxis\":{\"gridcolor\":\"white\",\"linecolor\":\"white\",\"ticks\":\"\"},\"baxis\":{\"gridcolor\":\"white\",\"linecolor\":\"white\",\"ticks\":\"\"},\"caxis\":{\"gridcolor\":\"white\",\"linecolor\":\"white\",\"ticks\":\"\"}},\"coloraxis\":{\"colorbar\":{\"outlinewidth\":0,\"ticks\":\"\"}},\"colorscale\":{\"sequential\":[[0.0,\"#0d0887\"],[0.1111111111111111,\"#46039f\"],[0.2222222222222222,\"#7201a8\"],[0.3333333333333333,\"#9c179e\"],[0.4444444444444444,\"#bd3786\"],[0.5555555555555556,\"#d8576b\"],[0.6666666666666666,\"#ed7953\"],[0.7777777777777778,\"#fb9f3a\"],[0.8888888888888888,\"#fdca26\"],[1.0,\"#f0f921\"]],\"sequentialminus\":[[0.0,\"#0d0887\"],[0.1111111111111111,\"#46039f\"],[0.2222222222222222,\"#7201a8\"],[0.3333333333333333,\"#9c179e\"],[0.4444444444444444,\"#bd3786\"],[0.5555555555555556,\"#d8576b\"],[0.6666666666666666,\"#ed7953\"],[0.7777777777777778,\"#fb9f3a\"],[0.8888888888888888,\"#fdca26\"],[1.0,\"#f0f921\"]],\"diverging\":[[0,\"#8e0152\"],[0.1,\"#c51b7d\"],[0.2,\"#de77ae\"],[0.3,\"#f1b6da\"],[0.4,\"#fde0ef\"],[0.5,\"#f7f7f7\"],[0.6,\"#e6f5d0\"],[0.7,\"#b8e186\"],[0.8,\"#7fbc41\"],[0.9,\"#4d9221\"],[1,\"#276419\"]]},\"xaxis\":{\"gridcolor\":\"white\",\"linecolor\":\"white\",\"ticks\":\"\",\"title\":{\"standoff\":15},\"zerolinecolor\":\"white\",\"automargin\":true,\"zerolinewidth\":2},\"yaxis\":{\"gridcolor\":\"white\",\"linecolor\":\"white\",\"ticks\":\"\",\"title\":{\"standoff\":15},\"zerolinecolor\":\"white\",\"automargin\":true,\"zerolinewidth\":2},\"scene\":{\"xaxis\":{\"backgroundcolor\":\"#E5ECF6\",\"gridcolor\":\"white\",\"linecolor\":\"white\",\"showbackground\":true,\"ticks\":\"\",\"zerolinecolor\":\"white\",\"gridwidth\":2},\"yaxis\":{\"backgroundcolor\":\"#E5ECF6\",\"gridcolor\":\"white\",\"linecolor\":\"white\",\"showbackground\":true,\"ticks\":\"\",\"zerolinecolor\":\"white\",\"gridwidth\":2},\"zaxis\":{\"backgroundcolor\":\"#E5ECF6\",\"gridcolor\":\"white\",\"linecolor\":\"white\",\"showbackground\":true,\"ticks\":\"\",\"zerolinecolor\":\"white\",\"gridwidth\":2}},\"shapedefaults\":{\"line\":{\"color\":\"#2a3f5f\"}},\"annotationdefaults\":{\"arrowcolor\":\"#2a3f5f\",\"arrowhead\":0,\"arrowwidth\":1},\"geo\":{\"bgcolor\":\"white\",\"landcolor\":\"#E5ECF6\",\"subunitcolor\":\"white\",\"showland\":true,\"showlakes\":true,\"lakecolor\":\"white\"},\"title\":{\"x\":0.05},\"mapbox\":{\"style\":\"light\"}}},\"title\":{\"text\":\"\\u0421\\u0440\\u0435\\u0434\\u043d\\u0438\\u0439 \\u0437\\u0430\\u043f\\u0430\\u0441 \\u0441\\u044b\\u0440\\u044c\\u044f \\u043f\\u043e \\u0442\\u0430\\u0440\\u0433\\u0435\\u0442\\u0443\",\"x\":0.5},\"legend\":{\"x\":0.5,\"xanchor\":\"center\",\"orientation\":\"h\"},\"margin\":{\"l\":0,\"r\":0,\"t\":30,\"b\":0},\"yaxis\":{\"title\":{\"text\":\"\\u0442\\u044b\\u0441. \\u0431\\u0430\\u0440\\u0440\\u0435\\u043b\\u0435\\u0439\"}},\"barmode\":\"overlay\"},                        {\"responsive\": true}                    ).then(function(){\n",
       "                            \n",
       "var gd = document.getElementById('069c6dd3-b012-4a90-a4e1-ffc8c42a430a');\n",
       "var x = new MutationObserver(function (mutations, observer) {{\n",
       "        var display = window.getComputedStyle(gd).display;\n",
       "        if (!display || display === 'none') {{\n",
       "            console.log([gd, 'removed!']);\n",
       "            Plotly.purge(gd);\n",
       "            observer.disconnect();\n",
       "        }}\n",
       "}});\n",
       "\n",
       "// Listen for the removal of the full notebook cells\n",
       "var notebookContainer = gd.closest('#notebook-container');\n",
       "if (notebookContainer) {{\n",
       "    x.observe(notebookContainer, {childList: true});\n",
       "}}\n",
       "\n",
       "// Listen for the clearing of the current output cell\n",
       "var outputEl = gd.closest('.output');\n",
       "if (outputEl) {{\n",
       "    x.observe(outputEl, {childList: true});\n",
       "}}\n",
       "\n",
       "                        })                };                });            </script>        </div>"
      ]
     },
     "metadata": {},
     "output_type": "display_data"
    }
   ],
   "source": [
    "labels = ['регион 1', 'регион 2', 'регион 3', 'запас безубыточности']\n",
    "values = [target_1.mean(), target_2.mean(), target_3.mean(), stock]\n",
    "\n",
    "fig = go.Figure(data=[go.Bar(x = labels, y = values)])\n",
    "fig.update_layout(\n",
    "        title=\"Средний запас сырья по таргету\",\n",
    "        title_x = 0.5,\n",
    "        yaxis_title=\"тыс. баррелей\",\n",
    "        legend=dict(x=.5, xanchor=\"center\", orientation=\"h\"),\n",
    "        barmode='overlay',\n",
    "        margin=dict(l=0, r=0, t=30, b=0))\n",
    "\n",
    "fig.show()"
   ]
  },
  {
   "cell_type": "markdown",
   "metadata": {},
   "source": [
    "### Вывод"
   ]
  },
  {
   "cell_type": "markdown",
   "metadata": {},
   "source": [
    "Средний запас предсказанного сырья всех регионов ниже уровня безубыточности. Если смотреть по средний запас по таргету - он также ниже во всех регионах, чем запас безубыточности. Наибольший средний запас у третьего региона, наименьший - у второго."
   ]
  },
  {
   "cell_type": "markdown",
   "metadata": {},
   "source": [
    "## Расчёт прибыли и рисков "
   ]
  },
  {
   "cell_type": "code",
   "execution_count": 72,
   "metadata": {},
   "outputs": [],
   "source": [
    "# функция для расчета прибыли\n",
    "def profit(predict, target):\n",
    "    pred_200_best = predict.sort_values(ascending=False)[:200]\n",
    "    volume = target[pred_200_best.index].sum()\n",
    "    profit = volume * PRICE_PER_1000_BARREL - BUDGET\n",
    "    return profit"
   ]
  },
  {
   "cell_type": "code",
   "execution_count": 73,
   "metadata": {},
   "outputs": [],
   "source": [
    "state = RandomState(100500)"
   ]
  },
  {
   "cell_type": "code",
   "execution_count": 74,
   "metadata": {
    "scrolled": true
   },
   "outputs": [],
   "source": [
    "# подготовим данные для корректной работы с индексами\n",
    "pred_1 = pd.Series(pred_1)\n",
    "pred_2 = pd.Series(pred_2)\n",
    "pred_3 = pd.Series(pred_3)\n",
    "target_valid_1 = target_valid_1.reset_index(drop=True)\n",
    "target_valid_2 = target_valid_2.reset_index(drop=True)\n",
    "target_valid_3 = target_valid_3.reset_index(drop=True)"
   ]
  },
  {
   "cell_type": "code",
   "execution_count": 75,
   "metadata": {
    "scrolled": false
   },
   "outputs": [
    {
     "data": {
      "text/plain": [
       "0         27.671557\n",
       "1        165.908101\n",
       "2        121.001842\n",
       "3         56.963438\n",
       "4         75.223567\n",
       "            ...    \n",
       "24995     83.662206\n",
       "24996    152.451945\n",
       "24997     20.688438\n",
       "24998     63.982049\n",
       "24999     65.385211\n",
       "Name: product, Length: 25000, dtype: float64"
      ]
     },
     "execution_count": 75,
     "metadata": {},
     "output_type": "execute_result"
    }
   ],
   "source": [
    "# chek\n",
    "target_valid_1"
   ]
  },
  {
   "cell_type": "code",
   "execution_count": 76,
   "metadata": {},
   "outputs": [
    {
     "data": {
      "text/plain": [
       "0         51.543962\n",
       "1        117.061689\n",
       "2         48.779390\n",
       "3         44.356555\n",
       "4         77.382501\n",
       "            ...    \n",
       "24995     89.283519\n",
       "24996     91.932722\n",
       "24997     73.109890\n",
       "24998     74.274137\n",
       "24999     95.490223\n",
       "Length: 25000, dtype: float64"
      ]
     },
     "execution_count": 76,
     "metadata": {},
     "output_type": "execute_result"
    }
   ],
   "source": [
    "# check\n",
    "pred_1"
   ]
  },
  {
   "cell_type": "code",
   "execution_count": 77,
   "metadata": {},
   "outputs": [],
   "source": [
    "# создаем итоговый фрейм с метриками, которые заполним ниже (сначала нулями)\n",
    "comparison = pd.DataFrame({'Средняя прибыль, руб.': np.zeros(3),\n",
    "                          'Квантиль 2.5%': np.zeros(3),\n",
    "                          'Квантиль 97.5%': np.zeros(3),\n",
    "                          'Вероятность убытков, %': np.zeros(3)}, index=['регион_1', 'регион_2', 'регион_3'])"
   ]
  },
  {
   "cell_type": "code",
   "execution_count": 78,
   "metadata": {
    "scrolled": false
   },
   "outputs": [
    {
     "data": {
      "application/vnd.plotly.v1+json": {
       "config": {
        "plotlyServerURL": "https://plot.ly"
       },
       "data": [
        {
         "name": "положительная прибыль",
         "opacity": 0.75,
         "type": "histogram",
         "x": [
          146291048.1005745,
          403824097.6262741,
          251262783.9087696,
          254204591.32326317,
          721403701.5307865,
          563986206.2643337,
          1143684133.2625713,
          482112273.4712124,
          506699012.58657646,
          508183675.5853481,
          526012906.95230675,
          383951986.9368324,
          350955980.7353821,
          815029220.9850578,
          278153766.38144875,
          350991302.46936226,
          285128199.3136997,
          314450584.1277218,
          84994174.6748581,
          572852438.8967743,
          931105592.4004612,
          519589906.74816513,
          183162376.60398865,
          621833516.1085625,
          671545828.7030582,
          478907892.1160202,
          252755947.95508957,
          201692532.4854107,
          769484079.0137177,
          553899847.6427517,
          382121926.8244629,
          437154375.54221916,
          731888908.6122055,
          522840617.2911873,
          -338883532.23324394,
          -39807186.16701126,
          312536463.17786026,
          356678624.85897255,
          840112082.9858551,
          379884909.39190865,
          395603822.31126785,
          655200164.9393711,
          412782618.1979332,
          917101440.4030457,
          507354777.31718445,
          249009185.27651978,
          1022633262.6648846,
          634989247.3385715,
          515978508.0398731,
          29762140.080083847,
          -42447590.3592453,
          700191662.5967026,
          479148454.430912,
          240519329.80329895,
          580175929.0805378,
          81496336.39745522,
          648863456.9656982,
          200239234.92116356,
          215037747.03760338,
          760151403.4806995,
          401196720.3520565,
          782191108.472683,
          444766484.60608864,
          240152267.36797714,
          848882506.7947063,
          827125473.0932178,
          540127047.375576,
          561987564.8748455,
          386055743.96198463,
          226081338.95931435,
          644533791.6515694,
          -269635920.92144775,
          235116147.8376274,
          719351724.3528385,
          529501039.5105915,
          265969698.7810688,
          565722949.9657326,
          709774131.5436459,
          651341565.2419777,
          227580762.18504906,
          606473374.288168,
          433032608.9976692,
          634492335.5844707,
          316954766.0265522,
          156657361.60359955,
          426139085.97190857,
          361849938.73695946,
          538381088.5975037,
          211445751.99088097,
          763081991.5370655,
          753327581.10116,
          113799915.97978973,
          288580950.7212601,
          399568796.0791187,
          54029742.54972458,
          594416704.1977959,
          683829723.4894505,
          817665042.8878288,
          426396774.23145103,
          809619143.5903912,
          1019210389.4506321,
          754502792.3203144,
          579498368.1556816,
          331249669.8406429,
          -51144684.46046829,
          390762629.1443691,
          585394767.8276634,
          44262543.496852875,
          279144782.4075947,
          684375169.2866116,
          360973900.38609886,
          164952891.37199593,
          378442867.84163475,
          204820241.64704704,
          331397369.2538624,
          801062443.6355133,
          190381334.95170212,
          453788744.7516041,
          293917647.68105125,
          656956646.6837559,
          377292946.8635044,
          128749667.0791626,
          562712581.7033939,
          155900441.38679886,
          800097819.3718281,
          460567836.881691,
          484787286.96375465,
          584418491.4283943,
          340354411.127903,
          731094656.0347233,
          253952224.04855347,
          311906554.7479973,
          307878375.8050957,
          252274772.00506592,
          298047459.3411007,
          156553027.20207787,
          -47336998.60728073,
          639583123.8151321,
          412658760.12251663,
          176174942.54793358,
          -64218627.58552933,
          371587711.5699272,
          737001785.2541561,
          772354356.50947,
          299977484.469368,
          199711807.58415604,
          55562067.97908211,
          83336169.99652672,
          280612980.7802105,
          406252169.08598137,
          308261638.9066963,
          869226153.0998478,
          493177359.9945965,
          846989784.7436085,
          134352324.536314,
          468915007.1674137,
          560967481.7315083,
          350616339.60025215,
          220258786.1982937,
          286340349.8925934,
          588822815.090065,
          137169688.8281021,
          70665034.30905724,
          650804955.7131615,
          697591395.4105663,
          454913806.76488304,
          241020540.0031414,
          457294067.0537319,
          813102830.8856087,
          193128133.60102272,
          -97053938.61303711,
          581526042.6817532,
          -60106037.372535706,
          782104020.4342365,
          785138362.8382282,
          685677856.723711,
          73722745.37274742,
          332454046.5892792,
          537083526.8905506,
          912602525.7059078,
          574197850.2712727,
          559421626.5178318,
          -229910978.8559513,
          582231578.487587,
          201507190.0656643,
          123999976.48929024,
          536521442.21229744,
          127597142.32159996,
          682782206.5747147,
          78114200.53233337,
          130001002.05009651,
          -190655755.66700554,
          724769658.9516907,
          669415871.3733788,
          337105783.9389534,
          477224338.9656544,
          510385843.355999,
          608185109.9882851,
          437277323.6344681,
          334587271.8040104,
          214054719.82774162,
          633242409.0924072,
          662470938.1872578,
          136620258.9276886,
          733685297.4570179,
          411959424.74246407,
          413871684.7880287,
          653262211.3515129,
          617467805.9773178,
          552330183.2074413,
          459978452.20633316,
          637767036.3231602,
          168247954.14622307,
          407157804.34604836,
          660093235.9123459,
          675804256.9047089,
          73401942.43426895,
          307662072.38357735,
          306253039.84612274,
          619271624.2373924,
          219199880.73805237,
          403864856.9172554,
          361604543.3906212,
          443956258.540411,
          130058611.68284988,
          187295630.2409382,
          615498507.4757767,
          487638435.9106941,
          776946718.5794888,
          309331637.89393044,
          237260148.29170227,
          877814652.2607956,
          681386884.373724,
          280954709.84487724,
          79044039.45262146,
          331923039.07650375,
          889698528.4105473,
          461303078.72078323,
          417645423.2246151,
          470972227.5993614,
          413198560.33753204,
          173860064.26861954,
          47537093.202215195,
          692603107.2578659,
          171348925.19574547,
          357714118.9699478,
          354295410.6204052,
          660472871.7386875,
          793616312.6835346,
          -115412251.1555481,
          328628954.59218407,
          775667898.8773727,
          233670673.62211037,
          670691762.6366825,
          280464201.8688812,
          329115626.5985756,
          58985752.42788124,
          416740061.56981087,
          -385516616.5388565,
          63325388.42606926,
          395177825.2266865,
          369751720.2620163,
          389169275.1426506,
          742718131.903553,
          535075942.0659275,
          161097582.24469185,
          122518225.39900589,
          52434675.98104477,
          105060697.21764946,
          550108942.4080105,
          1051484596.4624519,
          554727409.4992867,
          754454195.5941734,
          -116191920.80182838,
          893502772.4638805,
          642737416.2040653,
          -158813567.46228027,
          830542727.5115185,
          105538564.50253677,
          412597550.7253132,
          94396370.93354225,
          1084451018.4505234,
          406685894.2191372,
          530350930.4524059,
          566417367.579958,
          164252576.07329178,
          707015902.3747902,
          77346257.85929108,
          638816577.2952938,
          549200172.809185,
          634648038.0314178,
          583512381.3617554,
          633816194.4803963,
          319359862.54553413,
          417321894.69768715,
          532012497.85347176,
          677977149.2362213,
          825237392.9962101,
          225664154.99619484,
          481888996.2386646,
          591204789.1796055,
          239180317.78084755,
          -127110466.93268204,
          476144229.4389591,
          330534891.74785995,
          370108457.58896637,
          -6457568.000181198,
          153906491.87226295,
          725357795.8211155,
          722871490.2423363,
          581592200.5305767,
          598509197.3280983,
          384402453.45682526,
          649375032.2888641,
          407740885.258234,
          -13693757.821422577,
          891278108.2260189,
          657576747.90378,
          465596346.27911186,
          691662671.1964474,
          16575720.234794617,
          317351577.58478165,
          488587226.77726936,
          489857599.7712078,
          552753142.1531258,
          539561306.0963936,
          683506471.4509354,
          71498471.80710983,
          558781418.7348938,
          614577648.9587288,
          464241303.8616104,
          431380779.811203,
          473712386.12241364,
          374242883.2298298,
          495243990.6840267,
          604873897.0155964,
          435688097.79755974,
          777264115.4860973,
          480913954.1115875,
          802314239.759346,
          683248898.3528805,
          302858810.72924995,
          612452252.7749615,
          790553862.9465141,
          948999896.1888294,
          337312593.28499603,
          547274608.0447865,
          425731082.81191635,
          522444419.8921776,
          1043297512.4699059,
          129126814.10295105,
          586402790.1461334,
          389374194.87098885,
          259494894.16306114,
          792921608.2352009,
          292052296.1006813,
          327314387.6726303,
          628620716.2075748,
          503485713.90533257,
          274135729.0871506,
          368034931.3710499,
          624706049.8360672,
          25721208.86395645,
          378091668.07770157,
          416653453.44098854,
          -31608116.882816315,
          440539499.5659981,
          721285255.2951813,
          422703347.85375595,
          331213256.1947956,
          583381741.6692867,
          412287731.78085136,
          391906184.6224575,
          585945441.3900795,
          232918929.80920792,
          888376762.2178955,
          422624155.71837807,
          -158461968.2577877,
          243118206.97275543,
          218912256.40572357,
          783773891.5306644,
          236419983.06150246,
          683730372.5578041,
          581209912.563757,
          418723248.5927563,
          297199848.25655556,
          552756162.3975105,
          378776368.8185139,
          326052433.2622185,
          104346023.82271194,
          399769114.73194313,
          675921963.9274158,
          904331340.4618835,
          608023203.6694832,
          899154721.6205673,
          480117862.1852455,
          310121704.1984329,
          121065309.50056076,
          257331200.26643562,
          530524877.3614788,
          196275411.00082397,
          -40483484.60809708,
          302248294.73350906,
          476736378.2709732,
          374057493.73407745,
          143272972.91596603,
          99336227.60759354,
          169548799.32785034,
          793139836.635643,
          418612171.36922455,
          368085203.9083309,
          383774996.66420937,
          326962858.1846237,
          243075241.1247368,
          619558265.7765026,
          554158325.0126305,
          181046749.41292572,
          186193155.24157906,
          771815833.1318073,
          369108794.25545883,
          524405544.20251465,
          595607305.9451389,
          174853759.22278595,
          627344761.9558983,
          500338578.8986759,
          445072858.5710964,
          469536298.22359276,
          583496880.0723286,
          414179333.2735214,
          261814113.51797867,
          189806333.56720543,
          100288077.99642754,
          17242010.98561859,
          835764967.8522282,
          548998042.9178581,
          764089460.7986164,
          373445039.9487171,
          303793821.2923355,
          499880244.60736465,
          259554204.18188286,
          296969086.09503365,
          542528487.1861687,
          293391205.0158272,
          122703163.18399811,
          248414120.74504852,
          308171789.9790611,
          171196357.657547,
          37604953.27418518,
          698765948.2512703,
          260015828.09449387,
          380155140.54470444,
          110601910.388731,
          541038990.4805832,
          577869689.8239765,
          281534127.8935871,
          680686574.3491173,
          671061742.8349762,
          881725555.8789272,
          618408112.2612457,
          310180175.6866169,
          349465581.27958107,
          174418970.44456482,
          348663573.6599426,
          367364343.00642014,
          640609473.3066826,
          339968106.41784286,
          299467744.2381611,
          350666861.9527626,
          334433989.32105255,
          116724740.87920189,
          462333772.99921036,
          247038649.4415474,
          239348662.2792225,
          266841316.67559433,
          163912869.10918808,
          421623907.27963066,
          909739974.4301281,
          571081827.603569,
          275539129.01242447,
          321625814.733408,
          411732846.828207,
          82012772.10062027,
          512880188.7163639,
          167295873.12446022,
          59249148.2111187,
          621244872.0429249,
          752729817.9379063,
          405208026.34147835,
          646750465.2754402,
          760725537.5114384,
          947612108.9273643,
          474283181.1502514,
          828841037.308958,
          506806612.09970856,
          333060559.94771767,
          394592537.46465874,
          449761730.2375469,
          428926012.462471,
          516902226.91783524,
          521753572.39536095,
          102937151.16100693,
          428544131.29346085,
          585740115.1497383,
          364861149.8990898,
          71301573.47237206,
          546384783.8036404,
          237315481.17177963,
          522903818.2205143,
          453319442.87853813,
          916201502.7342033,
          608253733.4674778,
          291543782.1602459,
          565286332.3164024,
          454161511.33960533,
          155248859.76036072,
          989999245.231081,
          571259001.4761562,
          549410979.1463013,
          257093116.95648956,
          576550226.9772701,
          829970259.3457203,
          174733955.47908974,
          334817275.8630657,
          871833929.103857,
          563307884.5811825,
          494534370.8172245,
          684138874.022747,
          711625810.8942032,
          330528865.4839096,
          -22601589.77540207,
          107624298.64426231,
          442281355.142931,
          554203168.4959106,
          312726988.6266556,
          219667261.37765884,
          912499083.6733646,
          283739265.42201805,
          693905356.6463432,
          243578802.57474327,
          233873556.4823227,
          338896037.5353718,
          574261309.214735,
          559810303.6785679,
          119533944.97485542,
          133752217.50527382,
          525661637.74250984,
          293440595.20285225,
          807128848.0398636,
          243255447.1569729,
          606445213.3914719,
          615592103.1587086,
          467250002.7035961,
          665009148.2364445,
          27706983.61079979,
          627334954.6151257,
          156924603.45738602,
          442760783.2139969,
          428529275.53388405,
          189489167.75936508,
          159436884.79431152,
          199810093.2584324,
          710580932.982954,
          100038567.30745888,
          55665177.133693695,
          367495703.80555725,
          325479898.4585953,
          367259623.7586498,
          369209304.1989422,
          85114139.3049717,
          128842099.0945549,
          395309221.15660095,
          920927502.0683098,
          426479071.9730797,
          428845520.9922638,
          266374681.09010124,
          466450025.9769249,
          318037405.2322941,
          981764022.040638,
          396043562.4688816,
          189934029.64003754,
          299649592.0294628,
          693964399.6213226,
          555892100.6747036,
          674314898.1075249,
          459180729.1685085,
          175259543.19358635,
          474697163.133461,
          295002494.1917,
          394007653.6020355,
          390513478.9092102,
          653949639.607666,
          328666622.53998375,
          101953465.74871826,
          798614348.6258259,
          362565419.1544323,
          329441429.7013264,
          551676657.765295,
          294153746.77718353,
          103377417.43744278,
          401877514.84116364,
          705096682.9969997,
          690651764.7362442,
          596850275.5279732,
          127576799.6890831,
          429279958.39289856,
          429384303.74446106,
          332195694.90833855,
          241238087.06819153,
          165165239.63010025,
          407717359.01576614,
          783085551.6029568,
          212191821.25888252,
          342534242.3568859,
          380476515.82893753,
          196043396.12277985,
          427990149.77026176,
          612490207.642704,
          607218482.0668678,
          282848785.0891743,
          144704125.86763954,
          137549189.55544853,
          589697786.3849831,
          665389400.5375614,
          906394275.6422615,
          359360251.5062618,
          474752608.03886795,
          613998423.5294113,
          361534158.36611176,
          220285293.2885685,
          258783862.97595596,
          374870726.2329788,
          863505749.6300526,
          300556360.6242447,
          303491131.2261429,
          554034723.1749191,
          685013276.7507763,
          416703937.1689739,
          652308264.9452629,
          131673566.1070118,
          419865974.74284554,
          475432011.7890072,
          589214410.2948017,
          252536612.2592106,
          530531624.31069183,
          45396214.93525696,
          893690010.8650436,
          560380557.5389175,
          618951179.9475327,
          308418562.2293892,
          813189457.8703957,
          -61559605.45200729,
          776595718.6582699,
          1395962761.5055027,
          423490633.8962288,
          417612208.2798271,
          846436465.8457451,
          481096514.37132835,
          104136227.77126122,
          -75562042.14014244,
          122071066.50694466,
          118379494.86973,
          239271213.33657074,
          341196771.67058754,
          444385777.5596123,
          387909386.28131866,
          -20567735.883825302,
          360015066.74238396,
          319586282.6134434,
          577303370.4887695,
          572095831.1579647,
          610886923.6361752,
          554279642.3401852,
          326281825.9158478,
          199790139.1370468,
          67329852.65555954,
          674390600.3832626,
          234037310.86075592,
          227384873.3613186,
          -98380085.58880997,
          524229688.3403568,
          804738387.5315037,
          252329749.42815208,
          -7150797.792182922,
          25557927.87348175,
          436568872.82458115,
          536585640.9272957,
          385129621.4464302,
          644067349.404499,
          448391012.7257767,
          761087847.7233772,
          617273536.8643875,
          72801623.40856552,
          386341667.6898842,
          161037295.95446587,
          217805551.68815422,
          718154771.2746563,
          176262454.25024605,
          397436358.6926403,
          235692715.16706467,
          451393586.6717224,
          100026025.73205376,
          604575254.5868435,
          417125629.8054218,
          1058180951.2988472,
          165182756.63617706,
          350702036.55197334,
          681090566.2558384,
          601728327.4520626,
          212041794.61226082,
          723265972.618227,
          196205871.48435783,
          142557821.47109222,
          378698326.0253849,
          506940400.0748806,
          511600514.0076351,
          819078585.277523,
          246521948.7273636,
          297496780.9366722,
          483873683.8956852,
          302912186.54211044,
          431036277.69560623,
          589018832.6643963,
          554475369.8352947,
          630873985.737257,
          889474877.6538372,
          887118490.3711281,
          444677472.2745781,
          373111094.9424343,
          123986180.53484726,
          858166520.4832001,
          786289959.703352,
          398016392.532217,
          451864673.6074047,
          458904469.56917,
          352712805.5098038,
          498058991.41262627,
          839349580.072073,
          120107033.55727005,
          483261528.5195503,
          426514098.5298004,
          608036007.4922638,
          673190305.850872,
          607003707.0397816,
          825638236.4371586,
          526471838.6770439,
          248197665.46372223,
          634316408.4154472,
          408007396.8515644,
          355957992.63219833,
          820538745.8758335,
          379072531.9053364,
          129660895.25230217,
          838094359.0979176,
          463285326.34817314,
          557389388.6380444,
          105870140.36086464,
          473847330.7111168,
          556178358.0159473,
          22347160.459136963,
          -194843840.06409454,
          547419604.8898792,
          295091649.6419964,
          -5945164.8027534485,
          441788878.0974102,
          310430258.20872116,
          370204107.3905792,
          430970721.54156494,
          593115017.1232395,
          365391766.7989311,
          351920237.8246174,
          826887302.1522312,
          208225821.95035553,
          484534756.70648193,
          202240784.317585,
          338031436.3533344,
          903928129.5045738,
          487165710.03074074,
          462115157.0379238,
          640694854.6122093,
          322144333.2345581,
          223122207.22092628,
          634426526.8827839,
          604115358.6355839,
          501958898.9281063,
          358440023.9969902,
          512810638.8470993,
          184092300.05753136,
          489737979.4442692,
          467753610.13949394,
          204879133.4339962,
          545060011.4044247,
          316620924.52043724,
          236931889.5974083,
          541987537.0299892,
          337749050.86550903,
          602857128.4412899,
          655995493.4608517,
          351865667.36999893,
          380291053.2872505,
          38861245.742687225,
          166195910.5773716,
          451499870.58436394,
          497037735.2687874,
          416146141.65483856,
          312874114.8749943,
          389717398.5429096,
          104082864.0193634,
          718110791.6003437,
          686929789.4875355,
          266863117.37457275,
          399848283.03152275,
          269572184.1121712,
          533724142.6517086,
          361766031.5914211,
          406701743.9190006,
          546177123.7334309,
          217673480.05313492,
          774163881.9303169,
          265816664.2660637,
          664325134.9354496,
          607374041.0525208,
          212061511.61424446,
          411024896.76646614,
          335998118.5692234,
          1119744341.3652344,
          405943331.5501976,
          811593844.1665287,
          226073009.88806152,
          125189678.27614403,
          109798489.2379055,
          522018517.1319294,
          380320843.8371372,
          676252105.7422047,
          16036477.206888199,
          64078165.58090019,
          427392612.1273823,
          286918684.14186096,
          327314026.128479,
          235306016.59344482,
          580256324.492672,
          486486799.88827515,
          662861636.4771976,
          475682806.2299843,
          841687089.1678505,
          372873764.50738716,
          526019214.44340134,
          18809244.172977448,
          577975502.5352478,
          30246730.9024601,
          704305753.1596622,
          585012704.5267601,
          99206100.8622036,
          242707472.74733353,
          410169933.4325371,
          135829387.4305439,
          189327172.94631195,
          209875807.4788971,
          543286749.5890503,
          266022660.41719246,
          -69260799.17607689,
          651617443.8304062,
          619990129.7587242,
          319561900.0549259,
          663097259.2044678,
          867744983.9293079,
          451741460.8801708,
          394310305.9388466,
          559444889.0236816,
          812403451.2534885,
          504544065.1734028,
          659774108.995121,
          394698575.82463455,
          502099174.2255516,
          1027580915.5000858,
          -14424081.42565155,
          379783540.2450943,
          -14494032.78338623,
          481431489.5437813,
          498917728.86647224,
          432066771.416729,
          270306282.5310745,
          446903343.122797,
          855145191.4842567,
          110858868.42591476,
          860990910.1512871,
          480642101.72237396,
          647090711.5774231,
          307617529.05851936,
          188303245.01111412,
          335897672.3748112,
          497554412.92786026,
          784181123.0975056,
          381794766.24876976,
          200576627.60243607,
          364449731.86084366,
          -56273627.39760208,
          -311386466.13054657,
          252377186.35066414,
          285970674.626276,
          374744513.6671715,
          122681758.44106865,
          859508876.8201694,
          409401875.5918865,
          566289584.1389465,
          279478752.6009083,
          230120457.63082314,
          823730985.8422985,
          8403454.102096558,
          73939894.54911232,
          -349008069.8764229,
          390394185.4372864,
          613156007.0956535,
          -309429751.5650635,
          443845697.3399086,
          772397763.1931458,
          404618511.8444958,
          470598889.3651352,
          822472198.3371277,
          971878972.2115593,
          314201456.3895569,
          662030526.4083347,
          -44162314.44920349,
          1104544610.9181957,
          105897910.43026161,
          98220254.34601974,
          469845858.7784538,
          725792713.2069969,
          211212259.80458832,
          427958242.95970345,
          164158356.13807678,
          473685415.4041748,
          -31266811.848659515,
          274890539.2695255,
          84351285.15671349,
          516772739.04676247,
          -24252679.44336319,
          218236967.30129814,
          559010268.3780308,
          593701003.6374645,
          187215966.7085991,
          526317534.96395874,
          149947104.04537964,
          734195340.1532345,
          564492695.5956631,
          926057469.1906719,
          4871807.104352951,
          419619187.5111103,
          616322160.459158,
          834733450.8628922,
          428262418.0847225,
          988694487.5382214,
          664495751.7371044,
          205069233.1138687,
          139715384.06671524,
          509114971.15400505,
          529869929.2754955,
          613854134.8856392,
          249673868.10218048,
          266870868.1699276,
          163713202.82902336,
          376983198.38687897,
          117524752.44702339,
          77754177.03853607,
          322785209.2276993,
          214863467.86569405,
          334546237.9075279,
          283845786.6176243,
          696368164.1354313,
          553012815.0101166,
          713750274.6060467,
          386286467.4471855,
          339261114.95681953,
          249688785.15888405,
          813920218.3073959,
          42650074.14196968,
          414245307.6241684,
          255467202.3008976,
          277551100.73207664,
          710136323.4073219,
          849427579.7007389,
          -16766012.141901016,
          563084649.9889565,
          590982802.2271976,
          598060233.5233803,
          386120488.55626106,
          86273523.43978691,
          374382686.3026924,
          423489523.8471184,
          784485795.23983,
          1033477483.3146935,
          484863123.8967991,
          312627705.4199238,
          -260252344.91874313,
          605440660.1354599,
          5357161.494926453,
          791211809.9528484,
          413958075.9940624,
          402907984.4542637,
          242309607.3697605,
          531081633.35203934
         ]
        },
        {
         "name": "отрицательная прибыль",
         "opacity": 0.75,
         "type": "histogram",
         "x": [
          -338883532.23324394,
          -39807186.16701126,
          -42447590.3592453,
          -269635920.92144775,
          -51144684.46046829,
          -47336998.60728073,
          -64218627.58552933,
          -97053938.61303711,
          -60106037.372535706,
          -229910978.8559513,
          -190655755.66700554,
          -115412251.1555481,
          -385516616.5388565,
          -116191920.80182838,
          -158813567.46228027,
          -127110466.93268204,
          -6457568.000181198,
          -13693757.821422577,
          -31608116.882816315,
          -158461968.2577877,
          -40483484.60809708,
          -22601589.77540207,
          -61559605.45200729,
          -75562042.14014244,
          -20567735.883825302,
          -98380085.58880997,
          -7150797.792182922,
          -194843840.06409454,
          -5945164.8027534485,
          -69260799.17607689,
          -14424081.42565155,
          -14494032.78338623,
          -56273627.39760208,
          -311386466.13054657,
          -349008069.8764229,
          -309429751.5650635,
          -44162314.44920349,
          -31266811.848659515,
          -24252679.44336319,
          -16766012.141901016,
          -260252344.91874313
         ]
        }
       ],
       "layout": {
        "barmode": "overlay",
        "legend": {
         "orientation": "h",
         "x": 0.5,
         "xanchor": "center"
        },
        "margin": {
         "b": 0,
         "l": 0,
         "r": 0,
         "t": 30
        },
        "shapes": [
         {
          "line": {
           "color": "green",
           "dash": "dash",
           "width": 2
          },
          "type": "line",
          "x0": -44241681.553155415,
          "x1": -44241681.553155415,
          "xref": "x",
          "y0": 0,
          "y1": 1,
          "yref": "y domain"
         },
         {
          "line": {
           "color": "green",
           "dash": "dash",
           "width": 2
          },
          "type": "line",
          "x0": 909808952.161209,
          "x1": 909808952.161209,
          "xref": "x",
          "y0": 0,
          "y1": 1,
          "yref": "y domain"
         }
        ],
        "template": {
         "data": {
          "bar": [
           {
            "error_x": {
             "color": "#2a3f5f"
            },
            "error_y": {
             "color": "#2a3f5f"
            },
            "marker": {
             "line": {
              "color": "#E5ECF6",
              "width": 0.5
             },
             "pattern": {
              "fillmode": "overlay",
              "size": 10,
              "solidity": 0.2
             }
            },
            "type": "bar"
           }
          ],
          "barpolar": [
           {
            "marker": {
             "line": {
              "color": "#E5ECF6",
              "width": 0.5
             },
             "pattern": {
              "fillmode": "overlay",
              "size": 10,
              "solidity": 0.2
             }
            },
            "type": "barpolar"
           }
          ],
          "carpet": [
           {
            "aaxis": {
             "endlinecolor": "#2a3f5f",
             "gridcolor": "white",
             "linecolor": "white",
             "minorgridcolor": "white",
             "startlinecolor": "#2a3f5f"
            },
            "baxis": {
             "endlinecolor": "#2a3f5f",
             "gridcolor": "white",
             "linecolor": "white",
             "minorgridcolor": "white",
             "startlinecolor": "#2a3f5f"
            },
            "type": "carpet"
           }
          ],
          "choropleth": [
           {
            "colorbar": {
             "outlinewidth": 0,
             "ticks": ""
            },
            "type": "choropleth"
           }
          ],
          "contour": [
           {
            "colorbar": {
             "outlinewidth": 0,
             "ticks": ""
            },
            "colorscale": [
             [
              0,
              "#0d0887"
             ],
             [
              0.1111111111111111,
              "#46039f"
             ],
             [
              0.2222222222222222,
              "#7201a8"
             ],
             [
              0.3333333333333333,
              "#9c179e"
             ],
             [
              0.4444444444444444,
              "#bd3786"
             ],
             [
              0.5555555555555556,
              "#d8576b"
             ],
             [
              0.6666666666666666,
              "#ed7953"
             ],
             [
              0.7777777777777778,
              "#fb9f3a"
             ],
             [
              0.8888888888888888,
              "#fdca26"
             ],
             [
              1,
              "#f0f921"
             ]
            ],
            "type": "contour"
           }
          ],
          "contourcarpet": [
           {
            "colorbar": {
             "outlinewidth": 0,
             "ticks": ""
            },
            "type": "contourcarpet"
           }
          ],
          "heatmap": [
           {
            "colorbar": {
             "outlinewidth": 0,
             "ticks": ""
            },
            "colorscale": [
             [
              0,
              "#0d0887"
             ],
             [
              0.1111111111111111,
              "#46039f"
             ],
             [
              0.2222222222222222,
              "#7201a8"
             ],
             [
              0.3333333333333333,
              "#9c179e"
             ],
             [
              0.4444444444444444,
              "#bd3786"
             ],
             [
              0.5555555555555556,
              "#d8576b"
             ],
             [
              0.6666666666666666,
              "#ed7953"
             ],
             [
              0.7777777777777778,
              "#fb9f3a"
             ],
             [
              0.8888888888888888,
              "#fdca26"
             ],
             [
              1,
              "#f0f921"
             ]
            ],
            "type": "heatmap"
           }
          ],
          "heatmapgl": [
           {
            "colorbar": {
             "outlinewidth": 0,
             "ticks": ""
            },
            "colorscale": [
             [
              0,
              "#0d0887"
             ],
             [
              0.1111111111111111,
              "#46039f"
             ],
             [
              0.2222222222222222,
              "#7201a8"
             ],
             [
              0.3333333333333333,
              "#9c179e"
             ],
             [
              0.4444444444444444,
              "#bd3786"
             ],
             [
              0.5555555555555556,
              "#d8576b"
             ],
             [
              0.6666666666666666,
              "#ed7953"
             ],
             [
              0.7777777777777778,
              "#fb9f3a"
             ],
             [
              0.8888888888888888,
              "#fdca26"
             ],
             [
              1,
              "#f0f921"
             ]
            ],
            "type": "heatmapgl"
           }
          ],
          "histogram": [
           {
            "marker": {
             "pattern": {
              "fillmode": "overlay",
              "size": 10,
              "solidity": 0.2
             }
            },
            "type": "histogram"
           }
          ],
          "histogram2d": [
           {
            "colorbar": {
             "outlinewidth": 0,
             "ticks": ""
            },
            "colorscale": [
             [
              0,
              "#0d0887"
             ],
             [
              0.1111111111111111,
              "#46039f"
             ],
             [
              0.2222222222222222,
              "#7201a8"
             ],
             [
              0.3333333333333333,
              "#9c179e"
             ],
             [
              0.4444444444444444,
              "#bd3786"
             ],
             [
              0.5555555555555556,
              "#d8576b"
             ],
             [
              0.6666666666666666,
              "#ed7953"
             ],
             [
              0.7777777777777778,
              "#fb9f3a"
             ],
             [
              0.8888888888888888,
              "#fdca26"
             ],
             [
              1,
              "#f0f921"
             ]
            ],
            "type": "histogram2d"
           }
          ],
          "histogram2dcontour": [
           {
            "colorbar": {
             "outlinewidth": 0,
             "ticks": ""
            },
            "colorscale": [
             [
              0,
              "#0d0887"
             ],
             [
              0.1111111111111111,
              "#46039f"
             ],
             [
              0.2222222222222222,
              "#7201a8"
             ],
             [
              0.3333333333333333,
              "#9c179e"
             ],
             [
              0.4444444444444444,
              "#bd3786"
             ],
             [
              0.5555555555555556,
              "#d8576b"
             ],
             [
              0.6666666666666666,
              "#ed7953"
             ],
             [
              0.7777777777777778,
              "#fb9f3a"
             ],
             [
              0.8888888888888888,
              "#fdca26"
             ],
             [
              1,
              "#f0f921"
             ]
            ],
            "type": "histogram2dcontour"
           }
          ],
          "mesh3d": [
           {
            "colorbar": {
             "outlinewidth": 0,
             "ticks": ""
            },
            "type": "mesh3d"
           }
          ],
          "parcoords": [
           {
            "line": {
             "colorbar": {
              "outlinewidth": 0,
              "ticks": ""
             }
            },
            "type": "parcoords"
           }
          ],
          "pie": [
           {
            "automargin": true,
            "type": "pie"
           }
          ],
          "scatter": [
           {
            "fillpattern": {
             "fillmode": "overlay",
             "size": 10,
             "solidity": 0.2
            },
            "type": "scatter"
           }
          ],
          "scatter3d": [
           {
            "line": {
             "colorbar": {
              "outlinewidth": 0,
              "ticks": ""
             }
            },
            "marker": {
             "colorbar": {
              "outlinewidth": 0,
              "ticks": ""
             }
            },
            "type": "scatter3d"
           }
          ],
          "scattercarpet": [
           {
            "marker": {
             "colorbar": {
              "outlinewidth": 0,
              "ticks": ""
             }
            },
            "type": "scattercarpet"
           }
          ],
          "scattergeo": [
           {
            "marker": {
             "colorbar": {
              "outlinewidth": 0,
              "ticks": ""
             }
            },
            "type": "scattergeo"
           }
          ],
          "scattergl": [
           {
            "marker": {
             "colorbar": {
              "outlinewidth": 0,
              "ticks": ""
             }
            },
            "type": "scattergl"
           }
          ],
          "scattermapbox": [
           {
            "marker": {
             "colorbar": {
              "outlinewidth": 0,
              "ticks": ""
             }
            },
            "type": "scattermapbox"
           }
          ],
          "scatterpolar": [
           {
            "marker": {
             "colorbar": {
              "outlinewidth": 0,
              "ticks": ""
             }
            },
            "type": "scatterpolar"
           }
          ],
          "scatterpolargl": [
           {
            "marker": {
             "colorbar": {
              "outlinewidth": 0,
              "ticks": ""
             }
            },
            "type": "scatterpolargl"
           }
          ],
          "scatterternary": [
           {
            "marker": {
             "colorbar": {
              "outlinewidth": 0,
              "ticks": ""
             }
            },
            "type": "scatterternary"
           }
          ],
          "surface": [
           {
            "colorbar": {
             "outlinewidth": 0,
             "ticks": ""
            },
            "colorscale": [
             [
              0,
              "#0d0887"
             ],
             [
              0.1111111111111111,
              "#46039f"
             ],
             [
              0.2222222222222222,
              "#7201a8"
             ],
             [
              0.3333333333333333,
              "#9c179e"
             ],
             [
              0.4444444444444444,
              "#bd3786"
             ],
             [
              0.5555555555555556,
              "#d8576b"
             ],
             [
              0.6666666666666666,
              "#ed7953"
             ],
             [
              0.7777777777777778,
              "#fb9f3a"
             ],
             [
              0.8888888888888888,
              "#fdca26"
             ],
             [
              1,
              "#f0f921"
             ]
            ],
            "type": "surface"
           }
          ],
          "table": [
           {
            "cells": {
             "fill": {
              "color": "#EBF0F8"
             },
             "line": {
              "color": "white"
             }
            },
            "header": {
             "fill": {
              "color": "#C8D4E3"
             },
             "line": {
              "color": "white"
             }
            },
            "type": "table"
           }
          ]
         },
         "layout": {
          "annotationdefaults": {
           "arrowcolor": "#2a3f5f",
           "arrowhead": 0,
           "arrowwidth": 1
          },
          "autotypenumbers": "strict",
          "coloraxis": {
           "colorbar": {
            "outlinewidth": 0,
            "ticks": ""
           }
          },
          "colorscale": {
           "diverging": [
            [
             0,
             "#8e0152"
            ],
            [
             0.1,
             "#c51b7d"
            ],
            [
             0.2,
             "#de77ae"
            ],
            [
             0.3,
             "#f1b6da"
            ],
            [
             0.4,
             "#fde0ef"
            ],
            [
             0.5,
             "#f7f7f7"
            ],
            [
             0.6,
             "#e6f5d0"
            ],
            [
             0.7,
             "#b8e186"
            ],
            [
             0.8,
             "#7fbc41"
            ],
            [
             0.9,
             "#4d9221"
            ],
            [
             1,
             "#276419"
            ]
           ],
           "sequential": [
            [
             0,
             "#0d0887"
            ],
            [
             0.1111111111111111,
             "#46039f"
            ],
            [
             0.2222222222222222,
             "#7201a8"
            ],
            [
             0.3333333333333333,
             "#9c179e"
            ],
            [
             0.4444444444444444,
             "#bd3786"
            ],
            [
             0.5555555555555556,
             "#d8576b"
            ],
            [
             0.6666666666666666,
             "#ed7953"
            ],
            [
             0.7777777777777778,
             "#fb9f3a"
            ],
            [
             0.8888888888888888,
             "#fdca26"
            ],
            [
             1,
             "#f0f921"
            ]
           ],
           "sequentialminus": [
            [
             0,
             "#0d0887"
            ],
            [
             0.1111111111111111,
             "#46039f"
            ],
            [
             0.2222222222222222,
             "#7201a8"
            ],
            [
             0.3333333333333333,
             "#9c179e"
            ],
            [
             0.4444444444444444,
             "#bd3786"
            ],
            [
             0.5555555555555556,
             "#d8576b"
            ],
            [
             0.6666666666666666,
             "#ed7953"
            ],
            [
             0.7777777777777778,
             "#fb9f3a"
            ],
            [
             0.8888888888888888,
             "#fdca26"
            ],
            [
             1,
             "#f0f921"
            ]
           ]
          },
          "colorway": [
           "#636efa",
           "#EF553B",
           "#00cc96",
           "#ab63fa",
           "#FFA15A",
           "#19d3f3",
           "#FF6692",
           "#B6E880",
           "#FF97FF",
           "#FECB52"
          ],
          "font": {
           "color": "#2a3f5f"
          },
          "geo": {
           "bgcolor": "white",
           "lakecolor": "white",
           "landcolor": "#E5ECF6",
           "showlakes": true,
           "showland": true,
           "subunitcolor": "white"
          },
          "hoverlabel": {
           "align": "left"
          },
          "hovermode": "closest",
          "mapbox": {
           "style": "light"
          },
          "paper_bgcolor": "white",
          "plot_bgcolor": "#E5ECF6",
          "polar": {
           "angularaxis": {
            "gridcolor": "white",
            "linecolor": "white",
            "ticks": ""
           },
           "bgcolor": "#E5ECF6",
           "radialaxis": {
            "gridcolor": "white",
            "linecolor": "white",
            "ticks": ""
           }
          },
          "scene": {
           "xaxis": {
            "backgroundcolor": "#E5ECF6",
            "gridcolor": "white",
            "gridwidth": 2,
            "linecolor": "white",
            "showbackground": true,
            "ticks": "",
            "zerolinecolor": "white"
           },
           "yaxis": {
            "backgroundcolor": "#E5ECF6",
            "gridcolor": "white",
            "gridwidth": 2,
            "linecolor": "white",
            "showbackground": true,
            "ticks": "",
            "zerolinecolor": "white"
           },
           "zaxis": {
            "backgroundcolor": "#E5ECF6",
            "gridcolor": "white",
            "gridwidth": 2,
            "linecolor": "white",
            "showbackground": true,
            "ticks": "",
            "zerolinecolor": "white"
           }
          },
          "shapedefaults": {
           "line": {
            "color": "#2a3f5f"
           }
          },
          "ternary": {
           "aaxis": {
            "gridcolor": "white",
            "linecolor": "white",
            "ticks": ""
           },
           "baxis": {
            "gridcolor": "white",
            "linecolor": "white",
            "ticks": ""
           },
           "bgcolor": "#E5ECF6",
           "caxis": {
            "gridcolor": "white",
            "linecolor": "white",
            "ticks": ""
           }
          },
          "title": {
           "x": 0.05
          },
          "xaxis": {
           "automargin": true,
           "gridcolor": "white",
           "linecolor": "white",
           "ticks": "",
           "title": {
            "standoff": 15
           },
           "zerolinecolor": "white",
           "zerolinewidth": 2
          },
          "yaxis": {
           "automargin": true,
           "gridcolor": "white",
           "linecolor": "white",
           "ticks": "",
           "title": {
            "standoff": 15
           },
           "zerolinecolor": "white",
           "zerolinewidth": 2
          }
         }
        },
        "title": {
         "text": "Гистограмма прибыли 200 лучших скважин региона 1",
         "x": 0.5
        },
        "xaxis": {
         "title": {
          "text": "Прибыль"
         }
        }
       }
      },
      "text/html": [
       "<div>                            <div id=\"eb688122-53fd-4404-8148-c9142469ad79\" class=\"plotly-graph-div\" style=\"height:525px; width:100%;\"></div>            <script type=\"text/javascript\">                require([\"plotly\"], function(Plotly) {                    window.PLOTLYENV=window.PLOTLYENV || {};                                    if (document.getElementById(\"eb688122-53fd-4404-8148-c9142469ad79\")) {                    Plotly.newPlot(                        \"eb688122-53fd-4404-8148-c9142469ad79\",                        [{\"name\":\"\\u043f\\u043e\\u043b\\u043e\\u0436\\u0438\\u0442\\u0435\\u043b\\u044c\\u043d\\u0430\\u044f \\u043f\\u0440\\u0438\\u0431\\u044b\\u043b\\u044c\",\"opacity\":0.75,\"x\":[146291048.1005745,403824097.6262741,251262783.9087696,254204591.32326317,721403701.5307865,563986206.2643337,1143684133.2625713,482112273.4712124,506699012.58657646,508183675.5853481,526012906.95230675,383951986.9368324,350955980.7353821,815029220.9850578,278153766.38144875,350991302.46936226,285128199.3136997,314450584.1277218,84994174.6748581,572852438.8967743,931105592.4004612,519589906.74816513,183162376.60398865,621833516.1085625,671545828.7030582,478907892.1160202,252755947.95508957,201692532.4854107,769484079.0137177,553899847.6427517,382121926.8244629,437154375.54221916,731888908.6122055,522840617.2911873,-338883532.23324394,-39807186.16701126,312536463.17786026,356678624.85897255,840112082.9858551,379884909.39190865,395603822.31126785,655200164.9393711,412782618.1979332,917101440.4030457,507354777.31718445,249009185.27651978,1022633262.6648846,634989247.3385715,515978508.0398731,29762140.080083847,-42447590.3592453,700191662.5967026,479148454.430912,240519329.80329895,580175929.0805378,81496336.39745522,648863456.9656982,200239234.92116356,215037747.03760338,760151403.4806995,401196720.3520565,782191108.472683,444766484.60608864,240152267.36797714,848882506.7947063,827125473.0932178,540127047.375576,561987564.8748455,386055743.96198463,226081338.95931435,644533791.6515694,-269635920.92144775,235116147.8376274,719351724.3528385,529501039.5105915,265969698.7810688,565722949.9657326,709774131.5436459,651341565.2419777,227580762.18504906,606473374.288168,433032608.9976692,634492335.5844707,316954766.0265522,156657361.60359955,426139085.97190857,361849938.73695946,538381088.5975037,211445751.99088097,763081991.5370655,753327581.10116,113799915.97978973,288580950.7212601,399568796.0791187,54029742.54972458,594416704.1977959,683829723.4894505,817665042.8878288,426396774.23145103,809619143.5903912,1019210389.4506321,754502792.3203144,579498368.1556816,331249669.8406429,-51144684.46046829,390762629.1443691,585394767.8276634,44262543.496852875,279144782.4075947,684375169.2866116,360973900.38609886,164952891.37199593,378442867.84163475,204820241.64704704,331397369.2538624,801062443.6355133,190381334.95170212,453788744.7516041,293917647.68105125,656956646.6837559,377292946.8635044,128749667.0791626,562712581.7033939,155900441.38679886,800097819.3718281,460567836.881691,484787286.96375465,584418491.4283943,340354411.127903,731094656.0347233,253952224.04855347,311906554.7479973,307878375.8050957,252274772.00506592,298047459.3411007,156553027.20207787,-47336998.60728073,639583123.8151321,412658760.12251663,176174942.54793358,-64218627.58552933,371587711.5699272,737001785.2541561,772354356.50947,299977484.469368,199711807.58415604,55562067.97908211,83336169.99652672,280612980.7802105,406252169.08598137,308261638.9066963,869226153.0998478,493177359.9945965,846989784.7436085,134352324.536314,468915007.1674137,560967481.7315083,350616339.60025215,220258786.1982937,286340349.8925934,588822815.090065,137169688.8281021,70665034.30905724,650804955.7131615,697591395.4105663,454913806.76488304,241020540.0031414,457294067.0537319,813102830.8856087,193128133.60102272,-97053938.61303711,581526042.6817532,-60106037.372535706,782104020.4342365,785138362.8382282,685677856.723711,73722745.37274742,332454046.5892792,537083526.8905506,912602525.7059078,574197850.2712727,559421626.5178318,-229910978.8559513,582231578.487587,201507190.0656643,123999976.48929024,536521442.21229744,127597142.32159996,682782206.5747147,78114200.53233337,130001002.05009651,-190655755.66700554,724769658.9516907,669415871.3733788,337105783.9389534,477224338.9656544,510385843.355999,608185109.9882851,437277323.6344681,334587271.8040104,214054719.82774162,633242409.0924072,662470938.1872578,136620258.9276886,733685297.4570179,411959424.74246407,413871684.7880287,653262211.3515129,617467805.9773178,552330183.2074413,459978452.20633316,637767036.3231602,168247954.14622307,407157804.34604836,660093235.9123459,675804256.9047089,73401942.43426895,307662072.38357735,306253039.84612274,619271624.2373924,219199880.73805237,403864856.9172554,361604543.3906212,443956258.540411,130058611.68284988,187295630.2409382,615498507.4757767,487638435.9106941,776946718.5794888,309331637.89393044,237260148.29170227,877814652.2607956,681386884.373724,280954709.84487724,79044039.45262146,331923039.07650375,889698528.4105473,461303078.72078323,417645423.2246151,470972227.5993614,413198560.33753204,173860064.26861954,47537093.202215195,692603107.2578659,171348925.19574547,357714118.9699478,354295410.6204052,660472871.7386875,793616312.6835346,-115412251.1555481,328628954.59218407,775667898.8773727,233670673.62211037,670691762.6366825,280464201.8688812,329115626.5985756,58985752.42788124,416740061.56981087,-385516616.5388565,63325388.42606926,395177825.2266865,369751720.2620163,389169275.1426506,742718131.903553,535075942.0659275,161097582.24469185,122518225.39900589,52434675.98104477,105060697.21764946,550108942.4080105,1051484596.4624519,554727409.4992867,754454195.5941734,-116191920.80182838,893502772.4638805,642737416.2040653,-158813567.46228027,830542727.5115185,105538564.50253677,412597550.7253132,94396370.93354225,1084451018.4505234,406685894.2191372,530350930.4524059,566417367.579958,164252576.07329178,707015902.3747902,77346257.85929108,638816577.2952938,549200172.809185,634648038.0314178,583512381.3617554,633816194.4803963,319359862.54553413,417321894.69768715,532012497.85347176,677977149.2362213,825237392.9962101,225664154.99619484,481888996.2386646,591204789.1796055,239180317.78084755,-127110466.93268204,476144229.4389591,330534891.74785995,370108457.58896637,-6457568.000181198,153906491.87226295,725357795.8211155,722871490.2423363,581592200.5305767,598509197.3280983,384402453.45682526,649375032.2888641,407740885.258234,-13693757.821422577,891278108.2260189,657576747.90378,465596346.27911186,691662671.1964474,16575720.234794617,317351577.58478165,488587226.77726936,489857599.7712078,552753142.1531258,539561306.0963936,683506471.4509354,71498471.80710983,558781418.7348938,614577648.9587288,464241303.8616104,431380779.811203,473712386.12241364,374242883.2298298,495243990.6840267,604873897.0155964,435688097.79755974,777264115.4860973,480913954.1115875,802314239.759346,683248898.3528805,302858810.72924995,612452252.7749615,790553862.9465141,948999896.1888294,337312593.28499603,547274608.0447865,425731082.81191635,522444419.8921776,1043297512.4699059,129126814.10295105,586402790.1461334,389374194.87098885,259494894.16306114,792921608.2352009,292052296.1006813,327314387.6726303,628620716.2075748,503485713.90533257,274135729.0871506,368034931.3710499,624706049.8360672,25721208.86395645,378091668.07770157,416653453.44098854,-31608116.882816315,440539499.5659981,721285255.2951813,422703347.85375595,331213256.1947956,583381741.6692867,412287731.78085136,391906184.6224575,585945441.3900795,232918929.80920792,888376762.2178955,422624155.71837807,-158461968.2577877,243118206.97275543,218912256.40572357,783773891.5306644,236419983.06150246,683730372.5578041,581209912.563757,418723248.5927563,297199848.25655556,552756162.3975105,378776368.8185139,326052433.2622185,104346023.82271194,399769114.73194313,675921963.9274158,904331340.4618835,608023203.6694832,899154721.6205673,480117862.1852455,310121704.1984329,121065309.50056076,257331200.26643562,530524877.3614788,196275411.00082397,-40483484.60809708,302248294.73350906,476736378.2709732,374057493.73407745,143272972.91596603,99336227.60759354,169548799.32785034,793139836.635643,418612171.36922455,368085203.9083309,383774996.66420937,326962858.1846237,243075241.1247368,619558265.7765026,554158325.0126305,181046749.41292572,186193155.24157906,771815833.1318073,369108794.25545883,524405544.20251465,595607305.9451389,174853759.22278595,627344761.9558983,500338578.8986759,445072858.5710964,469536298.22359276,583496880.0723286,414179333.2735214,261814113.51797867,189806333.56720543,100288077.99642754,17242010.98561859,835764967.8522282,548998042.9178581,764089460.7986164,373445039.9487171,303793821.2923355,499880244.60736465,259554204.18188286,296969086.09503365,542528487.1861687,293391205.0158272,122703163.18399811,248414120.74504852,308171789.9790611,171196357.657547,37604953.27418518,698765948.2512703,260015828.09449387,380155140.54470444,110601910.388731,541038990.4805832,577869689.8239765,281534127.8935871,680686574.3491173,671061742.8349762,881725555.8789272,618408112.2612457,310180175.6866169,349465581.27958107,174418970.44456482,348663573.6599426,367364343.00642014,640609473.3066826,339968106.41784286,299467744.2381611,350666861.9527626,334433989.32105255,116724740.87920189,462333772.99921036,247038649.4415474,239348662.2792225,266841316.67559433,163912869.10918808,421623907.27963066,909739974.4301281,571081827.603569,275539129.01242447,321625814.733408,411732846.828207,82012772.10062027,512880188.7163639,167295873.12446022,59249148.2111187,621244872.0429249,752729817.9379063,405208026.34147835,646750465.2754402,760725537.5114384,947612108.9273643,474283181.1502514,828841037.308958,506806612.09970856,333060559.94771767,394592537.46465874,449761730.2375469,428926012.462471,516902226.91783524,521753572.39536095,102937151.16100693,428544131.29346085,585740115.1497383,364861149.8990898,71301573.47237206,546384783.8036404,237315481.17177963,522903818.2205143,453319442.87853813,916201502.7342033,608253733.4674778,291543782.1602459,565286332.3164024,454161511.33960533,155248859.76036072,989999245.231081,571259001.4761562,549410979.1463013,257093116.95648956,576550226.9772701,829970259.3457203,174733955.47908974,334817275.8630657,871833929.103857,563307884.5811825,494534370.8172245,684138874.022747,711625810.8942032,330528865.4839096,-22601589.77540207,107624298.64426231,442281355.142931,554203168.4959106,312726988.6266556,219667261.37765884,912499083.6733646,283739265.42201805,693905356.6463432,243578802.57474327,233873556.4823227,338896037.5353718,574261309.214735,559810303.6785679,119533944.97485542,133752217.50527382,525661637.74250984,293440595.20285225,807128848.0398636,243255447.1569729,606445213.3914719,615592103.1587086,467250002.7035961,665009148.2364445,27706983.61079979,627334954.6151257,156924603.45738602,442760783.2139969,428529275.53388405,189489167.75936508,159436884.79431152,199810093.2584324,710580932.982954,100038567.30745888,55665177.133693695,367495703.80555725,325479898.4585953,367259623.7586498,369209304.1989422,85114139.3049717,128842099.0945549,395309221.15660095,920927502.0683098,426479071.9730797,428845520.9922638,266374681.09010124,466450025.9769249,318037405.2322941,981764022.040638,396043562.4688816,189934029.64003754,299649592.0294628,693964399.6213226,555892100.6747036,674314898.1075249,459180729.1685085,175259543.19358635,474697163.133461,295002494.1917,394007653.6020355,390513478.9092102,653949639.607666,328666622.53998375,101953465.74871826,798614348.6258259,362565419.1544323,329441429.7013264,551676657.765295,294153746.77718353,103377417.43744278,401877514.84116364,705096682.9969997,690651764.7362442,596850275.5279732,127576799.6890831,429279958.39289856,429384303.74446106,332195694.90833855,241238087.06819153,165165239.63010025,407717359.01576614,783085551.6029568,212191821.25888252,342534242.3568859,380476515.82893753,196043396.12277985,427990149.77026176,612490207.642704,607218482.0668678,282848785.0891743,144704125.86763954,137549189.55544853,589697786.3849831,665389400.5375614,906394275.6422615,359360251.5062618,474752608.03886795,613998423.5294113,361534158.36611176,220285293.2885685,258783862.97595596,374870726.2329788,863505749.6300526,300556360.6242447,303491131.2261429,554034723.1749191,685013276.7507763,416703937.1689739,652308264.9452629,131673566.1070118,419865974.74284554,475432011.7890072,589214410.2948017,252536612.2592106,530531624.31069183,45396214.93525696,893690010.8650436,560380557.5389175,618951179.9475327,308418562.2293892,813189457.8703957,-61559605.45200729,776595718.6582699,1395962761.5055027,423490633.8962288,417612208.2798271,846436465.8457451,481096514.37132835,104136227.77126122,-75562042.14014244,122071066.50694466,118379494.86973,239271213.33657074,341196771.67058754,444385777.5596123,387909386.28131866,-20567735.883825302,360015066.74238396,319586282.6134434,577303370.4887695,572095831.1579647,610886923.6361752,554279642.3401852,326281825.9158478,199790139.1370468,67329852.65555954,674390600.3832626,234037310.86075592,227384873.3613186,-98380085.58880997,524229688.3403568,804738387.5315037,252329749.42815208,-7150797.792182922,25557927.87348175,436568872.82458115,536585640.9272957,385129621.4464302,644067349.404499,448391012.7257767,761087847.7233772,617273536.8643875,72801623.40856552,386341667.6898842,161037295.95446587,217805551.68815422,718154771.2746563,176262454.25024605,397436358.6926403,235692715.16706467,451393586.6717224,100026025.73205376,604575254.5868435,417125629.8054218,1058180951.2988472,165182756.63617706,350702036.55197334,681090566.2558384,601728327.4520626,212041794.61226082,723265972.618227,196205871.48435783,142557821.47109222,378698326.0253849,506940400.0748806,511600514.0076351,819078585.277523,246521948.7273636,297496780.9366722,483873683.8956852,302912186.54211044,431036277.69560623,589018832.6643963,554475369.8352947,630873985.737257,889474877.6538372,887118490.3711281,444677472.2745781,373111094.9424343,123986180.53484726,858166520.4832001,786289959.703352,398016392.532217,451864673.6074047,458904469.56917,352712805.5098038,498058991.41262627,839349580.072073,120107033.55727005,483261528.5195503,426514098.5298004,608036007.4922638,673190305.850872,607003707.0397816,825638236.4371586,526471838.6770439,248197665.46372223,634316408.4154472,408007396.8515644,355957992.63219833,820538745.8758335,379072531.9053364,129660895.25230217,838094359.0979176,463285326.34817314,557389388.6380444,105870140.36086464,473847330.7111168,556178358.0159473,22347160.459136963,-194843840.06409454,547419604.8898792,295091649.6419964,-5945164.8027534485,441788878.0974102,310430258.20872116,370204107.3905792,430970721.54156494,593115017.1232395,365391766.7989311,351920237.8246174,826887302.1522312,208225821.95035553,484534756.70648193,202240784.317585,338031436.3533344,903928129.5045738,487165710.03074074,462115157.0379238,640694854.6122093,322144333.2345581,223122207.22092628,634426526.8827839,604115358.6355839,501958898.9281063,358440023.9969902,512810638.8470993,184092300.05753136,489737979.4442692,467753610.13949394,204879133.4339962,545060011.4044247,316620924.52043724,236931889.5974083,541987537.0299892,337749050.86550903,602857128.4412899,655995493.4608517,351865667.36999893,380291053.2872505,38861245.742687225,166195910.5773716,451499870.58436394,497037735.2687874,416146141.65483856,312874114.8749943,389717398.5429096,104082864.0193634,718110791.6003437,686929789.4875355,266863117.37457275,399848283.03152275,269572184.1121712,533724142.6517086,361766031.5914211,406701743.9190006,546177123.7334309,217673480.05313492,774163881.9303169,265816664.2660637,664325134.9354496,607374041.0525208,212061511.61424446,411024896.76646614,335998118.5692234,1119744341.3652344,405943331.5501976,811593844.1665287,226073009.88806152,125189678.27614403,109798489.2379055,522018517.1319294,380320843.8371372,676252105.7422047,16036477.206888199,64078165.58090019,427392612.1273823,286918684.14186096,327314026.128479,235306016.59344482,580256324.492672,486486799.88827515,662861636.4771976,475682806.2299843,841687089.1678505,372873764.50738716,526019214.44340134,18809244.172977448,577975502.5352478,30246730.9024601,704305753.1596622,585012704.5267601,99206100.8622036,242707472.74733353,410169933.4325371,135829387.4305439,189327172.94631195,209875807.4788971,543286749.5890503,266022660.41719246,-69260799.17607689,651617443.8304062,619990129.7587242,319561900.0549259,663097259.2044678,867744983.9293079,451741460.8801708,394310305.9388466,559444889.0236816,812403451.2534885,504544065.1734028,659774108.995121,394698575.82463455,502099174.2255516,1027580915.5000858,-14424081.42565155,379783540.2450943,-14494032.78338623,481431489.5437813,498917728.86647224,432066771.416729,270306282.5310745,446903343.122797,855145191.4842567,110858868.42591476,860990910.1512871,480642101.72237396,647090711.5774231,307617529.05851936,188303245.01111412,335897672.3748112,497554412.92786026,784181123.0975056,381794766.24876976,200576627.60243607,364449731.86084366,-56273627.39760208,-311386466.13054657,252377186.35066414,285970674.626276,374744513.6671715,122681758.44106865,859508876.8201694,409401875.5918865,566289584.1389465,279478752.6009083,230120457.63082314,823730985.8422985,8403454.102096558,73939894.54911232,-349008069.8764229,390394185.4372864,613156007.0956535,-309429751.5650635,443845697.3399086,772397763.1931458,404618511.8444958,470598889.3651352,822472198.3371277,971878972.2115593,314201456.3895569,662030526.4083347,-44162314.44920349,1104544610.9181957,105897910.43026161,98220254.34601974,469845858.7784538,725792713.2069969,211212259.80458832,427958242.95970345,164158356.13807678,473685415.4041748,-31266811.848659515,274890539.2695255,84351285.15671349,516772739.04676247,-24252679.44336319,218236967.30129814,559010268.3780308,593701003.6374645,187215966.7085991,526317534.96395874,149947104.04537964,734195340.1532345,564492695.5956631,926057469.1906719,4871807.104352951,419619187.5111103,616322160.459158,834733450.8628922,428262418.0847225,988694487.5382214,664495751.7371044,205069233.1138687,139715384.06671524,509114971.15400505,529869929.2754955,613854134.8856392,249673868.10218048,266870868.1699276,163713202.82902336,376983198.38687897,117524752.44702339,77754177.03853607,322785209.2276993,214863467.86569405,334546237.9075279,283845786.6176243,696368164.1354313,553012815.0101166,713750274.6060467,386286467.4471855,339261114.95681953,249688785.15888405,813920218.3073959,42650074.14196968,414245307.6241684,255467202.3008976,277551100.73207664,710136323.4073219,849427579.7007389,-16766012.141901016,563084649.9889565,590982802.2271976,598060233.5233803,386120488.55626106,86273523.43978691,374382686.3026924,423489523.8471184,784485795.23983,1033477483.3146935,484863123.8967991,312627705.4199238,-260252344.91874313,605440660.1354599,5357161.494926453,791211809.9528484,413958075.9940624,402907984.4542637,242309607.3697605,531081633.35203934],\"type\":\"histogram\"},{\"name\":\"\\u043e\\u0442\\u0440\\u0438\\u0446\\u0430\\u0442\\u0435\\u043b\\u044c\\u043d\\u0430\\u044f \\u043f\\u0440\\u0438\\u0431\\u044b\\u043b\\u044c\",\"opacity\":0.75,\"x\":[-338883532.23324394,-39807186.16701126,-42447590.3592453,-269635920.92144775,-51144684.46046829,-47336998.60728073,-64218627.58552933,-97053938.61303711,-60106037.372535706,-229910978.8559513,-190655755.66700554,-115412251.1555481,-385516616.5388565,-116191920.80182838,-158813567.46228027,-127110466.93268204,-6457568.000181198,-13693757.821422577,-31608116.882816315,-158461968.2577877,-40483484.60809708,-22601589.77540207,-61559605.45200729,-75562042.14014244,-20567735.883825302,-98380085.58880997,-7150797.792182922,-194843840.06409454,-5945164.8027534485,-69260799.17607689,-14424081.42565155,-14494032.78338623,-56273627.39760208,-311386466.13054657,-349008069.8764229,-309429751.5650635,-44162314.44920349,-31266811.848659515,-24252679.44336319,-16766012.141901016,-260252344.91874313],\"type\":\"histogram\"}],                        {\"template\":{\"data\":{\"histogram2dcontour\":[{\"type\":\"histogram2dcontour\",\"colorbar\":{\"outlinewidth\":0,\"ticks\":\"\"},\"colorscale\":[[0.0,\"#0d0887\"],[0.1111111111111111,\"#46039f\"],[0.2222222222222222,\"#7201a8\"],[0.3333333333333333,\"#9c179e\"],[0.4444444444444444,\"#bd3786\"],[0.5555555555555556,\"#d8576b\"],[0.6666666666666666,\"#ed7953\"],[0.7777777777777778,\"#fb9f3a\"],[0.8888888888888888,\"#fdca26\"],[1.0,\"#f0f921\"]]}],\"choropleth\":[{\"type\":\"choropleth\",\"colorbar\":{\"outlinewidth\":0,\"ticks\":\"\"}}],\"histogram2d\":[{\"type\":\"histogram2d\",\"colorbar\":{\"outlinewidth\":0,\"ticks\":\"\"},\"colorscale\":[[0.0,\"#0d0887\"],[0.1111111111111111,\"#46039f\"],[0.2222222222222222,\"#7201a8\"],[0.3333333333333333,\"#9c179e\"],[0.4444444444444444,\"#bd3786\"],[0.5555555555555556,\"#d8576b\"],[0.6666666666666666,\"#ed7953\"],[0.7777777777777778,\"#fb9f3a\"],[0.8888888888888888,\"#fdca26\"],[1.0,\"#f0f921\"]]}],\"heatmap\":[{\"type\":\"heatmap\",\"colorbar\":{\"outlinewidth\":0,\"ticks\":\"\"},\"colorscale\":[[0.0,\"#0d0887\"],[0.1111111111111111,\"#46039f\"],[0.2222222222222222,\"#7201a8\"],[0.3333333333333333,\"#9c179e\"],[0.4444444444444444,\"#bd3786\"],[0.5555555555555556,\"#d8576b\"],[0.6666666666666666,\"#ed7953\"],[0.7777777777777778,\"#fb9f3a\"],[0.8888888888888888,\"#fdca26\"],[1.0,\"#f0f921\"]]}],\"heatmapgl\":[{\"type\":\"heatmapgl\",\"colorbar\":{\"outlinewidth\":0,\"ticks\":\"\"},\"colorscale\":[[0.0,\"#0d0887\"],[0.1111111111111111,\"#46039f\"],[0.2222222222222222,\"#7201a8\"],[0.3333333333333333,\"#9c179e\"],[0.4444444444444444,\"#bd3786\"],[0.5555555555555556,\"#d8576b\"],[0.6666666666666666,\"#ed7953\"],[0.7777777777777778,\"#fb9f3a\"],[0.8888888888888888,\"#fdca26\"],[1.0,\"#f0f921\"]]}],\"contourcarpet\":[{\"type\":\"contourcarpet\",\"colorbar\":{\"outlinewidth\":0,\"ticks\":\"\"}}],\"contour\":[{\"type\":\"contour\",\"colorbar\":{\"outlinewidth\":0,\"ticks\":\"\"},\"colorscale\":[[0.0,\"#0d0887\"],[0.1111111111111111,\"#46039f\"],[0.2222222222222222,\"#7201a8\"],[0.3333333333333333,\"#9c179e\"],[0.4444444444444444,\"#bd3786\"],[0.5555555555555556,\"#d8576b\"],[0.6666666666666666,\"#ed7953\"],[0.7777777777777778,\"#fb9f3a\"],[0.8888888888888888,\"#fdca26\"],[1.0,\"#f0f921\"]]}],\"surface\":[{\"type\":\"surface\",\"colorbar\":{\"outlinewidth\":0,\"ticks\":\"\"},\"colorscale\":[[0.0,\"#0d0887\"],[0.1111111111111111,\"#46039f\"],[0.2222222222222222,\"#7201a8\"],[0.3333333333333333,\"#9c179e\"],[0.4444444444444444,\"#bd3786\"],[0.5555555555555556,\"#d8576b\"],[0.6666666666666666,\"#ed7953\"],[0.7777777777777778,\"#fb9f3a\"],[0.8888888888888888,\"#fdca26\"],[1.0,\"#f0f921\"]]}],\"mesh3d\":[{\"type\":\"mesh3d\",\"colorbar\":{\"outlinewidth\":0,\"ticks\":\"\"}}],\"scatter\":[{\"fillpattern\":{\"fillmode\":\"overlay\",\"size\":10,\"solidity\":0.2},\"type\":\"scatter\"}],\"parcoords\":[{\"type\":\"parcoords\",\"line\":{\"colorbar\":{\"outlinewidth\":0,\"ticks\":\"\"}}}],\"scatterpolargl\":[{\"type\":\"scatterpolargl\",\"marker\":{\"colorbar\":{\"outlinewidth\":0,\"ticks\":\"\"}}}],\"bar\":[{\"error_x\":{\"color\":\"#2a3f5f\"},\"error_y\":{\"color\":\"#2a3f5f\"},\"marker\":{\"line\":{\"color\":\"#E5ECF6\",\"width\":0.5},\"pattern\":{\"fillmode\":\"overlay\",\"size\":10,\"solidity\":0.2}},\"type\":\"bar\"}],\"scattergeo\":[{\"type\":\"scattergeo\",\"marker\":{\"colorbar\":{\"outlinewidth\":0,\"ticks\":\"\"}}}],\"scatterpolar\":[{\"type\":\"scatterpolar\",\"marker\":{\"colorbar\":{\"outlinewidth\":0,\"ticks\":\"\"}}}],\"histogram\":[{\"marker\":{\"pattern\":{\"fillmode\":\"overlay\",\"size\":10,\"solidity\":0.2}},\"type\":\"histogram\"}],\"scattergl\":[{\"type\":\"scattergl\",\"marker\":{\"colorbar\":{\"outlinewidth\":0,\"ticks\":\"\"}}}],\"scatter3d\":[{\"type\":\"scatter3d\",\"line\":{\"colorbar\":{\"outlinewidth\":0,\"ticks\":\"\"}},\"marker\":{\"colorbar\":{\"outlinewidth\":0,\"ticks\":\"\"}}}],\"scattermapbox\":[{\"type\":\"scattermapbox\",\"marker\":{\"colorbar\":{\"outlinewidth\":0,\"ticks\":\"\"}}}],\"scatterternary\":[{\"type\":\"scatterternary\",\"marker\":{\"colorbar\":{\"outlinewidth\":0,\"ticks\":\"\"}}}],\"scattercarpet\":[{\"type\":\"scattercarpet\",\"marker\":{\"colorbar\":{\"outlinewidth\":0,\"ticks\":\"\"}}}],\"carpet\":[{\"aaxis\":{\"endlinecolor\":\"#2a3f5f\",\"gridcolor\":\"white\",\"linecolor\":\"white\",\"minorgridcolor\":\"white\",\"startlinecolor\":\"#2a3f5f\"},\"baxis\":{\"endlinecolor\":\"#2a3f5f\",\"gridcolor\":\"white\",\"linecolor\":\"white\",\"minorgridcolor\":\"white\",\"startlinecolor\":\"#2a3f5f\"},\"type\":\"carpet\"}],\"table\":[{\"cells\":{\"fill\":{\"color\":\"#EBF0F8\"},\"line\":{\"color\":\"white\"}},\"header\":{\"fill\":{\"color\":\"#C8D4E3\"},\"line\":{\"color\":\"white\"}},\"type\":\"table\"}],\"barpolar\":[{\"marker\":{\"line\":{\"color\":\"#E5ECF6\",\"width\":0.5},\"pattern\":{\"fillmode\":\"overlay\",\"size\":10,\"solidity\":0.2}},\"type\":\"barpolar\"}],\"pie\":[{\"automargin\":true,\"type\":\"pie\"}]},\"layout\":{\"autotypenumbers\":\"strict\",\"colorway\":[\"#636efa\",\"#EF553B\",\"#00cc96\",\"#ab63fa\",\"#FFA15A\",\"#19d3f3\",\"#FF6692\",\"#B6E880\",\"#FF97FF\",\"#FECB52\"],\"font\":{\"color\":\"#2a3f5f\"},\"hovermode\":\"closest\",\"hoverlabel\":{\"align\":\"left\"},\"paper_bgcolor\":\"white\",\"plot_bgcolor\":\"#E5ECF6\",\"polar\":{\"bgcolor\":\"#E5ECF6\",\"angularaxis\":{\"gridcolor\":\"white\",\"linecolor\":\"white\",\"ticks\":\"\"},\"radialaxis\":{\"gridcolor\":\"white\",\"linecolor\":\"white\",\"ticks\":\"\"}},\"ternary\":{\"bgcolor\":\"#E5ECF6\",\"aaxis\":{\"gridcolor\":\"white\",\"linecolor\":\"white\",\"ticks\":\"\"},\"baxis\":{\"gridcolor\":\"white\",\"linecolor\":\"white\",\"ticks\":\"\"},\"caxis\":{\"gridcolor\":\"white\",\"linecolor\":\"white\",\"ticks\":\"\"}},\"coloraxis\":{\"colorbar\":{\"outlinewidth\":0,\"ticks\":\"\"}},\"colorscale\":{\"sequential\":[[0.0,\"#0d0887\"],[0.1111111111111111,\"#46039f\"],[0.2222222222222222,\"#7201a8\"],[0.3333333333333333,\"#9c179e\"],[0.4444444444444444,\"#bd3786\"],[0.5555555555555556,\"#d8576b\"],[0.6666666666666666,\"#ed7953\"],[0.7777777777777778,\"#fb9f3a\"],[0.8888888888888888,\"#fdca26\"],[1.0,\"#f0f921\"]],\"sequentialminus\":[[0.0,\"#0d0887\"],[0.1111111111111111,\"#46039f\"],[0.2222222222222222,\"#7201a8\"],[0.3333333333333333,\"#9c179e\"],[0.4444444444444444,\"#bd3786\"],[0.5555555555555556,\"#d8576b\"],[0.6666666666666666,\"#ed7953\"],[0.7777777777777778,\"#fb9f3a\"],[0.8888888888888888,\"#fdca26\"],[1.0,\"#f0f921\"]],\"diverging\":[[0,\"#8e0152\"],[0.1,\"#c51b7d\"],[0.2,\"#de77ae\"],[0.3,\"#f1b6da\"],[0.4,\"#fde0ef\"],[0.5,\"#f7f7f7\"],[0.6,\"#e6f5d0\"],[0.7,\"#b8e186\"],[0.8,\"#7fbc41\"],[0.9,\"#4d9221\"],[1,\"#276419\"]]},\"xaxis\":{\"gridcolor\":\"white\",\"linecolor\":\"white\",\"ticks\":\"\",\"title\":{\"standoff\":15},\"zerolinecolor\":\"white\",\"automargin\":true,\"zerolinewidth\":2},\"yaxis\":{\"gridcolor\":\"white\",\"linecolor\":\"white\",\"ticks\":\"\",\"title\":{\"standoff\":15},\"zerolinecolor\":\"white\",\"automargin\":true,\"zerolinewidth\":2},\"scene\":{\"xaxis\":{\"backgroundcolor\":\"#E5ECF6\",\"gridcolor\":\"white\",\"linecolor\":\"white\",\"showbackground\":true,\"ticks\":\"\",\"zerolinecolor\":\"white\",\"gridwidth\":2},\"yaxis\":{\"backgroundcolor\":\"#E5ECF6\",\"gridcolor\":\"white\",\"linecolor\":\"white\",\"showbackground\":true,\"ticks\":\"\",\"zerolinecolor\":\"white\",\"gridwidth\":2},\"zaxis\":{\"backgroundcolor\":\"#E5ECF6\",\"gridcolor\":\"white\",\"linecolor\":\"white\",\"showbackground\":true,\"ticks\":\"\",\"zerolinecolor\":\"white\",\"gridwidth\":2}},\"shapedefaults\":{\"line\":{\"color\":\"#2a3f5f\"}},\"annotationdefaults\":{\"arrowcolor\":\"#2a3f5f\",\"arrowhead\":0,\"arrowwidth\":1},\"geo\":{\"bgcolor\":\"white\",\"landcolor\":\"#E5ECF6\",\"subunitcolor\":\"white\",\"showland\":true,\"showlakes\":true,\"lakecolor\":\"white\"},\"title\":{\"x\":0.05},\"mapbox\":{\"style\":\"light\"}}},\"shapes\":[{\"line\":{\"color\":\"green\",\"dash\":\"dash\",\"width\":2},\"type\":\"line\",\"x0\":-44241681.553155415,\"x1\":-44241681.553155415,\"xref\":\"x\",\"y0\":0,\"y1\":1,\"yref\":\"y domain\"},{\"line\":{\"color\":\"green\",\"dash\":\"dash\",\"width\":2},\"type\":\"line\",\"x0\":909808952.161209,\"x1\":909808952.161209,\"xref\":\"x\",\"y0\":0,\"y1\":1,\"yref\":\"y domain\"}],\"title\":{\"text\":\"\\u0413\\u0438\\u0441\\u0442\\u043e\\u0433\\u0440\\u0430\\u043c\\u043c\\u0430 \\u043f\\u0440\\u0438\\u0431\\u044b\\u043b\\u0438 200 \\u043b\\u0443\\u0447\\u0448\\u0438\\u0445 \\u0441\\u043a\\u0432\\u0430\\u0436\\u0438\\u043d \\u0440\\u0435\\u0433\\u0438\\u043e\\u043d\\u0430 1\",\"x\":0.5},\"legend\":{\"x\":0.5,\"xanchor\":\"center\",\"orientation\":\"h\"},\"margin\":{\"l\":0,\"r\":0,\"t\":30,\"b\":0},\"xaxis\":{\"title\":{\"text\":\"\\u041f\\u0440\\u0438\\u0431\\u044b\\u043b\\u044c\"}},\"barmode\":\"overlay\"},                        {\"responsive\": true}                    ).then(function(){\n",
       "                            \n",
       "var gd = document.getElementById('eb688122-53fd-4404-8148-c9142469ad79');\n",
       "var x = new MutationObserver(function (mutations, observer) {{\n",
       "        var display = window.getComputedStyle(gd).display;\n",
       "        if (!display || display === 'none') {{\n",
       "            console.log([gd, 'removed!']);\n",
       "            Plotly.purge(gd);\n",
       "            observer.disconnect();\n",
       "        }}\n",
       "}});\n",
       "\n",
       "// Listen for the removal of the full notebook cells\n",
       "var notebookContainer = gd.closest('#notebook-container');\n",
       "if (notebookContainer) {{\n",
       "    x.observe(notebookContainer, {childList: true});\n",
       "}}\n",
       "\n",
       "// Listen for the clearing of the current output cell\n",
       "var outputEl = gd.closest('.output');\n",
       "if (outputEl) {{\n",
       "    x.observe(outputEl, {childList: true});\n",
       "}}\n",
       "\n",
       "                        })                };                });            </script>        </div>"
      ]
     },
     "metadata": {},
     "output_type": "display_data"
    },
    {
     "data": {
      "application/vnd.plotly.v1+json": {
       "config": {
        "plotlyServerURL": "https://plot.ly"
       },
       "data": [
        {
         "name": "положительная прибыль",
         "opacity": 0.75,
         "type": "histogram",
         "x": [
          197289445.8955574,
          264403065.86409378,
          382831548.1811352,
          124515641.11040115,
          289345198.9571247,
          527632759.7536545,
          548345304.1925049,
          367841388.3920555,
          513388997.9623699,
          536154136.8951645,
          589708193.2370605,
          439868795.17941475,
          436323404.6898804,
          252274098.39990044,
          530493952.0785389,
          510527805.6374836,
          301474166.42131805,
          518364984.61434555,
          447083975.82478523,
          289345198.9571247,
          361434805.5776348,
          738116995.1322613,
          459897141.4536209,
          683878740.6257172,
          583301610.4226418,
          349305838.1134434,
          457035949.1287365,
          743839379.7820358,
          622549705.1401062,
          312110337.8899174,
          384946342.5082264,
          554751887.0069256,
          400620700.4619503,
          407773681.274168,
          302904762.5837593,
          503374824.8252678,
          493422851.5213146,
          633994474.4396515,
          468418518.5951309,
          396391111.8077698,
          434146410.5296421,
          262226071.7038536,
          804484217.1029987,
          469164916.59292793,
          381400952.018692,
          549029502.3571529,
          400682900.29510117,
          691031721.4379349,
          367841388.3920555,
          442729987.504303,
          530493952.0785408,
          473394505.24710846,
          346444645.78855324,
          561220669.6544933,
          527632759.7536545,
          278646827.65537643,
          482724480.21956635,
          551890694.6820393,
          347875241.9510002,
          507666613.31259537,
          407089483.10951996,
          560474271.6566982,
          651037228.7226715,
          455605352.96629333,
          883602404.8694267,
          641831653.4165154,
          87444540.55317688,
          534785740.5658684,
          439184597.0147705,
          297182377.9339886,
          601837160.701252,
          351420632.4405308,
          549775900.35495,
          646807640.0684929,
          321440312.86237335,
          553321290.8444824,
          145974583.54704857,
          544053515.7051754,
          718835046.8558521,
          916443916.7724724,
          534785740.5658684,
          309311345.39818,
          663912594.18466,
          470595512.755373,
          757336743.5755215,
          193744055.40602493,
          396328911.9746208,
          360688407.5798397,
          380654554.0208931,
          492676453.5235176,
          346444645.78855705,
          181615087.9418316,
          443476385.5020981,
          450629366.3143158,
          373501573.2086811,
          392099323.3204403,
          280015223.98467064,
          523403171.09947395,
          199466440.05579758,
          474203103.0780544,
          379970355.85624886,
          753791353.0859871,
          568995648.7982082,
          349990036.2780895,
          304335358.7462044,
          471279710.92001915,
          802307222.9427586,
          383515746.3457813,
          464873128.10559845,
          172347312.80252647,
          490561659.1964283,
          66731996.11432266,
          651099428.5558205,
          597545372.2139244,
          567565052.6357651,
          581186816.0955505,
          1055584943.5283661,
          313603133.8855114,
          680333350.1361847,
          437007602.85453033,
          432778014.2003498,
          407089483.10951996,
          183045684.10427475,
          541192323.380291,
          564703860.3108807,
          748815366.4340115,
          424194437.22568893,
          378601959.52695656,
          712428464.0414333,
          357143017.09030724,
          433462212.36499596,
          394214117.6475315,
          362803201.906929,
          265833662.02653503,
          479116889.8968811,
          382769348.3479843,
          178069697.4522972,
          530493952.0785389,
          224408573.1488304,
          621056909.1445122,
          577579225.7728691,
          427739827.7152233,
          336492672.484602,
          371386778.881588,
          819474376.8920803,
          222293778.8217411,
          575526631.2789268,
          287230404.6300354,
          392783521.48508835,
          13240139.605575562,
          553321290.8444824,
          245805315.75233078,
          531240350.0763359,
          184476280.2667179,
          677534357.6444473,
          709567271.7165451,
          585416404.7497311,
          408457879.4388161,
          395644713.8099747,
          462696133.9453583,
          526886361.75585556,
          285053410.4697952,
          800130228.7825203,
          122463046.6164608,
          605382551.1907864,
          451997762.64361,
          417787854.41127014,
          469849114.757576,
          210164811.35754776,
          159534147.17368698,
          554751887.0069256,
          106726488.82958603,
          334315678.3243618,
          593999981.7243919,
          504805420.98771095,
          576148629.610424,
          798699632.6200771,
          343583453.46367073,
          491992255.35886955,
          813005594.2445087,
          766666718.5479774,
          593999981.7243919,
          180930889.77718735,
          432715814.36719894,
          571172642.9584484,
          111018277.3169136,
          413496065.92393875,
          427117829.3837261,
          224408573.1488304,
          559043675.4942551,
          327909095.5099449,
          348559440.11564636,
          231561553.96104622,
          350736434.27588654,
          403481892.78683853,
          543307117.7073784,
          287914602.79468155,
          562589065.9837875,
          247235911.91477394,
          406343085.11172295,
          734571604.6427288,
          487700466.871542,
          511958401.79992867,
          599722366.3741627,
          680333350.1361847,
          135214012.41215134,
          330023889.8370342,
          410572673.7659035,
          409950675.4344082,
          382085150.18333817,
          415673060.08418083,
          85267546.3929348,
          698868900.4147968,
          444906981.66454315,
          437754000.85232735,
          556182483.1693687,
          406405284.9448738,
          294321185.60910225,
          605444751.0239372,
          611851333.838356,
          372817375.04403114,
          361372605.74448776,
          342837055.4658737,
          213710201.84708214,
          700299496.5772419,
          370702580.71694374,
          436323404.6898823,
          313603133.8855114,
          360688407.5798378,
          485585672.54445076,
          232992150.12348938,
          299297172.2610798,
          179500293.61474228,
          673864567.488615,
          390668727.15799713,
          427055629.55057526,
          451313564.47896194,
          601152962.5366077,
          395644713.8099747,
          598291770.2117195,
          364233798.0693722,
          694577111.9274673,
          442729987.5043049,
          689601125.2754917,
          410634873.59905434,
          506920215.31480026,
          461327737.6160641,
          171600914.80472946,
          531924548.24098206,
          531240350.0763359,
          394214117.6475315,
          463442531.9431553,
          200212838.0535965,
          225154971.14662743,
          375678567.3689194,
          419964848.5715084,
          22507914.744882584,
          -22400364.78920746,
          599722366.3741627,
          296498179.7693405,
          187337472.59160614,
          447705974.1562805,
          588277597.0746174,
          357143017.0903053,
          494791247.8506088,
          301474166.42131805,
          502690626.66061974,
          616143122.3256855,
          424940835.22348595,
          78176765.41386795,
          424194437.22568893,
          468418518.5951328,
          413496065.92394066,
          649606632.5602283,
          599722366.3741627,
          689601125.2754898,
          407089483.10951996,
          464188929.9409523,
          -13878987.647697449,
          -64509651.83155823,
          417041456.4134731,
          210849009.5221939,
          585416404.7497311,
          361434805.5776367,
          413496065.92394066,
          384262144.34357834,
          286546206.46538925,
          369956182.7191467,
          148773576.03878593,
          532670946.23877716,
          645377043.9060478,
          653898421.0475578,
          659620805.6973324,
          479116889.8968811,
          671065574.9968777,
          668888580.8366356,
          -210057261.40187263,
          556866681.3340149,
          616889520.3234825,
          696754106.0877075,
          703844887.0667725,
          271556046.6763077,
          477002095.5697937,
          401367098.4597454,
          591822987.5641518,
          185222678.26451492,
          297928775.9317856,
          459897141.4536209,
          415610860.25102997,
          612535532.0030022,
          454858954.9684963,
          343583453.4636688,
          191629261.07893562,
          347875241.9510002,
          173031510.96717262,
          571172642.9584484,
          535532138.5636673,
          -51696486.202718735,
          309311345.3981819,
          743092981.7842388,
          436323404.6898842,
          399874302.4641552,
          496906042.17769814,
          376362765.5335655,
          528316957.9182987,
          494853447.6837578,
          429916821.8754635,
          392099323.3204403,
          560474271.6566982,
          481293884.0571213,
          199466440.05579758,
          427739827.7152233,
          484155076.3820076,
          780910480.3392601,
          753791353.0859871,
          621803307.1423092,
          554751887.0069256,
          575464431.445776,
          185222678.26451492,
          311488339.5584202,
          228016163.47151375,
          302220564.41911316,
          521226176.9392338,
          418472052.5759182,
          417787854.41127014,
          437069802.6876793,
          633932274.6065025,
          331516685.83262634,
          212279605.68463898,
          464126730.10780144,
          210164811.35754776,
          -18854974.29967308,
          382085150.18333817,
          486954068.87374496,
          387123336.66846466,
          337114670.81609917,
          110271879.31911659,
          516996588.28505325,
          805852613.4322929,
          577579225.7728691,
          311488339.5584202,
          288661000.79247856,
          342152857.30122566,
          166624928.15275192,
          120286052.45622063,
          89559334.88026619,
          490561659.1964283,
          581124616.2624016,
          762437129.8937969,
          301474166.42131996,
          93851123.36759377,
          786632864.9890327,
          343583453.46367073,
          618257916.6527767,
          783771672.6641464,
          549775900.35495,
          100257706.18201447,
          922850499.5868912,
          320009716.6999321,
          167371326.15054893,
          430663219.8732605,
          113879469.64180183,
          484901474.3798046,
          374247971.2064743,
          106726488.82958412,
          677472157.8112984,
          69593188.43920898,
          633248076.4418545,
          344267651.6283169,
          267264258.1889782,
          795154242.1305428,
          487016268.7068958,
          710313669.714344,
          428486225.7130203,
          456289551.1309376,
          427739827.7152214,
          526948561.5890064,
          551206496.5173931,
          342837055.4658737,
          446337577.8269863,
          599038168.2095165,
          532670946.23877907,
          786632864.9890327,
          272240244.84095573,
          87444540.55317497,
          588961795.2392635,
          245867515.58547783,
          552637092.6798344,
          400682900.29510117,
          656075415.207798,
          380654554.020895,
          487700466.871542,
          144543987.3846054,
          239398732.93791008,
          675295163.6510582,
          471963909.0846653,
          527632759.7536545,
          377793361.6960068,
          561904867.8191414,
          378539759.6938057,
          377793361.6960087,
          117424860.1313343,
          531240350.0763359,
          591138789.3995037,
          315033730.04795456,
          103865296.5046978,
          342837055.4658737,
          516187990.4541054,
          546914708.0300617,
          260111277.3767624,
          641831653.4165154,
          584048008.4204369,
          526948561.58900833,
          437007602.85453033,
          417041456.4134731,
          545484111.8676186,
          290775795.1195679,
          350052236.1112404,
          374994369.2042713,
          516187990.4541054,
          766604518.7148285,
          466987922.43268776,
          384262144.34357834,
          636793466.9313889,
          1005638477.5091534,
          534101542.4012222,
          906491943.4685192,
          245805315.75233078,
          482724480.21956444,
          18962524.255348206,
          518364984.61434364,
          350052236.1112385,
          232992150.12348938,
          435639206.5252361,
          521226176.9392338,
          249412906.0750141,
          150950570.1990261,
          409950675.4344082,
          498336638.3401413,
          838009927.1706905,
          -64509651.83155823,
          394960515.6453285,
          167371326.15054893,
          297182377.9339886,
          329277491.8392372,
          -33160935.924106598,
          518364984.61434555,
          308627147.23353386,
          510527805.6374836,
          331454485.9994774,
          586847000.9121742,
          375678567.36891747,
          301474166.42131615,
          468418518.5951328,
          773073301.3623962,
          357143017.0903053,
          576148629.610426,
          651099428.5558224,
          666773786.5095482,
          136582408.74144554,
          619688512.8152199,
          340038062.97413635,
          494853447.6837578,
          722442637.1785355,
          626095095.6296406,
          714605458.2016735,
          610358537.8427639,
          766604518.7148285,
          429854622.0423126,
          456973749.29558563,
          775934493.6872826,
          507666613.3125973,
          151634768.36367226,
          564766060.1440277,
          427055629.55057716,
          571856841.1230965,
          695323509.9252644,
          315033730.04795456,
          511212003.80212975,
          239398732.93791008,
          464873128.10559845,
          682448144.463274,
          135960410.40994644,
          510527805.6374836,
          385692740.5060215,
          567565052.6357632,
          187275272.75845528,
          959237401.9794693,
          791671051.4741611,
          656013215.374649,
          215140798.0095234,
          -95982767.40530968,
          -6726006.835481644,
          413496065.92394066,
          757398943.4086704,
          438438199.0169716,
          536962734.7261086,
          239398732.93791008,
          498398838.17329407,
          490561659.1964283,
          349990036.2780895,
          825818759.8733501,
          140936397.06192398,
          160218345.33833122,
          349990036.2780895,
          590392391.4017086,
          257250085.05187607,
          198720042.05800056,
          576895027.6082191,
          300043570.258873,
          128807429.59773254,
          222293778.8217411,
          486269870.7090988,
          413433866.0907917,
          282192218.144907,
          255757289.05628204,
          597545372.2139244,
          434208610.3627949,
          487638267.0383911,
          572603239.1208916,
          463442531.9431553,
          406343085.11172295,
          434208610.36279297,
          372817375.04403114,
          432715814.36720085,
          738116995.1322613,
          286484006.6322403,
          99573508.01736832,
          275847835.16363716,
          707452477.3894577,
          521972574.9370289,
          274355039.16804504,
          559727873.6589031,
          392099323.3204403,
          407089483.10951996,
          288661000.79248047,
          300043570.258873,
          640338857.4209213,
          195921049.5662651,
          581124616.2624016,
          227269765.47371674,
          448452372.15407753,
          321440312.86237335,
          523403171.09947395,
          310741941.5606251,
          296498179.7693405,
          683878740.6257172,
          334999876.48901176,
          770896307.202158,
          342152857.30122757,
          113133071.64400291,
          358573613.2527485,
          28230299.394655228,
          303651160.5815563,
          588277597.0746193,
          365664394.23181534,
          656075415.207798,
          346382445.9554062,
          387807534.8331127,
          422826040.89639854,
          487700466.871542,
          607559545.3510265,
          255135290.72478676,
          230130957.79860497,
          250781302.4043064,
          399936502.29730415,
          516996588.28505325,
          368525586.55669975,
          -68801440.31888771,
          -51696486.202718735,
          383515746.34578323,
          718835046.8558521,
          333569280.3265686,
          201581234.3828869,
          813005594.2445087,
          552637092.6798344,
          674610965.4864101,
          619688512.8152199,
          690285323.440136,
          784455870.8287945,
          125262039.10820007,
          524087369.2641201,
          54540828.81698227,
          304273158.9130573,
          604698353.0261402,
          606875347.1863804,
          621803307.1423092,
          365726594.0649643,
          530493952.0785389,
          400620700.4619522,
          606191149.0217323,
          285799808.46759033,
          511958401.79992867,
          412065469.7614975,
          380654554.020895,
          407089483.10951996,
          178753895.61694717,
          563335463.9815845,
          688916927.1108437,
          514135395.96016693,
          574033835.2833347,
          131668621.92261696,
          700299496.57724,
          200150638.22044373,
          622487505.3069572,
          459897141.4536209,
          546914708.0300617,
          381400952.018692,
          778733486.1790199,
          521226176.9392338,
          439868795.17941475,
          398505906.134861,
          328593293.67459106,
          14670735.768016815,
          382831548.1811352,
          608990141.5134678,
          418472052.5759182,
          5402960.6287117,
          337861068.8138981,
          445591179.8291893,
          485585672.54445076,
          436323404.6898842,
          681763946.298626,
          367841388.3920555,
          562589065.9837875,
          348559440.11564827,
          16101331.930461884,
          185906876.42916298,
          398568105.96801186,
          419218450.5737133,
          441299391.3418598,
          343583453.4636688,
          457720147.29338074,
          723189035.1763325,
          354966022.93006516,
          602583558.6990509,
          716720252.5287628,
          488446864.869339,
          459834941.62047195,
          449882968.3165207,
          370702580.71694374,
          519795580.7767906,
          377109163.53136253,
          693892913.7628193,
          738116995.1322613,
          545484111.8676186,
          334253478.49121284,
          286484006.6322403,
          357143017.0903053,
          535469938.73051643,
          23938510.907325745,
          982064740.7454128,
          465619526.10339355,
          476255697.5719948,
          405658886.9470787,
          443476385.5021,
          210911209.35534477,
          642515851.5811615,
          515565992.1226101,
          575402231.6126289,
          407089483.10951996,
          143797589.3868084,
          548345304.1925049,
          581124616.2624035,
          288661000.79247856,
          102434700.34225464,
          204442426.7077732,
          425625033.3881321,
          429916821.8754635,
          196605247.73091125,
          86698142.55537796,
          354281824.765419,
          318579120.5374851,
          633932274.6065025,
          534785740.5658684,
          506920215.31480217,
          372879574.8771801,
          776680891.6850815,
          340038062.97413635,
          521972574.9370308,
          597607572.0470734,
          295751781.7715454,
          496968242.0108471,
          12493741.60777855,
          291459993.2842159,
          507666613.3125973,
          294383385.4422512,
          647491838.233139,
          691715919.602581,
          701730092.739685,
          251527700.40210342,
          678902753.9737415,
          411319071.7637005,
          343583453.46367264,
          116678462.13353729,
          419964848.5715084,
          235853342.4483757,
          436323404.6898842,
          577579225.7728691,
          694577111.9274673,
          409204277.4366131,
          629640486.1191711,
          689601125.2754917,
          589708193.2370605,
          354281824.7654209,
          342837055.4658737,
          303651160.5815563,
          671065574.9968777,
          346444645.78855705,
          665280990.5139542,
          252958296.5645485,
          577579225.7728672,
          240145130.93570518,
          396391111.8077717,
          335062076.3221607,
          554751887.0069256,
          553321290.8444824,
          633248076.4418564,
          343583453.4636688,
          667457984.6741943,
          8264152.95359993,
          496968242.0108471,
          381400952.018692,
          361434805.5776367,
          746700572.1069221,
          642515851.5811596,
          822335569.2169647,
          309995543.56282806,
          262910269.86849976,
          586847000.9121742,
          548283104.3593559,
          168801922.3129921,
          493422851.5213127,
          501944228.66282463,
          93851123.36759377,
          175892703.29205894,
          372817375.04403114,
          353597626.60077477,
          571172642.9584484,
          78176765.41386795,
          220863182.65929794,
          477002095.5697918,
          676787959.6466503,
          35383280.20687103,
          571172642.9584484,
          132352820.0872631,
          228016163.47151375,
          681763946.298626,
          658936607.5326843,
          881487610.5423374,
          417103656.246624,
          215140798.0095234,
          605382551.1907864,
          644630645.9082527,
          315033730.04795456,
          457720147.29338074,
          372879574.8771839,
          799446030.6178722,
          708883073.551899,
          491992255.35887146,
          377855561.52915955,
          528379157.7514515,
          270125450.5138645,
          772326903.3646011,
          554067688.8422775,
          322870909.0248165,
          306512352.90644455,
          375678567.3689194,
          213026003.682436,
          522656773.10167694,
          322870909.0248165,
          510527805.6374855,
          317894922.372839,
          457782347.1265335,
          753791353.0859871,
          412749667.92614555,
          580440418.0977535,
          580440418.0977554,
          417041456.4134712,
          561904867.8191414,
          333569280.3265686,
          199466440.05579758,
          587593398.9099712,
          283622814.30735016,
          918620910.9327126,
          326478499.34749985,
          524833767.2619171,
          466303724.2680416,
          447021775.99163246,
          212279605.68463898,
          698184702.2501488,
          48880644.000356674,
          28168099.561504364,
          904999147.4729271,
          504121222.8230648,
          360688407.5798378,
          539077529.0531998,
          318641320.3706379,
          440615193.17721176,
          549713700.5217991,
          453428358.80605316,
          918558711.0995617,
          336430472.651453,
          85267546.3929348,
          514819594.1248131,
          711744265.8767872,
          481978082.2217674,
          666089588.3449001,
          483346478.55106163,
          222977976.98638725,
          501944228.66282463,
          140998596.89507103,
          -6726006.835481644,
          710997867.8789902,
          -68117242.15424156,
          424194437.22569084,
          352167030.4383297,
          392099323.3204441,
          588277597.0746174,
          934295268.8864384,
          496906042.17769814,
          455605352.96629333,
          332885082.16192055,
          118171258.12913132,
          631817480.2794113,
          209418413.35975075,
          262910269.86849976,
          442045789.3396549,
          554751887.0069256,
          462011935.7807121,
          520541978.77458763,
          743839379.7820358,
          765173922.5523853,
          728102821.9951591,
          340038062.97413635,
          249412906.0750141,
          105295892.66714287,
          284369212.3051472,
          558359477.3296089,
          520541978.77458763,
          906429743.6353683,
          353597626.60077286,
          461265537.7829151,
          628209889.956728,
          257250085.05187607,
          623980301.3025494,
          431347418.03790665,
          319263318.7021332,
          608305943.3488235,
          399936502.29730415,
          80291559.74095917,
          369334184.38764954,
          337923268.64704514,
          339291664.97633934,
          283622814.30735016,
          456289551.1309376,
          753791353.0859871,
          187337472.59160614,
          286484006.6322403,
          280761621.98246574,
          113070871.81085396,
          543369317.5405273,
          543369317.5405273,
          441299391.3418579,
          812943394.4113598,
          422079642.89860153,
          337861068.8138981,
          458466545.29117775,
          113133071.64400482,
          493422851.5213146,
          344267651.628315,
          126692635.27063942,
          -71662632.64377403,
          511274203.6352806,
          262972469.7016468,
          312172537.72306633,
          356458818.9256611,
          475571499.40734863,
          732394610.4824905,
          570426244.9606533,
          673180369.3239689,
          289345198.9571247,
          347875241.9510002,
          267202058.35582924,
          112386673.64620972,
          128123231.43308258,
          442792187.33745193,
          475571499.40734863,
          274417239.0011959,
          425625033.388134,
          17531928.092905045,
          207303619.03266144,
          535469938.73051643,
          502628426.8274708,
          286484006.6322403,
          261541873.53920555,
          569057848.6313591,
          379970355.85624886,
          436323404.6898842,
          290091596.9549198,
          521972574.9370308,
          715973854.5309677,
          476317897.40514374,
          755221949.2484322,
          509097209.47504234,
          381400952.018692,
          277216231.49293137,
          368587786.3898525,
          371386778.881588,
          617511518.6549797,
          485523472.7113018,
          231561553.96104813,
          421333244.9008045,
          449198770.15187263,
          509097209.47504044,
          325732101.34970474,
          522656773.10167694,
          626157295.4627895,
          729533418.1576023,
          696007708.0899105,
          679649151.9715385,
          426993429.7174263,
          496968242.010849,
          183729882.2689228,
          349990036.2780876,
          329339691.67238617,
          763059128.2252941,
          449882968.3165207,
          461265537.7829151,
          76683969.41827583,
          195174651.5684681,
          335746274.48680496,
          337176870.64925194,
          295751781.7715435,
          545484111.8676186,
          246551713.75012589,
          352851228.60297775,
          357889415.08810234,
          629640486.1191711,
          735940000.9720211,
          11125345.278484344,
          563335463.9815845,
          394960515.6453285,
          521972574.9370308,
          333631480.15971756,
          95343919.36318779,
          74631374.92433357,
          447021775.99163246,
          430601020.04010963,
          447768173.9894295,
          653214222.8829117,
          486269870.7090988,
          -153020014.40359116,
          827249356.0357933,
          -84475798.27261353,
          -98035361.89925003,
          285737608.6344414,
          627525691.7920837,
          232992150.12348938,
          386376938.67066956,
          312172537.72306824,
          325047903.1850567,
          409950675.4344063,
          506982415.1479511,
          369271984.5544987,
          903630751.1436329,
          38928670.69640541,
          621119108.977663,
          195174651.5684662,
          663166196.1868649,
          608243743.5156727,
          515503792.28946114,
          360004209.41519356,
          442729987.5043049,
          61071811.297698975,
          620372710.979866,
          613219730.1676502,
          211595407.519989,
          477002095.5697918,
          211595407.51999092
         ]
        },
        {
         "name": "отрицательная прибыль",
         "opacity": 0.75,
         "type": "histogram",
         "x": [
          -22400364.78920746,
          -13878987.647697449,
          -64509651.83155823,
          -210057261.40187263,
          -51696486.202718735,
          -18854974.29967308,
          -64509651.83155823,
          -33160935.924106598,
          -95982767.40530968,
          -6726006.835481644,
          -68801440.31888771,
          -51696486.202718735,
          -6726006.835481644,
          -68117242.15424156,
          -71662632.64377403,
          -153020014.40359116,
          -84475798.27261353,
          -98035361.89925003
         ]
        }
       ],
       "layout": {
        "barmode": "overlay",
        "legend": {
         "orientation": "h",
         "x": 0.5,
         "xanchor": "center"
        },
        "margin": {
         "b": 0,
         "l": 0,
         "r": 0,
         "t": 30
        },
        "shapes": [
         {
          "line": {
           "color": "green",
           "dash": "dash",
           "width": 2
          },
          "type": "line",
          "x0": 17496163.18884397,
          "x1": 17496163.18884397,
          "xref": "x",
          "y0": 0,
          "y1": 1,
          "yref": "y domain"
         },
         {
          "line": {
           "color": "green",
           "dash": "dash",
           "width": 2
          },
          "type": "line",
          "x0": 802361647.7967645,
          "x1": 802361647.7967645,
          "xref": "x",
          "y0": 0,
          "y1": 1,
          "yref": "y domain"
         }
        ],
        "template": {
         "data": {
          "bar": [
           {
            "error_x": {
             "color": "#2a3f5f"
            },
            "error_y": {
             "color": "#2a3f5f"
            },
            "marker": {
             "line": {
              "color": "#E5ECF6",
              "width": 0.5
             },
             "pattern": {
              "fillmode": "overlay",
              "size": 10,
              "solidity": 0.2
             }
            },
            "type": "bar"
           }
          ],
          "barpolar": [
           {
            "marker": {
             "line": {
              "color": "#E5ECF6",
              "width": 0.5
             },
             "pattern": {
              "fillmode": "overlay",
              "size": 10,
              "solidity": 0.2
             }
            },
            "type": "barpolar"
           }
          ],
          "carpet": [
           {
            "aaxis": {
             "endlinecolor": "#2a3f5f",
             "gridcolor": "white",
             "linecolor": "white",
             "minorgridcolor": "white",
             "startlinecolor": "#2a3f5f"
            },
            "baxis": {
             "endlinecolor": "#2a3f5f",
             "gridcolor": "white",
             "linecolor": "white",
             "minorgridcolor": "white",
             "startlinecolor": "#2a3f5f"
            },
            "type": "carpet"
           }
          ],
          "choropleth": [
           {
            "colorbar": {
             "outlinewidth": 0,
             "ticks": ""
            },
            "type": "choropleth"
           }
          ],
          "contour": [
           {
            "colorbar": {
             "outlinewidth": 0,
             "ticks": ""
            },
            "colorscale": [
             [
              0,
              "#0d0887"
             ],
             [
              0.1111111111111111,
              "#46039f"
             ],
             [
              0.2222222222222222,
              "#7201a8"
             ],
             [
              0.3333333333333333,
              "#9c179e"
             ],
             [
              0.4444444444444444,
              "#bd3786"
             ],
             [
              0.5555555555555556,
              "#d8576b"
             ],
             [
              0.6666666666666666,
              "#ed7953"
             ],
             [
              0.7777777777777778,
              "#fb9f3a"
             ],
             [
              0.8888888888888888,
              "#fdca26"
             ],
             [
              1,
              "#f0f921"
             ]
            ],
            "type": "contour"
           }
          ],
          "contourcarpet": [
           {
            "colorbar": {
             "outlinewidth": 0,
             "ticks": ""
            },
            "type": "contourcarpet"
           }
          ],
          "heatmap": [
           {
            "colorbar": {
             "outlinewidth": 0,
             "ticks": ""
            },
            "colorscale": [
             [
              0,
              "#0d0887"
             ],
             [
              0.1111111111111111,
              "#46039f"
             ],
             [
              0.2222222222222222,
              "#7201a8"
             ],
             [
              0.3333333333333333,
              "#9c179e"
             ],
             [
              0.4444444444444444,
              "#bd3786"
             ],
             [
              0.5555555555555556,
              "#d8576b"
             ],
             [
              0.6666666666666666,
              "#ed7953"
             ],
             [
              0.7777777777777778,
              "#fb9f3a"
             ],
             [
              0.8888888888888888,
              "#fdca26"
             ],
             [
              1,
              "#f0f921"
             ]
            ],
            "type": "heatmap"
           }
          ],
          "heatmapgl": [
           {
            "colorbar": {
             "outlinewidth": 0,
             "ticks": ""
            },
            "colorscale": [
             [
              0,
              "#0d0887"
             ],
             [
              0.1111111111111111,
              "#46039f"
             ],
             [
              0.2222222222222222,
              "#7201a8"
             ],
             [
              0.3333333333333333,
              "#9c179e"
             ],
             [
              0.4444444444444444,
              "#bd3786"
             ],
             [
              0.5555555555555556,
              "#d8576b"
             ],
             [
              0.6666666666666666,
              "#ed7953"
             ],
             [
              0.7777777777777778,
              "#fb9f3a"
             ],
             [
              0.8888888888888888,
              "#fdca26"
             ],
             [
              1,
              "#f0f921"
             ]
            ],
            "type": "heatmapgl"
           }
          ],
          "histogram": [
           {
            "marker": {
             "pattern": {
              "fillmode": "overlay",
              "size": 10,
              "solidity": 0.2
             }
            },
            "type": "histogram"
           }
          ],
          "histogram2d": [
           {
            "colorbar": {
             "outlinewidth": 0,
             "ticks": ""
            },
            "colorscale": [
             [
              0,
              "#0d0887"
             ],
             [
              0.1111111111111111,
              "#46039f"
             ],
             [
              0.2222222222222222,
              "#7201a8"
             ],
             [
              0.3333333333333333,
              "#9c179e"
             ],
             [
              0.4444444444444444,
              "#bd3786"
             ],
             [
              0.5555555555555556,
              "#d8576b"
             ],
             [
              0.6666666666666666,
              "#ed7953"
             ],
             [
              0.7777777777777778,
              "#fb9f3a"
             ],
             [
              0.8888888888888888,
              "#fdca26"
             ],
             [
              1,
              "#f0f921"
             ]
            ],
            "type": "histogram2d"
           }
          ],
          "histogram2dcontour": [
           {
            "colorbar": {
             "outlinewidth": 0,
             "ticks": ""
            },
            "colorscale": [
             [
              0,
              "#0d0887"
             ],
             [
              0.1111111111111111,
              "#46039f"
             ],
             [
              0.2222222222222222,
              "#7201a8"
             ],
             [
              0.3333333333333333,
              "#9c179e"
             ],
             [
              0.4444444444444444,
              "#bd3786"
             ],
             [
              0.5555555555555556,
              "#d8576b"
             ],
             [
              0.6666666666666666,
              "#ed7953"
             ],
             [
              0.7777777777777778,
              "#fb9f3a"
             ],
             [
              0.8888888888888888,
              "#fdca26"
             ],
             [
              1,
              "#f0f921"
             ]
            ],
            "type": "histogram2dcontour"
           }
          ],
          "mesh3d": [
           {
            "colorbar": {
             "outlinewidth": 0,
             "ticks": ""
            },
            "type": "mesh3d"
           }
          ],
          "parcoords": [
           {
            "line": {
             "colorbar": {
              "outlinewidth": 0,
              "ticks": ""
             }
            },
            "type": "parcoords"
           }
          ],
          "pie": [
           {
            "automargin": true,
            "type": "pie"
           }
          ],
          "scatter": [
           {
            "fillpattern": {
             "fillmode": "overlay",
             "size": 10,
             "solidity": 0.2
            },
            "type": "scatter"
           }
          ],
          "scatter3d": [
           {
            "line": {
             "colorbar": {
              "outlinewidth": 0,
              "ticks": ""
             }
            },
            "marker": {
             "colorbar": {
              "outlinewidth": 0,
              "ticks": ""
             }
            },
            "type": "scatter3d"
           }
          ],
          "scattercarpet": [
           {
            "marker": {
             "colorbar": {
              "outlinewidth": 0,
              "ticks": ""
             }
            },
            "type": "scattercarpet"
           }
          ],
          "scattergeo": [
           {
            "marker": {
             "colorbar": {
              "outlinewidth": 0,
              "ticks": ""
             }
            },
            "type": "scattergeo"
           }
          ],
          "scattergl": [
           {
            "marker": {
             "colorbar": {
              "outlinewidth": 0,
              "ticks": ""
             }
            },
            "type": "scattergl"
           }
          ],
          "scattermapbox": [
           {
            "marker": {
             "colorbar": {
              "outlinewidth": 0,
              "ticks": ""
             }
            },
            "type": "scattermapbox"
           }
          ],
          "scatterpolar": [
           {
            "marker": {
             "colorbar": {
              "outlinewidth": 0,
              "ticks": ""
             }
            },
            "type": "scatterpolar"
           }
          ],
          "scatterpolargl": [
           {
            "marker": {
             "colorbar": {
              "outlinewidth": 0,
              "ticks": ""
             }
            },
            "type": "scatterpolargl"
           }
          ],
          "scatterternary": [
           {
            "marker": {
             "colorbar": {
              "outlinewidth": 0,
              "ticks": ""
             }
            },
            "type": "scatterternary"
           }
          ],
          "surface": [
           {
            "colorbar": {
             "outlinewidth": 0,
             "ticks": ""
            },
            "colorscale": [
             [
              0,
              "#0d0887"
             ],
             [
              0.1111111111111111,
              "#46039f"
             ],
             [
              0.2222222222222222,
              "#7201a8"
             ],
             [
              0.3333333333333333,
              "#9c179e"
             ],
             [
              0.4444444444444444,
              "#bd3786"
             ],
             [
              0.5555555555555556,
              "#d8576b"
             ],
             [
              0.6666666666666666,
              "#ed7953"
             ],
             [
              0.7777777777777778,
              "#fb9f3a"
             ],
             [
              0.8888888888888888,
              "#fdca26"
             ],
             [
              1,
              "#f0f921"
             ]
            ],
            "type": "surface"
           }
          ],
          "table": [
           {
            "cells": {
             "fill": {
              "color": "#EBF0F8"
             },
             "line": {
              "color": "white"
             }
            },
            "header": {
             "fill": {
              "color": "#C8D4E3"
             },
             "line": {
              "color": "white"
             }
            },
            "type": "table"
           }
          ]
         },
         "layout": {
          "annotationdefaults": {
           "arrowcolor": "#2a3f5f",
           "arrowhead": 0,
           "arrowwidth": 1
          },
          "autotypenumbers": "strict",
          "coloraxis": {
           "colorbar": {
            "outlinewidth": 0,
            "ticks": ""
           }
          },
          "colorscale": {
           "diverging": [
            [
             0,
             "#8e0152"
            ],
            [
             0.1,
             "#c51b7d"
            ],
            [
             0.2,
             "#de77ae"
            ],
            [
             0.3,
             "#f1b6da"
            ],
            [
             0.4,
             "#fde0ef"
            ],
            [
             0.5,
             "#f7f7f7"
            ],
            [
             0.6,
             "#e6f5d0"
            ],
            [
             0.7,
             "#b8e186"
            ],
            [
             0.8,
             "#7fbc41"
            ],
            [
             0.9,
             "#4d9221"
            ],
            [
             1,
             "#276419"
            ]
           ],
           "sequential": [
            [
             0,
             "#0d0887"
            ],
            [
             0.1111111111111111,
             "#46039f"
            ],
            [
             0.2222222222222222,
             "#7201a8"
            ],
            [
             0.3333333333333333,
             "#9c179e"
            ],
            [
             0.4444444444444444,
             "#bd3786"
            ],
            [
             0.5555555555555556,
             "#d8576b"
            ],
            [
             0.6666666666666666,
             "#ed7953"
            ],
            [
             0.7777777777777778,
             "#fb9f3a"
            ],
            [
             0.8888888888888888,
             "#fdca26"
            ],
            [
             1,
             "#f0f921"
            ]
           ],
           "sequentialminus": [
            [
             0,
             "#0d0887"
            ],
            [
             0.1111111111111111,
             "#46039f"
            ],
            [
             0.2222222222222222,
             "#7201a8"
            ],
            [
             0.3333333333333333,
             "#9c179e"
            ],
            [
             0.4444444444444444,
             "#bd3786"
            ],
            [
             0.5555555555555556,
             "#d8576b"
            ],
            [
             0.6666666666666666,
             "#ed7953"
            ],
            [
             0.7777777777777778,
             "#fb9f3a"
            ],
            [
             0.8888888888888888,
             "#fdca26"
            ],
            [
             1,
             "#f0f921"
            ]
           ]
          },
          "colorway": [
           "#636efa",
           "#EF553B",
           "#00cc96",
           "#ab63fa",
           "#FFA15A",
           "#19d3f3",
           "#FF6692",
           "#B6E880",
           "#FF97FF",
           "#FECB52"
          ],
          "font": {
           "color": "#2a3f5f"
          },
          "geo": {
           "bgcolor": "white",
           "lakecolor": "white",
           "landcolor": "#E5ECF6",
           "showlakes": true,
           "showland": true,
           "subunitcolor": "white"
          },
          "hoverlabel": {
           "align": "left"
          },
          "hovermode": "closest",
          "mapbox": {
           "style": "light"
          },
          "paper_bgcolor": "white",
          "plot_bgcolor": "#E5ECF6",
          "polar": {
           "angularaxis": {
            "gridcolor": "white",
            "linecolor": "white",
            "ticks": ""
           },
           "bgcolor": "#E5ECF6",
           "radialaxis": {
            "gridcolor": "white",
            "linecolor": "white",
            "ticks": ""
           }
          },
          "scene": {
           "xaxis": {
            "backgroundcolor": "#E5ECF6",
            "gridcolor": "white",
            "gridwidth": 2,
            "linecolor": "white",
            "showbackground": true,
            "ticks": "",
            "zerolinecolor": "white"
           },
           "yaxis": {
            "backgroundcolor": "#E5ECF6",
            "gridcolor": "white",
            "gridwidth": 2,
            "linecolor": "white",
            "showbackground": true,
            "ticks": "",
            "zerolinecolor": "white"
           },
           "zaxis": {
            "backgroundcolor": "#E5ECF6",
            "gridcolor": "white",
            "gridwidth": 2,
            "linecolor": "white",
            "showbackground": true,
            "ticks": "",
            "zerolinecolor": "white"
           }
          },
          "shapedefaults": {
           "line": {
            "color": "#2a3f5f"
           }
          },
          "ternary": {
           "aaxis": {
            "gridcolor": "white",
            "linecolor": "white",
            "ticks": ""
           },
           "baxis": {
            "gridcolor": "white",
            "linecolor": "white",
            "ticks": ""
           },
           "bgcolor": "#E5ECF6",
           "caxis": {
            "gridcolor": "white",
            "linecolor": "white",
            "ticks": ""
           }
          },
          "title": {
           "x": 0.05
          },
          "xaxis": {
           "automargin": true,
           "gridcolor": "white",
           "linecolor": "white",
           "ticks": "",
           "title": {
            "standoff": 15
           },
           "zerolinecolor": "white",
           "zerolinewidth": 2
          },
          "yaxis": {
           "automargin": true,
           "gridcolor": "white",
           "linecolor": "white",
           "ticks": "",
           "title": {
            "standoff": 15
           },
           "zerolinecolor": "white",
           "zerolinewidth": 2
          }
         }
        },
        "title": {
         "text": "Гистограмма прибыли 200 лучших скважин региона 2",
         "x": 0.5
        },
        "xaxis": {
         "title": {
          "text": "Прибыль"
         }
        }
       }
      },
      "text/html": [
       "<div>                            <div id=\"ddc0b4d0-86a9-4893-915a-62f813e70eaa\" class=\"plotly-graph-div\" style=\"height:525px; width:100%;\"></div>            <script type=\"text/javascript\">                require([\"plotly\"], function(Plotly) {                    window.PLOTLYENV=window.PLOTLYENV || {};                                    if (document.getElementById(\"ddc0b4d0-86a9-4893-915a-62f813e70eaa\")) {                    Plotly.newPlot(                        \"ddc0b4d0-86a9-4893-915a-62f813e70eaa\",                        [{\"name\":\"\\u043f\\u043e\\u043b\\u043e\\u0436\\u0438\\u0442\\u0435\\u043b\\u044c\\u043d\\u0430\\u044f \\u043f\\u0440\\u0438\\u0431\\u044b\\u043b\\u044c\",\"opacity\":0.75,\"x\":[197289445.8955574,264403065.86409378,382831548.1811352,124515641.11040115,289345198.9571247,527632759.7536545,548345304.1925049,367841388.3920555,513388997.9623699,536154136.8951645,589708193.2370605,439868795.17941475,436323404.6898804,252274098.39990044,530493952.0785389,510527805.6374836,301474166.42131805,518364984.61434555,447083975.82478523,289345198.9571247,361434805.5776348,738116995.1322613,459897141.4536209,683878740.6257172,583301610.4226418,349305838.1134434,457035949.1287365,743839379.7820358,622549705.1401062,312110337.8899174,384946342.5082264,554751887.0069256,400620700.4619503,407773681.274168,302904762.5837593,503374824.8252678,493422851.5213146,633994474.4396515,468418518.5951309,396391111.8077698,434146410.5296421,262226071.7038536,804484217.1029987,469164916.59292793,381400952.018692,549029502.3571529,400682900.29510117,691031721.4379349,367841388.3920555,442729987.504303,530493952.0785408,473394505.24710846,346444645.78855324,561220669.6544933,527632759.7536545,278646827.65537643,482724480.21956635,551890694.6820393,347875241.9510002,507666613.31259537,407089483.10951996,560474271.6566982,651037228.7226715,455605352.96629333,883602404.8694267,641831653.4165154,87444540.55317688,534785740.5658684,439184597.0147705,297182377.9339886,601837160.701252,351420632.4405308,549775900.35495,646807640.0684929,321440312.86237335,553321290.8444824,145974583.54704857,544053515.7051754,718835046.8558521,916443916.7724724,534785740.5658684,309311345.39818,663912594.18466,470595512.755373,757336743.5755215,193744055.40602493,396328911.9746208,360688407.5798397,380654554.0208931,492676453.5235176,346444645.78855705,181615087.9418316,443476385.5020981,450629366.3143158,373501573.2086811,392099323.3204403,280015223.98467064,523403171.09947395,199466440.05579758,474203103.0780544,379970355.85624886,753791353.0859871,568995648.7982082,349990036.2780895,304335358.7462044,471279710.92001915,802307222.9427586,383515746.3457813,464873128.10559845,172347312.80252647,490561659.1964283,66731996.11432266,651099428.5558205,597545372.2139244,567565052.6357651,581186816.0955505,1055584943.5283661,313603133.8855114,680333350.1361847,437007602.85453033,432778014.2003498,407089483.10951996,183045684.10427475,541192323.380291,564703860.3108807,748815366.4340115,424194437.22568893,378601959.52695656,712428464.0414333,357143017.09030724,433462212.36499596,394214117.6475315,362803201.906929,265833662.02653503,479116889.8968811,382769348.3479843,178069697.4522972,530493952.0785389,224408573.1488304,621056909.1445122,577579225.7728691,427739827.7152233,336492672.484602,371386778.881588,819474376.8920803,222293778.8217411,575526631.2789268,287230404.6300354,392783521.48508835,13240139.605575562,553321290.8444824,245805315.75233078,531240350.0763359,184476280.2667179,677534357.6444473,709567271.7165451,585416404.7497311,408457879.4388161,395644713.8099747,462696133.9453583,526886361.75585556,285053410.4697952,800130228.7825203,122463046.6164608,605382551.1907864,451997762.64361,417787854.41127014,469849114.757576,210164811.35754776,159534147.17368698,554751887.0069256,106726488.82958603,334315678.3243618,593999981.7243919,504805420.98771095,576148629.610424,798699632.6200771,343583453.46367073,491992255.35886955,813005594.2445087,766666718.5479774,593999981.7243919,180930889.77718735,432715814.36719894,571172642.9584484,111018277.3169136,413496065.92393875,427117829.3837261,224408573.1488304,559043675.4942551,327909095.5099449,348559440.11564636,231561553.96104622,350736434.27588654,403481892.78683853,543307117.7073784,287914602.79468155,562589065.9837875,247235911.91477394,406343085.11172295,734571604.6427288,487700466.871542,511958401.79992867,599722366.3741627,680333350.1361847,135214012.41215134,330023889.8370342,410572673.7659035,409950675.4344082,382085150.18333817,415673060.08418083,85267546.3929348,698868900.4147968,444906981.66454315,437754000.85232735,556182483.1693687,406405284.9448738,294321185.60910225,605444751.0239372,611851333.838356,372817375.04403114,361372605.74448776,342837055.4658737,213710201.84708214,700299496.5772419,370702580.71694374,436323404.6898823,313603133.8855114,360688407.5798378,485585672.54445076,232992150.12348938,299297172.2610798,179500293.61474228,673864567.488615,390668727.15799713,427055629.55057526,451313564.47896194,601152962.5366077,395644713.8099747,598291770.2117195,364233798.0693722,694577111.9274673,442729987.5043049,689601125.2754917,410634873.59905434,506920215.31480026,461327737.6160641,171600914.80472946,531924548.24098206,531240350.0763359,394214117.6475315,463442531.9431553,200212838.0535965,225154971.14662743,375678567.3689194,419964848.5715084,22507914.744882584,-22400364.78920746,599722366.3741627,296498179.7693405,187337472.59160614,447705974.1562805,588277597.0746174,357143017.0903053,494791247.8506088,301474166.42131805,502690626.66061974,616143122.3256855,424940835.22348595,78176765.41386795,424194437.22568893,468418518.5951328,413496065.92394066,649606632.5602283,599722366.3741627,689601125.2754898,407089483.10951996,464188929.9409523,-13878987.647697449,-64509651.83155823,417041456.4134731,210849009.5221939,585416404.7497311,361434805.5776367,413496065.92394066,384262144.34357834,286546206.46538925,369956182.7191467,148773576.03878593,532670946.23877716,645377043.9060478,653898421.0475578,659620805.6973324,479116889.8968811,671065574.9968777,668888580.8366356,-210057261.40187263,556866681.3340149,616889520.3234825,696754106.0877075,703844887.0667725,271556046.6763077,477002095.5697937,401367098.4597454,591822987.5641518,185222678.26451492,297928775.9317856,459897141.4536209,415610860.25102997,612535532.0030022,454858954.9684963,343583453.4636688,191629261.07893562,347875241.9510002,173031510.96717262,571172642.9584484,535532138.5636673,-51696486.202718735,309311345.3981819,743092981.7842388,436323404.6898842,399874302.4641552,496906042.17769814,376362765.5335655,528316957.9182987,494853447.6837578,429916821.8754635,392099323.3204403,560474271.6566982,481293884.0571213,199466440.05579758,427739827.7152233,484155076.3820076,780910480.3392601,753791353.0859871,621803307.1423092,554751887.0069256,575464431.445776,185222678.26451492,311488339.5584202,228016163.47151375,302220564.41911316,521226176.9392338,418472052.5759182,417787854.41127014,437069802.6876793,633932274.6065025,331516685.83262634,212279605.68463898,464126730.10780144,210164811.35754776,-18854974.29967308,382085150.18333817,486954068.87374496,387123336.66846466,337114670.81609917,110271879.31911659,516996588.28505325,805852613.4322929,577579225.7728691,311488339.5584202,288661000.79247856,342152857.30122566,166624928.15275192,120286052.45622063,89559334.88026619,490561659.1964283,581124616.2624016,762437129.8937969,301474166.42131996,93851123.36759377,786632864.9890327,343583453.46367073,618257916.6527767,783771672.6641464,549775900.35495,100257706.18201447,922850499.5868912,320009716.6999321,167371326.15054893,430663219.8732605,113879469.64180183,484901474.3798046,374247971.2064743,106726488.82958412,677472157.8112984,69593188.43920898,633248076.4418545,344267651.6283169,267264258.1889782,795154242.1305428,487016268.7068958,710313669.714344,428486225.7130203,456289551.1309376,427739827.7152214,526948561.5890064,551206496.5173931,342837055.4658737,446337577.8269863,599038168.2095165,532670946.23877907,786632864.9890327,272240244.84095573,87444540.55317497,588961795.2392635,245867515.58547783,552637092.6798344,400682900.29510117,656075415.207798,380654554.020895,487700466.871542,144543987.3846054,239398732.93791008,675295163.6510582,471963909.0846653,527632759.7536545,377793361.6960068,561904867.8191414,378539759.6938057,377793361.6960087,117424860.1313343,531240350.0763359,591138789.3995037,315033730.04795456,103865296.5046978,342837055.4658737,516187990.4541054,546914708.0300617,260111277.3767624,641831653.4165154,584048008.4204369,526948561.58900833,437007602.85453033,417041456.4134731,545484111.8676186,290775795.1195679,350052236.1112404,374994369.2042713,516187990.4541054,766604518.7148285,466987922.43268776,384262144.34357834,636793466.9313889,1005638477.5091534,534101542.4012222,906491943.4685192,245805315.75233078,482724480.21956444,18962524.255348206,518364984.61434364,350052236.1112385,232992150.12348938,435639206.5252361,521226176.9392338,249412906.0750141,150950570.1990261,409950675.4344082,498336638.3401413,838009927.1706905,-64509651.83155823,394960515.6453285,167371326.15054893,297182377.9339886,329277491.8392372,-33160935.924106598,518364984.61434555,308627147.23353386,510527805.6374836,331454485.9994774,586847000.9121742,375678567.36891747,301474166.42131615,468418518.5951328,773073301.3623962,357143017.0903053,576148629.610426,651099428.5558224,666773786.5095482,136582408.74144554,619688512.8152199,340038062.97413635,494853447.6837578,722442637.1785355,626095095.6296406,714605458.2016735,610358537.8427639,766604518.7148285,429854622.0423126,456973749.29558563,775934493.6872826,507666613.3125973,151634768.36367226,564766060.1440277,427055629.55057716,571856841.1230965,695323509.9252644,315033730.04795456,511212003.80212975,239398732.93791008,464873128.10559845,682448144.463274,135960410.40994644,510527805.6374836,385692740.5060215,567565052.6357632,187275272.75845528,959237401.9794693,791671051.4741611,656013215.374649,215140798.0095234,-95982767.40530968,-6726006.835481644,413496065.92394066,757398943.4086704,438438199.0169716,536962734.7261086,239398732.93791008,498398838.17329407,490561659.1964283,349990036.2780895,825818759.8733501,140936397.06192398,160218345.33833122,349990036.2780895,590392391.4017086,257250085.05187607,198720042.05800056,576895027.6082191,300043570.258873,128807429.59773254,222293778.8217411,486269870.7090988,413433866.0907917,282192218.144907,255757289.05628204,597545372.2139244,434208610.3627949,487638267.0383911,572603239.1208916,463442531.9431553,406343085.11172295,434208610.36279297,372817375.04403114,432715814.36720085,738116995.1322613,286484006.6322403,99573508.01736832,275847835.16363716,707452477.3894577,521972574.9370289,274355039.16804504,559727873.6589031,392099323.3204403,407089483.10951996,288661000.79248047,300043570.258873,640338857.4209213,195921049.5662651,581124616.2624016,227269765.47371674,448452372.15407753,321440312.86237335,523403171.09947395,310741941.5606251,296498179.7693405,683878740.6257172,334999876.48901176,770896307.202158,342152857.30122757,113133071.64400291,358573613.2527485,28230299.394655228,303651160.5815563,588277597.0746193,365664394.23181534,656075415.207798,346382445.9554062,387807534.8331127,422826040.89639854,487700466.871542,607559545.3510265,255135290.72478676,230130957.79860497,250781302.4043064,399936502.29730415,516996588.28505325,368525586.55669975,-68801440.31888771,-51696486.202718735,383515746.34578323,718835046.8558521,333569280.3265686,201581234.3828869,813005594.2445087,552637092.6798344,674610965.4864101,619688512.8152199,690285323.440136,784455870.8287945,125262039.10820007,524087369.2641201,54540828.81698227,304273158.9130573,604698353.0261402,606875347.1863804,621803307.1423092,365726594.0649643,530493952.0785389,400620700.4619522,606191149.0217323,285799808.46759033,511958401.79992867,412065469.7614975,380654554.020895,407089483.10951996,178753895.61694717,563335463.9815845,688916927.1108437,514135395.96016693,574033835.2833347,131668621.92261696,700299496.57724,200150638.22044373,622487505.3069572,459897141.4536209,546914708.0300617,381400952.018692,778733486.1790199,521226176.9392338,439868795.17941475,398505906.134861,328593293.67459106,14670735.768016815,382831548.1811352,608990141.5134678,418472052.5759182,5402960.6287117,337861068.8138981,445591179.8291893,485585672.54445076,436323404.6898842,681763946.298626,367841388.3920555,562589065.9837875,348559440.11564827,16101331.930461884,185906876.42916298,398568105.96801186,419218450.5737133,441299391.3418598,343583453.4636688,457720147.29338074,723189035.1763325,354966022.93006516,602583558.6990509,716720252.5287628,488446864.869339,459834941.62047195,449882968.3165207,370702580.71694374,519795580.7767906,377109163.53136253,693892913.7628193,738116995.1322613,545484111.8676186,334253478.49121284,286484006.6322403,357143017.0903053,535469938.73051643,23938510.907325745,982064740.7454128,465619526.10339355,476255697.5719948,405658886.9470787,443476385.5021,210911209.35534477,642515851.5811615,515565992.1226101,575402231.6126289,407089483.10951996,143797589.3868084,548345304.1925049,581124616.2624035,288661000.79247856,102434700.34225464,204442426.7077732,425625033.3881321,429916821.8754635,196605247.73091125,86698142.55537796,354281824.765419,318579120.5374851,633932274.6065025,534785740.5658684,506920215.31480217,372879574.8771801,776680891.6850815,340038062.97413635,521972574.9370308,597607572.0470734,295751781.7715454,496968242.0108471,12493741.60777855,291459993.2842159,507666613.3125973,294383385.4422512,647491838.233139,691715919.602581,701730092.739685,251527700.40210342,678902753.9737415,411319071.7637005,343583453.46367264,116678462.13353729,419964848.5715084,235853342.4483757,436323404.6898842,577579225.7728691,694577111.9274673,409204277.4366131,629640486.1191711,689601125.2754917,589708193.2370605,354281824.7654209,342837055.4658737,303651160.5815563,671065574.9968777,346444645.78855705,665280990.5139542,252958296.5645485,577579225.7728672,240145130.93570518,396391111.8077717,335062076.3221607,554751887.0069256,553321290.8444824,633248076.4418564,343583453.4636688,667457984.6741943,8264152.95359993,496968242.0108471,381400952.018692,361434805.5776367,746700572.1069221,642515851.5811596,822335569.2169647,309995543.56282806,262910269.86849976,586847000.9121742,548283104.3593559,168801922.3129921,493422851.5213127,501944228.66282463,93851123.36759377,175892703.29205894,372817375.04403114,353597626.60077477,571172642.9584484,78176765.41386795,220863182.65929794,477002095.5697918,676787959.6466503,35383280.20687103,571172642.9584484,132352820.0872631,228016163.47151375,681763946.298626,658936607.5326843,881487610.5423374,417103656.246624,215140798.0095234,605382551.1907864,644630645.9082527,315033730.04795456,457720147.29338074,372879574.8771839,799446030.6178722,708883073.551899,491992255.35887146,377855561.52915955,528379157.7514515,270125450.5138645,772326903.3646011,554067688.8422775,322870909.0248165,306512352.90644455,375678567.3689194,213026003.682436,522656773.10167694,322870909.0248165,510527805.6374855,317894922.372839,457782347.1265335,753791353.0859871,412749667.92614555,580440418.0977535,580440418.0977554,417041456.4134712,561904867.8191414,333569280.3265686,199466440.05579758,587593398.9099712,283622814.30735016,918620910.9327126,326478499.34749985,524833767.2619171,466303724.2680416,447021775.99163246,212279605.68463898,698184702.2501488,48880644.000356674,28168099.561504364,904999147.4729271,504121222.8230648,360688407.5798378,539077529.0531998,318641320.3706379,440615193.17721176,549713700.5217991,453428358.80605316,918558711.0995617,336430472.651453,85267546.3929348,514819594.1248131,711744265.8767872,481978082.2217674,666089588.3449001,483346478.55106163,222977976.98638725,501944228.66282463,140998596.89507103,-6726006.835481644,710997867.8789902,-68117242.15424156,424194437.22569084,352167030.4383297,392099323.3204441,588277597.0746174,934295268.8864384,496906042.17769814,455605352.96629333,332885082.16192055,118171258.12913132,631817480.2794113,209418413.35975075,262910269.86849976,442045789.3396549,554751887.0069256,462011935.7807121,520541978.77458763,743839379.7820358,765173922.5523853,728102821.9951591,340038062.97413635,249412906.0750141,105295892.66714287,284369212.3051472,558359477.3296089,520541978.77458763,906429743.6353683,353597626.60077286,461265537.7829151,628209889.956728,257250085.05187607,623980301.3025494,431347418.03790665,319263318.7021332,608305943.3488235,399936502.29730415,80291559.74095917,369334184.38764954,337923268.64704514,339291664.97633934,283622814.30735016,456289551.1309376,753791353.0859871,187337472.59160614,286484006.6322403,280761621.98246574,113070871.81085396,543369317.5405273,543369317.5405273,441299391.3418579,812943394.4113598,422079642.89860153,337861068.8138981,458466545.29117775,113133071.64400482,493422851.5213146,344267651.628315,126692635.27063942,-71662632.64377403,511274203.6352806,262972469.7016468,312172537.72306633,356458818.9256611,475571499.40734863,732394610.4824905,570426244.9606533,673180369.3239689,289345198.9571247,347875241.9510002,267202058.35582924,112386673.64620972,128123231.43308258,442792187.33745193,475571499.40734863,274417239.0011959,425625033.388134,17531928.092905045,207303619.03266144,535469938.73051643,502628426.8274708,286484006.6322403,261541873.53920555,569057848.6313591,379970355.85624886,436323404.6898842,290091596.9549198,521972574.9370308,715973854.5309677,476317897.40514374,755221949.2484322,509097209.47504234,381400952.018692,277216231.49293137,368587786.3898525,371386778.881588,617511518.6549797,485523472.7113018,231561553.96104813,421333244.9008045,449198770.15187263,509097209.47504044,325732101.34970474,522656773.10167694,626157295.4627895,729533418.1576023,696007708.0899105,679649151.9715385,426993429.7174263,496968242.010849,183729882.2689228,349990036.2780876,329339691.67238617,763059128.2252941,449882968.3165207,461265537.7829151,76683969.41827583,195174651.5684681,335746274.48680496,337176870.64925194,295751781.7715435,545484111.8676186,246551713.75012589,352851228.60297775,357889415.08810234,629640486.1191711,735940000.9720211,11125345.278484344,563335463.9815845,394960515.6453285,521972574.9370308,333631480.15971756,95343919.36318779,74631374.92433357,447021775.99163246,430601020.04010963,447768173.9894295,653214222.8829117,486269870.7090988,-153020014.40359116,827249356.0357933,-84475798.27261353,-98035361.89925003,285737608.6344414,627525691.7920837,232992150.12348938,386376938.67066956,312172537.72306824,325047903.1850567,409950675.4344063,506982415.1479511,369271984.5544987,903630751.1436329,38928670.69640541,621119108.977663,195174651.5684662,663166196.1868649,608243743.5156727,515503792.28946114,360004209.41519356,442729987.5043049,61071811.297698975,620372710.979866,613219730.1676502,211595407.519989,477002095.5697918,211595407.51999092],\"type\":\"histogram\"},{\"name\":\"\\u043e\\u0442\\u0440\\u0438\\u0446\\u0430\\u0442\\u0435\\u043b\\u044c\\u043d\\u0430\\u044f \\u043f\\u0440\\u0438\\u0431\\u044b\\u043b\\u044c\",\"opacity\":0.75,\"x\":[-22400364.78920746,-13878987.647697449,-64509651.83155823,-210057261.40187263,-51696486.202718735,-18854974.29967308,-64509651.83155823,-33160935.924106598,-95982767.40530968,-6726006.835481644,-68801440.31888771,-51696486.202718735,-6726006.835481644,-68117242.15424156,-71662632.64377403,-153020014.40359116,-84475798.27261353,-98035361.89925003],\"type\":\"histogram\"}],                        {\"template\":{\"data\":{\"histogram2dcontour\":[{\"type\":\"histogram2dcontour\",\"colorbar\":{\"outlinewidth\":0,\"ticks\":\"\"},\"colorscale\":[[0.0,\"#0d0887\"],[0.1111111111111111,\"#46039f\"],[0.2222222222222222,\"#7201a8\"],[0.3333333333333333,\"#9c179e\"],[0.4444444444444444,\"#bd3786\"],[0.5555555555555556,\"#d8576b\"],[0.6666666666666666,\"#ed7953\"],[0.7777777777777778,\"#fb9f3a\"],[0.8888888888888888,\"#fdca26\"],[1.0,\"#f0f921\"]]}],\"choropleth\":[{\"type\":\"choropleth\",\"colorbar\":{\"outlinewidth\":0,\"ticks\":\"\"}}],\"histogram2d\":[{\"type\":\"histogram2d\",\"colorbar\":{\"outlinewidth\":0,\"ticks\":\"\"},\"colorscale\":[[0.0,\"#0d0887\"],[0.1111111111111111,\"#46039f\"],[0.2222222222222222,\"#7201a8\"],[0.3333333333333333,\"#9c179e\"],[0.4444444444444444,\"#bd3786\"],[0.5555555555555556,\"#d8576b\"],[0.6666666666666666,\"#ed7953\"],[0.7777777777777778,\"#fb9f3a\"],[0.8888888888888888,\"#fdca26\"],[1.0,\"#f0f921\"]]}],\"heatmap\":[{\"type\":\"heatmap\",\"colorbar\":{\"outlinewidth\":0,\"ticks\":\"\"},\"colorscale\":[[0.0,\"#0d0887\"],[0.1111111111111111,\"#46039f\"],[0.2222222222222222,\"#7201a8\"],[0.3333333333333333,\"#9c179e\"],[0.4444444444444444,\"#bd3786\"],[0.5555555555555556,\"#d8576b\"],[0.6666666666666666,\"#ed7953\"],[0.7777777777777778,\"#fb9f3a\"],[0.8888888888888888,\"#fdca26\"],[1.0,\"#f0f921\"]]}],\"heatmapgl\":[{\"type\":\"heatmapgl\",\"colorbar\":{\"outlinewidth\":0,\"ticks\":\"\"},\"colorscale\":[[0.0,\"#0d0887\"],[0.1111111111111111,\"#46039f\"],[0.2222222222222222,\"#7201a8\"],[0.3333333333333333,\"#9c179e\"],[0.4444444444444444,\"#bd3786\"],[0.5555555555555556,\"#d8576b\"],[0.6666666666666666,\"#ed7953\"],[0.7777777777777778,\"#fb9f3a\"],[0.8888888888888888,\"#fdca26\"],[1.0,\"#f0f921\"]]}],\"contourcarpet\":[{\"type\":\"contourcarpet\",\"colorbar\":{\"outlinewidth\":0,\"ticks\":\"\"}}],\"contour\":[{\"type\":\"contour\",\"colorbar\":{\"outlinewidth\":0,\"ticks\":\"\"},\"colorscale\":[[0.0,\"#0d0887\"],[0.1111111111111111,\"#46039f\"],[0.2222222222222222,\"#7201a8\"],[0.3333333333333333,\"#9c179e\"],[0.4444444444444444,\"#bd3786\"],[0.5555555555555556,\"#d8576b\"],[0.6666666666666666,\"#ed7953\"],[0.7777777777777778,\"#fb9f3a\"],[0.8888888888888888,\"#fdca26\"],[1.0,\"#f0f921\"]]}],\"surface\":[{\"type\":\"surface\",\"colorbar\":{\"outlinewidth\":0,\"ticks\":\"\"},\"colorscale\":[[0.0,\"#0d0887\"],[0.1111111111111111,\"#46039f\"],[0.2222222222222222,\"#7201a8\"],[0.3333333333333333,\"#9c179e\"],[0.4444444444444444,\"#bd3786\"],[0.5555555555555556,\"#d8576b\"],[0.6666666666666666,\"#ed7953\"],[0.7777777777777778,\"#fb9f3a\"],[0.8888888888888888,\"#fdca26\"],[1.0,\"#f0f921\"]]}],\"mesh3d\":[{\"type\":\"mesh3d\",\"colorbar\":{\"outlinewidth\":0,\"ticks\":\"\"}}],\"scatter\":[{\"fillpattern\":{\"fillmode\":\"overlay\",\"size\":10,\"solidity\":0.2},\"type\":\"scatter\"}],\"parcoords\":[{\"type\":\"parcoords\",\"line\":{\"colorbar\":{\"outlinewidth\":0,\"ticks\":\"\"}}}],\"scatterpolargl\":[{\"type\":\"scatterpolargl\",\"marker\":{\"colorbar\":{\"outlinewidth\":0,\"ticks\":\"\"}}}],\"bar\":[{\"error_x\":{\"color\":\"#2a3f5f\"},\"error_y\":{\"color\":\"#2a3f5f\"},\"marker\":{\"line\":{\"color\":\"#E5ECF6\",\"width\":0.5},\"pattern\":{\"fillmode\":\"overlay\",\"size\":10,\"solidity\":0.2}},\"type\":\"bar\"}],\"scattergeo\":[{\"type\":\"scattergeo\",\"marker\":{\"colorbar\":{\"outlinewidth\":0,\"ticks\":\"\"}}}],\"scatterpolar\":[{\"type\":\"scatterpolar\",\"marker\":{\"colorbar\":{\"outlinewidth\":0,\"ticks\":\"\"}}}],\"histogram\":[{\"marker\":{\"pattern\":{\"fillmode\":\"overlay\",\"size\":10,\"solidity\":0.2}},\"type\":\"histogram\"}],\"scattergl\":[{\"type\":\"scattergl\",\"marker\":{\"colorbar\":{\"outlinewidth\":0,\"ticks\":\"\"}}}],\"scatter3d\":[{\"type\":\"scatter3d\",\"line\":{\"colorbar\":{\"outlinewidth\":0,\"ticks\":\"\"}},\"marker\":{\"colorbar\":{\"outlinewidth\":0,\"ticks\":\"\"}}}],\"scattermapbox\":[{\"type\":\"scattermapbox\",\"marker\":{\"colorbar\":{\"outlinewidth\":0,\"ticks\":\"\"}}}],\"scatterternary\":[{\"type\":\"scatterternary\",\"marker\":{\"colorbar\":{\"outlinewidth\":0,\"ticks\":\"\"}}}],\"scattercarpet\":[{\"type\":\"scattercarpet\",\"marker\":{\"colorbar\":{\"outlinewidth\":0,\"ticks\":\"\"}}}],\"carpet\":[{\"aaxis\":{\"endlinecolor\":\"#2a3f5f\",\"gridcolor\":\"white\",\"linecolor\":\"white\",\"minorgridcolor\":\"white\",\"startlinecolor\":\"#2a3f5f\"},\"baxis\":{\"endlinecolor\":\"#2a3f5f\",\"gridcolor\":\"white\",\"linecolor\":\"white\",\"minorgridcolor\":\"white\",\"startlinecolor\":\"#2a3f5f\"},\"type\":\"carpet\"}],\"table\":[{\"cells\":{\"fill\":{\"color\":\"#EBF0F8\"},\"line\":{\"color\":\"white\"}},\"header\":{\"fill\":{\"color\":\"#C8D4E3\"},\"line\":{\"color\":\"white\"}},\"type\":\"table\"}],\"barpolar\":[{\"marker\":{\"line\":{\"color\":\"#E5ECF6\",\"width\":0.5},\"pattern\":{\"fillmode\":\"overlay\",\"size\":10,\"solidity\":0.2}},\"type\":\"barpolar\"}],\"pie\":[{\"automargin\":true,\"type\":\"pie\"}]},\"layout\":{\"autotypenumbers\":\"strict\",\"colorway\":[\"#636efa\",\"#EF553B\",\"#00cc96\",\"#ab63fa\",\"#FFA15A\",\"#19d3f3\",\"#FF6692\",\"#B6E880\",\"#FF97FF\",\"#FECB52\"],\"font\":{\"color\":\"#2a3f5f\"},\"hovermode\":\"closest\",\"hoverlabel\":{\"align\":\"left\"},\"paper_bgcolor\":\"white\",\"plot_bgcolor\":\"#E5ECF6\",\"polar\":{\"bgcolor\":\"#E5ECF6\",\"angularaxis\":{\"gridcolor\":\"white\",\"linecolor\":\"white\",\"ticks\":\"\"},\"radialaxis\":{\"gridcolor\":\"white\",\"linecolor\":\"white\",\"ticks\":\"\"}},\"ternary\":{\"bgcolor\":\"#E5ECF6\",\"aaxis\":{\"gridcolor\":\"white\",\"linecolor\":\"white\",\"ticks\":\"\"},\"baxis\":{\"gridcolor\":\"white\",\"linecolor\":\"white\",\"ticks\":\"\"},\"caxis\":{\"gridcolor\":\"white\",\"linecolor\":\"white\",\"ticks\":\"\"}},\"coloraxis\":{\"colorbar\":{\"outlinewidth\":0,\"ticks\":\"\"}},\"colorscale\":{\"sequential\":[[0.0,\"#0d0887\"],[0.1111111111111111,\"#46039f\"],[0.2222222222222222,\"#7201a8\"],[0.3333333333333333,\"#9c179e\"],[0.4444444444444444,\"#bd3786\"],[0.5555555555555556,\"#d8576b\"],[0.6666666666666666,\"#ed7953\"],[0.7777777777777778,\"#fb9f3a\"],[0.8888888888888888,\"#fdca26\"],[1.0,\"#f0f921\"]],\"sequentialminus\":[[0.0,\"#0d0887\"],[0.1111111111111111,\"#46039f\"],[0.2222222222222222,\"#7201a8\"],[0.3333333333333333,\"#9c179e\"],[0.4444444444444444,\"#bd3786\"],[0.5555555555555556,\"#d8576b\"],[0.6666666666666666,\"#ed7953\"],[0.7777777777777778,\"#fb9f3a\"],[0.8888888888888888,\"#fdca26\"],[1.0,\"#f0f921\"]],\"diverging\":[[0,\"#8e0152\"],[0.1,\"#c51b7d\"],[0.2,\"#de77ae\"],[0.3,\"#f1b6da\"],[0.4,\"#fde0ef\"],[0.5,\"#f7f7f7\"],[0.6,\"#e6f5d0\"],[0.7,\"#b8e186\"],[0.8,\"#7fbc41\"],[0.9,\"#4d9221\"],[1,\"#276419\"]]},\"xaxis\":{\"gridcolor\":\"white\",\"linecolor\":\"white\",\"ticks\":\"\",\"title\":{\"standoff\":15},\"zerolinecolor\":\"white\",\"automargin\":true,\"zerolinewidth\":2},\"yaxis\":{\"gridcolor\":\"white\",\"linecolor\":\"white\",\"ticks\":\"\",\"title\":{\"standoff\":15},\"zerolinecolor\":\"white\",\"automargin\":true,\"zerolinewidth\":2},\"scene\":{\"xaxis\":{\"backgroundcolor\":\"#E5ECF6\",\"gridcolor\":\"white\",\"linecolor\":\"white\",\"showbackground\":true,\"ticks\":\"\",\"zerolinecolor\":\"white\",\"gridwidth\":2},\"yaxis\":{\"backgroundcolor\":\"#E5ECF6\",\"gridcolor\":\"white\",\"linecolor\":\"white\",\"showbackground\":true,\"ticks\":\"\",\"zerolinecolor\":\"white\",\"gridwidth\":2},\"zaxis\":{\"backgroundcolor\":\"#E5ECF6\",\"gridcolor\":\"white\",\"linecolor\":\"white\",\"showbackground\":true,\"ticks\":\"\",\"zerolinecolor\":\"white\",\"gridwidth\":2}},\"shapedefaults\":{\"line\":{\"color\":\"#2a3f5f\"}},\"annotationdefaults\":{\"arrowcolor\":\"#2a3f5f\",\"arrowhead\":0,\"arrowwidth\":1},\"geo\":{\"bgcolor\":\"white\",\"landcolor\":\"#E5ECF6\",\"subunitcolor\":\"white\",\"showland\":true,\"showlakes\":true,\"lakecolor\":\"white\"},\"title\":{\"x\":0.05},\"mapbox\":{\"style\":\"light\"}}},\"shapes\":[{\"line\":{\"color\":\"green\",\"dash\":\"dash\",\"width\":2},\"type\":\"line\",\"x0\":17496163.18884397,\"x1\":17496163.18884397,\"xref\":\"x\",\"y0\":0,\"y1\":1,\"yref\":\"y domain\"},{\"line\":{\"color\":\"green\",\"dash\":\"dash\",\"width\":2},\"type\":\"line\",\"x0\":802361647.7967645,\"x1\":802361647.7967645,\"xref\":\"x\",\"y0\":0,\"y1\":1,\"yref\":\"y domain\"}],\"title\":{\"text\":\"\\u0413\\u0438\\u0441\\u0442\\u043e\\u0433\\u0440\\u0430\\u043c\\u043c\\u0430 \\u043f\\u0440\\u0438\\u0431\\u044b\\u043b\\u0438 200 \\u043b\\u0443\\u0447\\u0448\\u0438\\u0445 \\u0441\\u043a\\u0432\\u0430\\u0436\\u0438\\u043d \\u0440\\u0435\\u0433\\u0438\\u043e\\u043d\\u0430 2\",\"x\":0.5},\"legend\":{\"x\":0.5,\"xanchor\":\"center\",\"orientation\":\"h\"},\"margin\":{\"l\":0,\"r\":0,\"t\":30,\"b\":0},\"xaxis\":{\"title\":{\"text\":\"\\u041f\\u0440\\u0438\\u0431\\u044b\\u043b\\u044c\"}},\"barmode\":\"overlay\"},                        {\"responsive\": true}                    ).then(function(){\n",
       "                            \n",
       "var gd = document.getElementById('ddc0b4d0-86a9-4893-915a-62f813e70eaa');\n",
       "var x = new MutationObserver(function (mutations, observer) {{\n",
       "        var display = window.getComputedStyle(gd).display;\n",
       "        if (!display || display === 'none') {{\n",
       "            console.log([gd, 'removed!']);\n",
       "            Plotly.purge(gd);\n",
       "            observer.disconnect();\n",
       "        }}\n",
       "}});\n",
       "\n",
       "// Listen for the removal of the full notebook cells\n",
       "var notebookContainer = gd.closest('#notebook-container');\n",
       "if (notebookContainer) {{\n",
       "    x.observe(notebookContainer, {childList: true});\n",
       "}}\n",
       "\n",
       "// Listen for the clearing of the current output cell\n",
       "var outputEl = gd.closest('.output');\n",
       "if (outputEl) {{\n",
       "    x.observe(outputEl, {childList: true});\n",
       "}}\n",
       "\n",
       "                        })                };                });            </script>        </div>"
      ]
     },
     "metadata": {},
     "output_type": "display_data"
    },
    {
     "data": {
      "application/vnd.plotly.v1+json": {
       "config": {
        "plotlyServerURL": "https://plot.ly"
       },
       "data": [
        {
         "name": "положительная прибыль",
         "opacity": 0.75,
         "type": "histogram",
         "x": [
          -251653136.12055206,
          318368709.38199234,
          357344124.38786125,
          232411186.1383705,
          266955449.6034031,
          807017355.8543968,
          316827296.2893429,
          545840737.1571331,
          262011950.43140793,
          414780275.2641907,
          48058520.40303421,
          549569250.1094456,
          953250600.1656933,
          317117868.8367119,
          448897559.35429,
          560295730.1672668,
          821130348.8946648,
          224546896.83299637,
          321133027.1960354,
          274038587.2996769,
          647024922.0454769,
          350734510.1177578,
          309697678.71170616,
          250907155.59505272,
          214194488.30500603,
          -70909377.46544075,
          403340687.71445465,
          639846709.9880219,
          -61976731.79464722,
          606211588.0553646,
          -187705062.12726974,
          209379513.5513115,
          -133187254.43591118,
          318710283.0482502,
          398989885.51669693,
          531719347.5226135,
          496130146.42464256,
          355820872.5159588,
          622445675.8823662,
          137860086.0087242,
          135518924.91353226,
          767804409.0327911,
          202256031.10273552,
          412637780.91030693,
          -153983503.79678917,
          306653967.08997154,
          255412967.41796684,
          434466337.93029976,
          613039074.5308628,
          -39162385.152009964,
          293341019.5750351,
          370926882.65574455,
          549465357.6911697,
          275490345.0554657,
          95297223.18818665,
          186939201.1142063,
          471895990.61870384,
          533474281.42238235,
          345869090.71167374,
          549453030.1213074,
          609640370.3676376,
          -399973784.2629509,
          -53528637.68920708,
          135159109.1820469,
          284969183.3646927,
          272319893.5972538,
          544841657.6914291,
          383516042.4494381,
          265091179.39464188,
          579186850.0480976,
          363298527.78876495,
          -109300765.33084106,
          558172748.96842,
          453812273.631546,
          173852809.4470024,
          389716956.34828186,
          436147352.8358822,
          245603157.94210815,
          704262667.739687,
          175516707.4073105,
          569774162.8552113,
          556111411.935606,
          554069993.1774654,
          -102354698.32631493,
          240252073.83977127,
          76259653.79442406,
          793778893.6692848,
          77243035.83729935,
          -12198830.69214058,
          571960937.8853512,
          467751822.2580452,
          741961752.4830246,
          491387302.2531414,
          620329396.7824345,
          546429602.4185047,
          381167454.6620102,
          232687417.76008224,
          819701612.6486549,
          236208143.465065,
          269422946.9832077,
          338842032.1559086,
          169668986.14134598,
          302740319.0559139,
          445140264.49433136,
          -46570623.01594162,
          441133847.7381382,
          109639699.8356762,
          408699962.7559967,
          598715645.2287254,
          204057444.48075485,
          670972971.0195923,
          7563171.867950439,
          -109820784.33089256,
          -4591395.35484314,
          710866867.0988121,
          112737382.51727486,
          673101940.8278522,
          645205588.2135715,
          114720183.89406586,
          -306209397.36772346,
          281071753.63855934,
          147885860.31920242,
          139557388.0178032,
          394424102.4102249,
          656912171.3141098,
          348434911.5135422,
          692132595.370779,
          359578084.9144268,
          973324500.6459827,
          -342548030.69742584,
          582874499.3843231,
          206609295.94568253,
          453808942.8605118,
          346959403.2935715,
          87895008.00831413,
          406310249.75660896,
          260976583.0392723,
          451639300.9823818,
          256270438.70059967,
          691724177.7437115,
          311678569.8070221,
          312329655.4380913,
          420205649.1180744,
          787707199.517868,
          477483316.7787876,
          358861394.68327713,
          125738933.63596916,
          287279162.34765625,
          401808126.39184,
          630515608.4000301,
          36574679.38550186,
          525542633.11507225,
          416156582.63368034,
          290894724.0543232,
          246897389.17373466,
          373465587.931015,
          583022501.4182758,
          427713302.1517124,
          663811499.4684181,
          -461465839.6609478,
          -4021531.5545864105,
          471408791.0734978,
          444417704.2586994,
          397500020.04026985,
          329396812.638504,
          313899864.4855156,
          300373225.0788002,
          508999475.2624035,
          298595297.4530964,
          380938472.3309002,
          268411205.82077217,
          824188334.409811,
          -316240823.66887474,
          262045779.6335888,
          26655210.009355545,
          356867113.96129036,
          -131224755.1204338,
          -245421120.31960487,
          473080169.55111504,
          384202170.1936722,
          168454033.87709618,
          636235345.5278358,
          495135602.8162174,
          300736977.7129402,
          102598893.34193039,
          317085025.87831116,
          444966654.0740204,
          20133007.363752365,
          82094049.55449677,
          268694307.7319031,
          380268277.8332672,
          813720411.1203537,
          595878471.8667507,
          767617794.1190758,
          257205633.82958603,
          942231754.9210739,
          455646519.82380486,
          301183081.75824547,
          354359099.6289196,
          -128735664.85618019,
          -393898073.6518364,
          255785820.96097755,
          96631993.65723038,
          594345593.8096962,
          31265826.181016922,
          77660066.17595673,
          191293503.47131538,
          787051325.8655128,
          539691293.4030838,
          793080616.5401688,
          543924926.3265724,
          404577356.9579525,
          294798802.34472275,
          150685426.11853218,
          381755190.72405624,
          167132593.164999,
          587072368.0528431,
          74184520.25898361,
          864695092.6658573,
          521808643.8567352,
          190760306.16000748,
          370060813.11655045,
          622452058.0951748,
          309396634.5972309,
          408278962.0979042,
          260024039.915905,
          644201914.3831139,
          344869532.91646576,
          408106101.0169735,
          326586648.0526905,
          718621205.0975456,
          171729134.7130642,
          543959456.9063358,
          163986297.10959625,
          684984586.9362717,
          678521707.9227543,
          93153200.50687027,
          -60499254.12467003,
          8786838.01544571,
          596292478.1936073,
          366400868.35886955,
          613098883.1831532,
          659755049.6687527,
          642568546.9351406,
          671074035.4658928,
          1389716.0668449402,
          390748060.08688164,
          331243298.2128353,
          595539412.2628651,
          488074857.76327896,
          326094661.05169296,
          261799789.95972252,
          652134141.3758678,
          700369760.7275658,
          249435650.11357117,
          519299117.7118664,
          70907893.86574364,
          416925920.101881,
          210937834.38225365,
          -345236622.8468666,
          312044269.8770218,
          69378725.55687904,
          265419400.86092567,
          334640935.5367012,
          500613995.820364,
          224304666.47767258,
          514960858.38046074,
          -30980555.789873123,
          568720892.2041264,
          247734063.24123,
          226957656.7515869,
          459044776.6880493,
          533250470.65439415,
          839006280.3465424,
          30974926.745508194,
          544415949.8379211,
          557776489.8513832,
          929029204.155592,
          653923006.8608837,
          405311673.51434517,
          304221003.6515255,
          322348575.6497593,
          -350170269.20018387,
          -222312183.2864914,
          455712659.39969254,
          132754486.73827171,
          722745448.7040005,
          512404459.21229553,
          341278696.56905556,
          380196092.6405544,
          165382753.94488907,
          -44078194.45035553,
          646741928.2156525,
          621307880.8069382,
          957051706.4565735,
          659460061.1388149,
          121109395.081604,
          130506101.9322319,
          578792353.9069176,
          264271462.85212708,
          376299772.7277603,
          595259412.2054348,
          334072872.11393356,
          543175636.789772,
          316618564.1590748,
          125751623.55790329,
          347718377.110836,
          212506300.9218521,
          58168332.311481476,
          387579355.77021027,
          386531812.8940239,
          274587882.43577766,
          649212278.4923477,
          932491140.2584343,
          776636028.7026005,
          1193801725.4602318,
          -111700733.52282333,
          276039210.1937351,
          738382767.973341,
          476262967.08517075,
          133164485.00379562,
          51697819.289829254,
          435656969.00818443,
          125321782.55157852,
          290564940.1205902,
          416220726.24663925,
          72674186.85335922,
          -27639370.581935883,
          709496972.4824352,
          481876573.7607899,
          196439329.0833683,
          300837877.7235451,
          -148028532.55235863,
          -69554211.56406593,
          459377944.47066116,
          660060447.0745182,
          536750532.55711174,
          576003961.7044468,
          532042000.1365719,
          447560015.5046711,
          107424958.11884308,
          295349685.99876404,
          575887963.1356678,
          299265073.64795685,
          194155662.11395836,
          232228549.35034943,
          136807310.42248917,
          361702061.43740845,
          16042721.400764465,
          242720356.3620491,
          694565658.165762,
          294376796.60146904,
          1002467639.9831676,
          472650985.2944145,
          590683839.5209103,
          801731969.9452305,
          579300425.7953777,
          386538622.65086555,
          804349639.63978,
          390985701.9366188,
          515516479.4898586,
          392474301.08213615,
          511983158.1447735,
          421400409.0879116,
          161381974.31777954,
          418643603.2423954,
          83579513.0333271,
          708944235.177948,
          448776220.7810097,
          495087959.3212013,
          618745206.9786072,
          416081244.3189163,
          259002780.1543312,
          341011964.7333813,
          50916032.0283432,
          144912811.07474327,
          347146714.83299065,
          630963466.683218,
          268601518.1040764,
          909474711.9350128,
          -11965851.587974548,
          139748444.998518,
          448609785.929121,
          75279774.3516922,
          581797404.0444031,
          267376654.4220848,
          912011519.9668503,
          527665787.42016983,
          90923819.02278328,
          595617785.6296921,
          406395410.4051399,
          167480342.71481133,
          673548653.5423012,
          659233817.6684875,
          166349676.1291542,
          456385543.688797,
          -95079495.7065239,
          798188190.8669109,
          258579511.6360588,
          409493372.5778179,
          640797715.7781715,
          608923214.4104271,
          726334090.858984,
          480912751.84885406,
          649479905.6118889,
          73321764.34472275,
          497034688.7218075,
          -157805463.05216026,
          363770500.13250923,
          422144634.91818047,
          175949494.49808502,
          878996297.5445385,
          290115321.78826714,
          165062704.20726967,
          730639175.1015129,
          551670980.6732082,
          734405949.1889706,
          555842576.0032253,
          125064024.13194466,
          458150277.6240063,
          163111694.69379997,
          463533398.5499592,
          551458940.6241398,
          297138969.1761513,
          830660992.1621819,
          353693517.7172127,
          290690003.41308403,
          46045863.814279556,
          40269811.13674545,
          176532696.0282364,
          186618223.14482117,
          -81637346.13928413,
          492555215.02329063,
          167254082.6055107,
          240534165.672369,
          416440526.60869026,
          464722654.12233734,
          620910620.2615356,
          -327640645.6729317,
          482278852.63806725,
          621426171.829071,
          624907106.0959759,
          592394287.4389172,
          -197342073.19185066,
          146320386.05339622,
          489442925.34571075,
          547206761.4980316,
          587115328.0545101,
          156313317.4723034,
          714206508.6697826,
          645998853.7517471,
          753707810.770153,
          177618793.29428482,
          603455755.1528511,
          672854843.2487907,
          530730880.6268959,
          404914028.52609825,
          -6489758.901659012,
          508076794.3502197,
          353340165.99695015,
          376081570.40260315,
          265373711.62688065,
          365090320.98029137,
          305848309.9599056,
          -55438903.837911606,
          442049527.4706993,
          420454795.7795429,
          526426182.74552727,
          425726037.3197079,
          709932588.2040501,
          -107683450.60605621,
          832448449.8530579,
          130526519.6679287,
          324208110.4438019,
          575600576.2600899,
          328046926.9950619,
          924470257.3101578,
          239474879.73288155,
          466856379.7144604,
          301291584.2376499,
          618947636.5802364,
          481654462.94704056,
          176281139.05423546,
          497347728.9584141,
          147027328.22244644,
          315362286.0627041,
          434969531.23241806,
          965457819.1129932,
          553505004.2386036,
          501118517.8885956,
          274348201.48713493,
          -517148037.54576683,
          307476342.54906464,
          561923031.4699802,
          295356076.7543087,
          569355023.2799263,
          277005932.90608215,
          569933287.4470825,
          321258049.3362484,
          592658047.8899117,
          430694801.8224373,
          -358576817.4147358,
          656463402.1784725,
          82555012.88697243,
          598773846.0850353,
          313014261.0670738,
          359464152.50535965,
          303173100.6231041,
          647365697.0873508,
          244394185.44008255,
          -86008091.95963287,
          757748630.914093,
          453361100.1299648,
          318454913.859169,
          646783231.1337185,
          551428729.1909485,
          596967040.0366459,
          602773472.9609032,
          457143348.44000626,
          154054320.37932968,
          247298680.1334648,
          523138273.7904663,
          398149811.8449402,
          12250601.976911545,
          208157633.55888176,
          93559913.58631897,
          219405111.31778526,
          26506895.475294113,
          23284914.728172302,
          368353423.2755165,
          309988636.7982216,
          284893985.40716934,
          50789192.300014496,
          81338627.9144001,
          398961161.2659416,
          203529798.16529655,
          542797240.993597,
          358653934.2057209,
          1375095457.4135094,
          343853015.2940445,
          509148875.4356117,
          250293854.13775253,
          387371797.4457207,
          473685338.3048973,
          176209162.48498154,
          427912382.82774734,
          299332739.54218674,
          -279972446.14635277,
          754936171.3472404,
          559350870.9746208,
          16229278.71786499,
          164040161.5351448,
          391384609.45347595,
          277182299.0067158,
          415016437.75286865,
          349081597.50740623,
          738191466.6099873,
          974138867.3538857,
          28148332.500087738,
          638017219.4612999,
          260545014.5410576,
          477750537.73181915,
          541576489.7152138,
          170797781.3537445,
          567753374.6013508,
          259008838.09989738,
          670242275.5459118,
          922995578.9034443,
          1149448826.7411385,
          412765438.8730507,
          135159357.19894028,
          -276601805.55254555,
          84823816.0166626,
          908457594.4836254,
          249668062.64071655,
          -114927432.43029213,
          31852101.493541718,
          183915773.812685,
          963205727.6840229,
          735538744.5894623,
          23433262.07587433,
          38918789.50180054,
          590519894.3438587,
          -154795977.2090912,
          91111209.13492775,
          230267669.1427765,
          344483221.07330894,
          348645158.66093636,
          728332098.9383202,
          101712358.70356369,
          799256062.4433632,
          751951589.6241913,
          132304653.27450943,
          495753495.351429,
          -76170847.67611313,
          355779662.69275093,
          319414007.4510212,
          144336781.10198212,
          178244083.3015995,
          258102412.40363312,
          193938571.26712608,
          674100492.418169,
          -50478347.76222038,
          354962917.97454643,
          590278959.1156178,
          486339944.62545395,
          -217350097.37244034,
          554178228.7285519,
          50625781.28123665,
          568586121.9407101,
          57892018.6506443,
          350863533.4369869,
          586998411.1780968,
          519684163.74339867,
          320257893.78118324,
          -99412873.68164825,
          -52524022.57515144,
          166917676.64294243,
          541019467.6483784,
          407315797.7683811,
          528638365.6865139,
          44446061.0776062,
          300688538.5716133,
          437031072.58797836,
          278932938.58446884,
          -112087038.56053352,
          575455423.7512856,
          608060198.5669804,
          237984478.93780327,
          220211804.6755371,
          123151914.84368134,
          655396235.5811214,
          766767104.78582,
          793734195.817379,
          511214187.05744934,
          491775390.8654289,
          100964902.09779167,
          -194726774.04558754,
          569088209.3684006,
          449070302.1017933,
          453408438.5317631,
          563326517.159544,
          6592961.364406586,
          -104124264.51429749,
          25346045.69482994,
          641497523.1723442,
          741778481.7885456,
          476094750.5073261,
          -10158703.895681381,
          -105070366.25014114,
          527349105.41628265,
          202928307.76981544,
          420229151.3214226,
          32906334.22232437,
          413200415.5653057,
          582468515.8044281,
          195367574.43276215,
          557407860.0799179,
          127311471.69717407,
          941790719.1653767,
          202392277.10780334,
          30212301.78492737,
          620946455.2551022,
          119082393.50609589,
          167767004.5674057,
          359528625.58992386,
          135703896.3588009,
          427977860.3932419,
          333668689.6713829,
          724110846.2807446,
          170931685.92728043,
          293872038.90010834,
          747648474.5136547,
          227834730.52591515,
          81070763.01203918,
          377768191.75881195,
          275557552.55786514,
          655275124.9207516,
          -15893592.244838715,
          189101586.1053543,
          284961176.4257088,
          684398471.086649,
          426138588.5046673,
          537532085.289938,
          572624271.8353615,
          678866007.1118927,
          7117189.250940323,
          884680911.6831284,
          815101454.6964607,
          326589240.7706814,
          248083789.15992355,
          615542449.6442184,
          862828836.4534321,
          -146674813.59669876,
          191842702.8106327,
          556873146.4030437,
          372233253.37075233,
          180334284.87492752,
          990566192.9388237,
          446577493.9577942,
          805225509.8603096,
          686081964.9290771,
          566637492.6840019,
          441952383.00180626,
          431972613.047678,
          162185106.7645626,
          550425607.1334095,
          469217967.03406525,
          292066867.99832153,
          122998438.78276253,
          551590306.3229542,
          523088027.2197571,
          535680671.76667213,
          172584065.86479568,
          -200572513.12451553,
          511879275.9587345,
          580340433.6431522,
          522091842.13124275,
          844086369.0159187,
          226934059.4453888,
          275709900.2937527,
          773817739.0783539,
          41542256.21292114,
          556698142.2857285,
          641590819.0916367,
          214132716.3029747,
          491777071.2208328,
          333259085.0710163,
          351938876.62730217,
          282879352.0939617,
          366162192.1996193,
          729335570.8685799,
          214867393.0902462,
          116459345.88895988,
          214019689.68514824,
          48078137.87656021,
          449598391.6800194,
          337150969.15010834,
          511935505.55516624,
          410086963.33592033,
          338956361.79805183,
          370433041.61873627,
          280750778.3544655,
          -15588321.725292206,
          300928209.35539246,
          904495271.522192,
          701715908.7143364,
          156470583.8445034,
          345690093.91690063,
          652635628.8570137,
          425694288.5132351,
          -261337958.68997383,
          430110729.7288151,
          363647545.0186081,
          200129876.20960617,
          54345645.3704586,
          223679191.99472237,
          132884019.26290512,
          698954292.118187,
          483229961.1315479,
          87186526.85029411,
          255065445.40171623,
          254048094.740036,
          177533593.735281,
          261868163.31611443,
          663590817.8344707,
          301313327.9381523,
          332866816.3142185,
          126090658.46113205,
          199360396.2187271,
          148314192.5361004,
          657093937.6051121,
          39598875.022789,
          426893677.91220284,
          271890141.290535,
          -42034815.32510567,
          212001091.96405792,
          -240801591.9232235,
          460133692.7870312,
          819981374.6672268,
          398200480.42775726,
          538473960.4803143,
          343462571.02656937,
          335358931.7078533,
          640295052.6648502,
          728401777.0615864,
          146473264.89522934,
          406612647.0942974,
          252390228.09457016,
          1039709145.6307659,
          246312841.09134865,
          618017405.3997135,
          768724272.1468334,
          208479282.90592575,
          434454949.13510704,
          347384387.9942417,
          541685050.6735783,
          497649791.6828575,
          303508498.98885536,
          249655653.31627846,
          215258131.96994781,
          689416269.9881687,
          20808596.75741577,
          362327543.08231354,
          1032591335.1706352,
          49636798.00762558,
          164605847.89831352,
          -152120529.71318626,
          254176430.78857994,
          141017783.28866005,
          518798158.2364769,
          210075437.9507084,
          202097292.44195747,
          568242333.3440952,
          709585686.9514275,
          413617030.8092613,
          30662511.17304039,
          219466274.43842316,
          754280802.1706066,
          484357656.0266514,
          429547214.81157494,
          -22987188.280981064,
          149086065.5836563,
          21870350.5310421,
          487217761.0662346,
          829038901.2412014,
          487781836.4601517,
          175268968.24544525,
          389510977.94177437,
          -105233568.45445442,
          515620152.0014458,
          468748684.28793144,
          868863891.8544807,
          338008760.0093937,
          195610243.34326744,
          -171361059.09534454,
          475719625.91716194,
          233319183.24707413,
          305380758.0236378,
          271144507.30496216,
          964914351.216568,
          386375951.9708061,
          216828479.5581646,
          561532687.7603245,
          457982255.87597847,
          23291706.238603592,
          209537018.5189743,
          195295247.63149452,
          46684798.7242794,
          402570421.0566654,
          275028739.6021042,
          594064340.6984577,
          482226394.2472515,
          298703954.83701515,
          971159161.7649899,
          628260209.6528721,
          613574237.4511147,
          299006628.72070694,
          94117592.70155144,
          634837160.4949303,
          -68283036.17184258,
          530848130.22434044,
          619292387.1524105,
          615819635.7209454,
          898583329.515171,
          677960937.665966,
          190324177.0046444,
          101062650.56334496,
          642533705.0531483,
          449205270.84920883,
          467955400.491951,
          548322260.4277077,
          530987694.4419098,
          151589048.20386124,
          371116670.8391857,
          622292073.8748074,
          420413782.26158524,
          373960050.8565731,
          527531138.1875038,
          458681334.0836525,
          808968975.9255524,
          440299626.88952637,
          525314760.4592171,
          734569756.387167,
          92945585.31581116,
          131577226.03367615,
          384038491.6211548,
          730416681.331253,
          288845275.3828163,
          836823986.4903507,
          153488245.83756447,
          178728916.36021614,
          286248029.16189766,
          -187846744.70170212,
          589381511.3879185,
          90471019.1716671,
          676194832.546135,
          444460319.24744415,
          502326451.0698414,
          346695584.9057522,
          162447293.27271843,
          34659891.652534485,
          324227514.49814224,
          756922167.6883659,
          -79845379.82445145,
          -94148278.50145912,
          456097779.4806709,
          403891656.5330391,
          314877483.243103,
          443239681.8530693,
          393451558.4737148,
          104588007.04489899,
          219812507.59084892,
          -178098231.5321312,
          179956118.3852806,
          398378386.781517,
          392046803.33750534,
          -93891125.04820824,
          72210330.8938675,
          608187472.5814037,
          772245877.0020294,
          227345592.38266563,
          458598210.45874023,
          -29118006.972837448,
          184295555.74146652,
          646795819.467947,
          719712000.0479164,
          777363399.1614723,
          482861912.4394398,
          -139893213.37343407,
          505338423.1570091,
          558936095.2553596,
          264235297.59989548,
          305594897.9940491,
          244219298.3256836,
          181016699.6889038,
          599928862.7121716,
          406598346.6229534,
          652230624.1641006,
          153022227.60790062,
          393965096.3895016,
          707336843.8468056,
          642942344.258934,
          732124624.8470554,
          435231345.68525887,
          459282050.16355515,
          46740115.82805824,
          593568716.4623756,
          488847464.44605064,
          587685565.1594868,
          126226424.92306519,
          264343690.50619125,
          748987964.330492,
          749593598.6841869,
          -163706014.79722023,
          357207463.7906742,
          141401187.85607338,
          624056918.0610123,
          817584004.7107868,
          820217462.1543369,
          236663993.1736641,
          491141551.6981449,
          43195277.8470211,
          424988686.3236599,
          -119748653.91924286,
          859707.1014518738,
          658986329.7714787,
          682511267.048706,
          859291104.9528732,
          635863504.8465328,
          296464187.4989624,
          717711535.327692,
          150515533.75377464,
          97218261.04968071,
          562995626.6860161,
          286992135.09459496,
          482577933.9065628,
          780343446.7946587,
          372673177.9312496,
          506838851.43688965,
          566762497.3114567,
          -117660589.21146011,
          44345265.83654213,
          390815036.5444412,
          443210874.07809067,
          290582817.501667,
          896931892.1475868,
          319623118.86727333,
          463472421.57855606,
          266686510.78435516,
          650096688.5990696,
          516442019.60723114,
          479626638.53871727,
          577106134.0191135,
          447325016.8389702,
          210133845.69132805,
          255897751.8712654,
          513606927.69826126,
          660607214.7570267,
          -243785781.03960037
         ]
        },
        {
         "name": "отрицательная прибыль",
         "opacity": 0.75,
         "type": "histogram",
         "x": [
          -251653136.12055206,
          -70909377.46544075,
          -61976731.79464722,
          -187705062.12726974,
          -133187254.43591118,
          -153983503.79678917,
          -39162385.152009964,
          -399973784.2629509,
          -53528637.68920708,
          -109300765.33084106,
          -102354698.32631493,
          -12198830.69214058,
          -46570623.01594162,
          -109820784.33089256,
          -4591395.35484314,
          -306209397.36772346,
          -342548030.69742584,
          -461465839.6609478,
          -4021531.5545864105,
          -316240823.66887474,
          -131224755.1204338,
          -245421120.31960487,
          -128735664.85618019,
          -393898073.6518364,
          -60499254.12467003,
          -345236622.8468666,
          -30980555.789873123,
          -350170269.20018387,
          -222312183.2864914,
          -44078194.45035553,
          -111700733.52282333,
          -27639370.581935883,
          -148028532.55235863,
          -69554211.56406593,
          -11965851.587974548,
          -95079495.7065239,
          -157805463.05216026,
          -81637346.13928413,
          -327640645.6729317,
          -197342073.19185066,
          -6489758.901659012,
          -55438903.837911606,
          -107683450.60605621,
          -517148037.54576683,
          -358576817.4147358,
          -86008091.95963287,
          -279972446.14635277,
          -276601805.55254555,
          -114927432.43029213,
          -154795977.2090912,
          -76170847.67611313,
          -50478347.76222038,
          -217350097.37244034,
          -99412873.68164825,
          -52524022.57515144,
          -112087038.56053352,
          -194726774.04558754,
          -104124264.51429749,
          -10158703.895681381,
          -105070366.25014114,
          -15893592.244838715,
          -146674813.59669876,
          -200572513.12451553,
          -15588321.725292206,
          -261337958.68997383,
          -42034815.32510567,
          -240801591.9232235,
          -152120529.71318626,
          -22987188.280981064,
          -105233568.45445442,
          -171361059.09534454,
          -68283036.17184258,
          -187846744.70170212,
          -79845379.82445145,
          -94148278.50145912,
          -178098231.5321312,
          -93891125.04820824,
          -29118006.972837448,
          -139893213.37343407,
          -163706014.79722023,
          -119748653.91924286,
          -117660589.21146011,
          -243785781.03960037
         ]
        }
       ],
       "layout": {
        "barmode": "overlay",
        "legend": {
         "orientation": "h",
         "x": 0.5,
         "xanchor": "center"
        },
        "margin": {
         "b": 0,
         "l": 0,
         "r": 0,
         "t": 30
        },
        "shapes": [
         {
          "line": {
           "color": "green",
           "dash": "dash",
           "width": 2
          },
          "type": "line",
          "x0": -178338402.29700965,
          "x1": -178338402.29700965,
          "xref": "x",
          "y0": 0,
          "y1": 1,
          "yref": "y domain"
         },
         {
          "line": {
           "color": "green",
           "dash": "dash",
           "width": 2
          },
          "type": "line",
          "x0": 898731128.0653465,
          "x1": 898731128.0653465,
          "xref": "x",
          "y0": 0,
          "y1": 1,
          "yref": "y domain"
         }
        ],
        "template": {
         "data": {
          "bar": [
           {
            "error_x": {
             "color": "#2a3f5f"
            },
            "error_y": {
             "color": "#2a3f5f"
            },
            "marker": {
             "line": {
              "color": "#E5ECF6",
              "width": 0.5
             },
             "pattern": {
              "fillmode": "overlay",
              "size": 10,
              "solidity": 0.2
             }
            },
            "type": "bar"
           }
          ],
          "barpolar": [
           {
            "marker": {
             "line": {
              "color": "#E5ECF6",
              "width": 0.5
             },
             "pattern": {
              "fillmode": "overlay",
              "size": 10,
              "solidity": 0.2
             }
            },
            "type": "barpolar"
           }
          ],
          "carpet": [
           {
            "aaxis": {
             "endlinecolor": "#2a3f5f",
             "gridcolor": "white",
             "linecolor": "white",
             "minorgridcolor": "white",
             "startlinecolor": "#2a3f5f"
            },
            "baxis": {
             "endlinecolor": "#2a3f5f",
             "gridcolor": "white",
             "linecolor": "white",
             "minorgridcolor": "white",
             "startlinecolor": "#2a3f5f"
            },
            "type": "carpet"
           }
          ],
          "choropleth": [
           {
            "colorbar": {
             "outlinewidth": 0,
             "ticks": ""
            },
            "type": "choropleth"
           }
          ],
          "contour": [
           {
            "colorbar": {
             "outlinewidth": 0,
             "ticks": ""
            },
            "colorscale": [
             [
              0,
              "#0d0887"
             ],
             [
              0.1111111111111111,
              "#46039f"
             ],
             [
              0.2222222222222222,
              "#7201a8"
             ],
             [
              0.3333333333333333,
              "#9c179e"
             ],
             [
              0.4444444444444444,
              "#bd3786"
             ],
             [
              0.5555555555555556,
              "#d8576b"
             ],
             [
              0.6666666666666666,
              "#ed7953"
             ],
             [
              0.7777777777777778,
              "#fb9f3a"
             ],
             [
              0.8888888888888888,
              "#fdca26"
             ],
             [
              1,
              "#f0f921"
             ]
            ],
            "type": "contour"
           }
          ],
          "contourcarpet": [
           {
            "colorbar": {
             "outlinewidth": 0,
             "ticks": ""
            },
            "type": "contourcarpet"
           }
          ],
          "heatmap": [
           {
            "colorbar": {
             "outlinewidth": 0,
             "ticks": ""
            },
            "colorscale": [
             [
              0,
              "#0d0887"
             ],
             [
              0.1111111111111111,
              "#46039f"
             ],
             [
              0.2222222222222222,
              "#7201a8"
             ],
             [
              0.3333333333333333,
              "#9c179e"
             ],
             [
              0.4444444444444444,
              "#bd3786"
             ],
             [
              0.5555555555555556,
              "#d8576b"
             ],
             [
              0.6666666666666666,
              "#ed7953"
             ],
             [
              0.7777777777777778,
              "#fb9f3a"
             ],
             [
              0.8888888888888888,
              "#fdca26"
             ],
             [
              1,
              "#f0f921"
             ]
            ],
            "type": "heatmap"
           }
          ],
          "heatmapgl": [
           {
            "colorbar": {
             "outlinewidth": 0,
             "ticks": ""
            },
            "colorscale": [
             [
              0,
              "#0d0887"
             ],
             [
              0.1111111111111111,
              "#46039f"
             ],
             [
              0.2222222222222222,
              "#7201a8"
             ],
             [
              0.3333333333333333,
              "#9c179e"
             ],
             [
              0.4444444444444444,
              "#bd3786"
             ],
             [
              0.5555555555555556,
              "#d8576b"
             ],
             [
              0.6666666666666666,
              "#ed7953"
             ],
             [
              0.7777777777777778,
              "#fb9f3a"
             ],
             [
              0.8888888888888888,
              "#fdca26"
             ],
             [
              1,
              "#f0f921"
             ]
            ],
            "type": "heatmapgl"
           }
          ],
          "histogram": [
           {
            "marker": {
             "pattern": {
              "fillmode": "overlay",
              "size": 10,
              "solidity": 0.2
             }
            },
            "type": "histogram"
           }
          ],
          "histogram2d": [
           {
            "colorbar": {
             "outlinewidth": 0,
             "ticks": ""
            },
            "colorscale": [
             [
              0,
              "#0d0887"
             ],
             [
              0.1111111111111111,
              "#46039f"
             ],
             [
              0.2222222222222222,
              "#7201a8"
             ],
             [
              0.3333333333333333,
              "#9c179e"
             ],
             [
              0.4444444444444444,
              "#bd3786"
             ],
             [
              0.5555555555555556,
              "#d8576b"
             ],
             [
              0.6666666666666666,
              "#ed7953"
             ],
             [
              0.7777777777777778,
              "#fb9f3a"
             ],
             [
              0.8888888888888888,
              "#fdca26"
             ],
             [
              1,
              "#f0f921"
             ]
            ],
            "type": "histogram2d"
           }
          ],
          "histogram2dcontour": [
           {
            "colorbar": {
             "outlinewidth": 0,
             "ticks": ""
            },
            "colorscale": [
             [
              0,
              "#0d0887"
             ],
             [
              0.1111111111111111,
              "#46039f"
             ],
             [
              0.2222222222222222,
              "#7201a8"
             ],
             [
              0.3333333333333333,
              "#9c179e"
             ],
             [
              0.4444444444444444,
              "#bd3786"
             ],
             [
              0.5555555555555556,
              "#d8576b"
             ],
             [
              0.6666666666666666,
              "#ed7953"
             ],
             [
              0.7777777777777778,
              "#fb9f3a"
             ],
             [
              0.8888888888888888,
              "#fdca26"
             ],
             [
              1,
              "#f0f921"
             ]
            ],
            "type": "histogram2dcontour"
           }
          ],
          "mesh3d": [
           {
            "colorbar": {
             "outlinewidth": 0,
             "ticks": ""
            },
            "type": "mesh3d"
           }
          ],
          "parcoords": [
           {
            "line": {
             "colorbar": {
              "outlinewidth": 0,
              "ticks": ""
             }
            },
            "type": "parcoords"
           }
          ],
          "pie": [
           {
            "automargin": true,
            "type": "pie"
           }
          ],
          "scatter": [
           {
            "fillpattern": {
             "fillmode": "overlay",
             "size": 10,
             "solidity": 0.2
            },
            "type": "scatter"
           }
          ],
          "scatter3d": [
           {
            "line": {
             "colorbar": {
              "outlinewidth": 0,
              "ticks": ""
             }
            },
            "marker": {
             "colorbar": {
              "outlinewidth": 0,
              "ticks": ""
             }
            },
            "type": "scatter3d"
           }
          ],
          "scattercarpet": [
           {
            "marker": {
             "colorbar": {
              "outlinewidth": 0,
              "ticks": ""
             }
            },
            "type": "scattercarpet"
           }
          ],
          "scattergeo": [
           {
            "marker": {
             "colorbar": {
              "outlinewidth": 0,
              "ticks": ""
             }
            },
            "type": "scattergeo"
           }
          ],
          "scattergl": [
           {
            "marker": {
             "colorbar": {
              "outlinewidth": 0,
              "ticks": ""
             }
            },
            "type": "scattergl"
           }
          ],
          "scattermapbox": [
           {
            "marker": {
             "colorbar": {
              "outlinewidth": 0,
              "ticks": ""
             }
            },
            "type": "scattermapbox"
           }
          ],
          "scatterpolar": [
           {
            "marker": {
             "colorbar": {
              "outlinewidth": 0,
              "ticks": ""
             }
            },
            "type": "scatterpolar"
           }
          ],
          "scatterpolargl": [
           {
            "marker": {
             "colorbar": {
              "outlinewidth": 0,
              "ticks": ""
             }
            },
            "type": "scatterpolargl"
           }
          ],
          "scatterternary": [
           {
            "marker": {
             "colorbar": {
              "outlinewidth": 0,
              "ticks": ""
             }
            },
            "type": "scatterternary"
           }
          ],
          "surface": [
           {
            "colorbar": {
             "outlinewidth": 0,
             "ticks": ""
            },
            "colorscale": [
             [
              0,
              "#0d0887"
             ],
             [
              0.1111111111111111,
              "#46039f"
             ],
             [
              0.2222222222222222,
              "#7201a8"
             ],
             [
              0.3333333333333333,
              "#9c179e"
             ],
             [
              0.4444444444444444,
              "#bd3786"
             ],
             [
              0.5555555555555556,
              "#d8576b"
             ],
             [
              0.6666666666666666,
              "#ed7953"
             ],
             [
              0.7777777777777778,
              "#fb9f3a"
             ],
             [
              0.8888888888888888,
              "#fdca26"
             ],
             [
              1,
              "#f0f921"
             ]
            ],
            "type": "surface"
           }
          ],
          "table": [
           {
            "cells": {
             "fill": {
              "color": "#EBF0F8"
             },
             "line": {
              "color": "white"
             }
            },
            "header": {
             "fill": {
              "color": "#C8D4E3"
             },
             "line": {
              "color": "white"
             }
            },
            "type": "table"
           }
          ]
         },
         "layout": {
          "annotationdefaults": {
           "arrowcolor": "#2a3f5f",
           "arrowhead": 0,
           "arrowwidth": 1
          },
          "autotypenumbers": "strict",
          "coloraxis": {
           "colorbar": {
            "outlinewidth": 0,
            "ticks": ""
           }
          },
          "colorscale": {
           "diverging": [
            [
             0,
             "#8e0152"
            ],
            [
             0.1,
             "#c51b7d"
            ],
            [
             0.2,
             "#de77ae"
            ],
            [
             0.3,
             "#f1b6da"
            ],
            [
             0.4,
             "#fde0ef"
            ],
            [
             0.5,
             "#f7f7f7"
            ],
            [
             0.6,
             "#e6f5d0"
            ],
            [
             0.7,
             "#b8e186"
            ],
            [
             0.8,
             "#7fbc41"
            ],
            [
             0.9,
             "#4d9221"
            ],
            [
             1,
             "#276419"
            ]
           ],
           "sequential": [
            [
             0,
             "#0d0887"
            ],
            [
             0.1111111111111111,
             "#46039f"
            ],
            [
             0.2222222222222222,
             "#7201a8"
            ],
            [
             0.3333333333333333,
             "#9c179e"
            ],
            [
             0.4444444444444444,
             "#bd3786"
            ],
            [
             0.5555555555555556,
             "#d8576b"
            ],
            [
             0.6666666666666666,
             "#ed7953"
            ],
            [
             0.7777777777777778,
             "#fb9f3a"
            ],
            [
             0.8888888888888888,
             "#fdca26"
            ],
            [
             1,
             "#f0f921"
            ]
           ],
           "sequentialminus": [
            [
             0,
             "#0d0887"
            ],
            [
             0.1111111111111111,
             "#46039f"
            ],
            [
             0.2222222222222222,
             "#7201a8"
            ],
            [
             0.3333333333333333,
             "#9c179e"
            ],
            [
             0.4444444444444444,
             "#bd3786"
            ],
            [
             0.5555555555555556,
             "#d8576b"
            ],
            [
             0.6666666666666666,
             "#ed7953"
            ],
            [
             0.7777777777777778,
             "#fb9f3a"
            ],
            [
             0.8888888888888888,
             "#fdca26"
            ],
            [
             1,
             "#f0f921"
            ]
           ]
          },
          "colorway": [
           "#636efa",
           "#EF553B",
           "#00cc96",
           "#ab63fa",
           "#FFA15A",
           "#19d3f3",
           "#FF6692",
           "#B6E880",
           "#FF97FF",
           "#FECB52"
          ],
          "font": {
           "color": "#2a3f5f"
          },
          "geo": {
           "bgcolor": "white",
           "lakecolor": "white",
           "landcolor": "#E5ECF6",
           "showlakes": true,
           "showland": true,
           "subunitcolor": "white"
          },
          "hoverlabel": {
           "align": "left"
          },
          "hovermode": "closest",
          "mapbox": {
           "style": "light"
          },
          "paper_bgcolor": "white",
          "plot_bgcolor": "#E5ECF6",
          "polar": {
           "angularaxis": {
            "gridcolor": "white",
            "linecolor": "white",
            "ticks": ""
           },
           "bgcolor": "#E5ECF6",
           "radialaxis": {
            "gridcolor": "white",
            "linecolor": "white",
            "ticks": ""
           }
          },
          "scene": {
           "xaxis": {
            "backgroundcolor": "#E5ECF6",
            "gridcolor": "white",
            "gridwidth": 2,
            "linecolor": "white",
            "showbackground": true,
            "ticks": "",
            "zerolinecolor": "white"
           },
           "yaxis": {
            "backgroundcolor": "#E5ECF6",
            "gridcolor": "white",
            "gridwidth": 2,
            "linecolor": "white",
            "showbackground": true,
            "ticks": "",
            "zerolinecolor": "white"
           },
           "zaxis": {
            "backgroundcolor": "#E5ECF6",
            "gridcolor": "white",
            "gridwidth": 2,
            "linecolor": "white",
            "showbackground": true,
            "ticks": "",
            "zerolinecolor": "white"
           }
          },
          "shapedefaults": {
           "line": {
            "color": "#2a3f5f"
           }
          },
          "ternary": {
           "aaxis": {
            "gridcolor": "white",
            "linecolor": "white",
            "ticks": ""
           },
           "baxis": {
            "gridcolor": "white",
            "linecolor": "white",
            "ticks": ""
           },
           "bgcolor": "#E5ECF6",
           "caxis": {
            "gridcolor": "white",
            "linecolor": "white",
            "ticks": ""
           }
          },
          "title": {
           "x": 0.05
          },
          "xaxis": {
           "automargin": true,
           "gridcolor": "white",
           "linecolor": "white",
           "ticks": "",
           "title": {
            "standoff": 15
           },
           "zerolinecolor": "white",
           "zerolinewidth": 2
          },
          "yaxis": {
           "automargin": true,
           "gridcolor": "white",
           "linecolor": "white",
           "ticks": "",
           "title": {
            "standoff": 15
           },
           "zerolinecolor": "white",
           "zerolinewidth": 2
          }
         }
        },
        "title": {
         "text": "Гистограмма прибыли 200 лучших скважин региона 3",
         "x": 0.5
        },
        "xaxis": {
         "title": {
          "text": "Прибыль"
         }
        }
       }
      },
      "text/html": [
       "<div>                            <div id=\"671005f0-c48b-45e8-aff0-abef6ae0cd9e\" class=\"plotly-graph-div\" style=\"height:525px; width:100%;\"></div>            <script type=\"text/javascript\">                require([\"plotly\"], function(Plotly) {                    window.PLOTLYENV=window.PLOTLYENV || {};                                    if (document.getElementById(\"671005f0-c48b-45e8-aff0-abef6ae0cd9e\")) {                    Plotly.newPlot(                        \"671005f0-c48b-45e8-aff0-abef6ae0cd9e\",                        [{\"name\":\"\\u043f\\u043e\\u043b\\u043e\\u0436\\u0438\\u0442\\u0435\\u043b\\u044c\\u043d\\u0430\\u044f \\u043f\\u0440\\u0438\\u0431\\u044b\\u043b\\u044c\",\"opacity\":0.75,\"x\":[-251653136.12055206,318368709.38199234,357344124.38786125,232411186.1383705,266955449.6034031,807017355.8543968,316827296.2893429,545840737.1571331,262011950.43140793,414780275.2641907,48058520.40303421,549569250.1094456,953250600.1656933,317117868.8367119,448897559.35429,560295730.1672668,821130348.8946648,224546896.83299637,321133027.1960354,274038587.2996769,647024922.0454769,350734510.1177578,309697678.71170616,250907155.59505272,214194488.30500603,-70909377.46544075,403340687.71445465,639846709.9880219,-61976731.79464722,606211588.0553646,-187705062.12726974,209379513.5513115,-133187254.43591118,318710283.0482502,398989885.51669693,531719347.5226135,496130146.42464256,355820872.5159588,622445675.8823662,137860086.0087242,135518924.91353226,767804409.0327911,202256031.10273552,412637780.91030693,-153983503.79678917,306653967.08997154,255412967.41796684,434466337.93029976,613039074.5308628,-39162385.152009964,293341019.5750351,370926882.65574455,549465357.6911697,275490345.0554657,95297223.18818665,186939201.1142063,471895990.61870384,533474281.42238235,345869090.71167374,549453030.1213074,609640370.3676376,-399973784.2629509,-53528637.68920708,135159109.1820469,284969183.3646927,272319893.5972538,544841657.6914291,383516042.4494381,265091179.39464188,579186850.0480976,363298527.78876495,-109300765.33084106,558172748.96842,453812273.631546,173852809.4470024,389716956.34828186,436147352.8358822,245603157.94210815,704262667.739687,175516707.4073105,569774162.8552113,556111411.935606,554069993.1774654,-102354698.32631493,240252073.83977127,76259653.79442406,793778893.6692848,77243035.83729935,-12198830.69214058,571960937.8853512,467751822.2580452,741961752.4830246,491387302.2531414,620329396.7824345,546429602.4185047,381167454.6620102,232687417.76008224,819701612.6486549,236208143.465065,269422946.9832077,338842032.1559086,169668986.14134598,302740319.0559139,445140264.49433136,-46570623.01594162,441133847.7381382,109639699.8356762,408699962.7559967,598715645.2287254,204057444.48075485,670972971.0195923,7563171.867950439,-109820784.33089256,-4591395.35484314,710866867.0988121,112737382.51727486,673101940.8278522,645205588.2135715,114720183.89406586,-306209397.36772346,281071753.63855934,147885860.31920242,139557388.0178032,394424102.4102249,656912171.3141098,348434911.5135422,692132595.370779,359578084.9144268,973324500.6459827,-342548030.69742584,582874499.3843231,206609295.94568253,453808942.8605118,346959403.2935715,87895008.00831413,406310249.75660896,260976583.0392723,451639300.9823818,256270438.70059967,691724177.7437115,311678569.8070221,312329655.4380913,420205649.1180744,787707199.517868,477483316.7787876,358861394.68327713,125738933.63596916,287279162.34765625,401808126.39184,630515608.4000301,36574679.38550186,525542633.11507225,416156582.63368034,290894724.0543232,246897389.17373466,373465587.931015,583022501.4182758,427713302.1517124,663811499.4684181,-461465839.6609478,-4021531.5545864105,471408791.0734978,444417704.2586994,397500020.04026985,329396812.638504,313899864.4855156,300373225.0788002,508999475.2624035,298595297.4530964,380938472.3309002,268411205.82077217,824188334.409811,-316240823.66887474,262045779.6335888,26655210.009355545,356867113.96129036,-131224755.1204338,-245421120.31960487,473080169.55111504,384202170.1936722,168454033.87709618,636235345.5278358,495135602.8162174,300736977.7129402,102598893.34193039,317085025.87831116,444966654.0740204,20133007.363752365,82094049.55449677,268694307.7319031,380268277.8332672,813720411.1203537,595878471.8667507,767617794.1190758,257205633.82958603,942231754.9210739,455646519.82380486,301183081.75824547,354359099.6289196,-128735664.85618019,-393898073.6518364,255785820.96097755,96631993.65723038,594345593.8096962,31265826.181016922,77660066.17595673,191293503.47131538,787051325.8655128,539691293.4030838,793080616.5401688,543924926.3265724,404577356.9579525,294798802.34472275,150685426.11853218,381755190.72405624,167132593.164999,587072368.0528431,74184520.25898361,864695092.6658573,521808643.8567352,190760306.16000748,370060813.11655045,622452058.0951748,309396634.5972309,408278962.0979042,260024039.915905,644201914.3831139,344869532.91646576,408106101.0169735,326586648.0526905,718621205.0975456,171729134.7130642,543959456.9063358,163986297.10959625,684984586.9362717,678521707.9227543,93153200.50687027,-60499254.12467003,8786838.01544571,596292478.1936073,366400868.35886955,613098883.1831532,659755049.6687527,642568546.9351406,671074035.4658928,1389716.0668449402,390748060.08688164,331243298.2128353,595539412.2628651,488074857.76327896,326094661.05169296,261799789.95972252,652134141.3758678,700369760.7275658,249435650.11357117,519299117.7118664,70907893.86574364,416925920.101881,210937834.38225365,-345236622.8468666,312044269.8770218,69378725.55687904,265419400.86092567,334640935.5367012,500613995.820364,224304666.47767258,514960858.38046074,-30980555.789873123,568720892.2041264,247734063.24123,226957656.7515869,459044776.6880493,533250470.65439415,839006280.3465424,30974926.745508194,544415949.8379211,557776489.8513832,929029204.155592,653923006.8608837,405311673.51434517,304221003.6515255,322348575.6497593,-350170269.20018387,-222312183.2864914,455712659.39969254,132754486.73827171,722745448.7040005,512404459.21229553,341278696.56905556,380196092.6405544,165382753.94488907,-44078194.45035553,646741928.2156525,621307880.8069382,957051706.4565735,659460061.1388149,121109395.081604,130506101.9322319,578792353.9069176,264271462.85212708,376299772.7277603,595259412.2054348,334072872.11393356,543175636.789772,316618564.1590748,125751623.55790329,347718377.110836,212506300.9218521,58168332.311481476,387579355.77021027,386531812.8940239,274587882.43577766,649212278.4923477,932491140.2584343,776636028.7026005,1193801725.4602318,-111700733.52282333,276039210.1937351,738382767.973341,476262967.08517075,133164485.00379562,51697819.289829254,435656969.00818443,125321782.55157852,290564940.1205902,416220726.24663925,72674186.85335922,-27639370.581935883,709496972.4824352,481876573.7607899,196439329.0833683,300837877.7235451,-148028532.55235863,-69554211.56406593,459377944.47066116,660060447.0745182,536750532.55711174,576003961.7044468,532042000.1365719,447560015.5046711,107424958.11884308,295349685.99876404,575887963.1356678,299265073.64795685,194155662.11395836,232228549.35034943,136807310.42248917,361702061.43740845,16042721.400764465,242720356.3620491,694565658.165762,294376796.60146904,1002467639.9831676,472650985.2944145,590683839.5209103,801731969.9452305,579300425.7953777,386538622.65086555,804349639.63978,390985701.9366188,515516479.4898586,392474301.08213615,511983158.1447735,421400409.0879116,161381974.31777954,418643603.2423954,83579513.0333271,708944235.177948,448776220.7810097,495087959.3212013,618745206.9786072,416081244.3189163,259002780.1543312,341011964.7333813,50916032.0283432,144912811.07474327,347146714.83299065,630963466.683218,268601518.1040764,909474711.9350128,-11965851.587974548,139748444.998518,448609785.929121,75279774.3516922,581797404.0444031,267376654.4220848,912011519.9668503,527665787.42016983,90923819.02278328,595617785.6296921,406395410.4051399,167480342.71481133,673548653.5423012,659233817.6684875,166349676.1291542,456385543.688797,-95079495.7065239,798188190.8669109,258579511.6360588,409493372.5778179,640797715.7781715,608923214.4104271,726334090.858984,480912751.84885406,649479905.6118889,73321764.34472275,497034688.7218075,-157805463.05216026,363770500.13250923,422144634.91818047,175949494.49808502,878996297.5445385,290115321.78826714,165062704.20726967,730639175.1015129,551670980.6732082,734405949.1889706,555842576.0032253,125064024.13194466,458150277.6240063,163111694.69379997,463533398.5499592,551458940.6241398,297138969.1761513,830660992.1621819,353693517.7172127,290690003.41308403,46045863.814279556,40269811.13674545,176532696.0282364,186618223.14482117,-81637346.13928413,492555215.02329063,167254082.6055107,240534165.672369,416440526.60869026,464722654.12233734,620910620.2615356,-327640645.6729317,482278852.63806725,621426171.829071,624907106.0959759,592394287.4389172,-197342073.19185066,146320386.05339622,489442925.34571075,547206761.4980316,587115328.0545101,156313317.4723034,714206508.6697826,645998853.7517471,753707810.770153,177618793.29428482,603455755.1528511,672854843.2487907,530730880.6268959,404914028.52609825,-6489758.901659012,508076794.3502197,353340165.99695015,376081570.40260315,265373711.62688065,365090320.98029137,305848309.9599056,-55438903.837911606,442049527.4706993,420454795.7795429,526426182.74552727,425726037.3197079,709932588.2040501,-107683450.60605621,832448449.8530579,130526519.6679287,324208110.4438019,575600576.2600899,328046926.9950619,924470257.3101578,239474879.73288155,466856379.7144604,301291584.2376499,618947636.5802364,481654462.94704056,176281139.05423546,497347728.9584141,147027328.22244644,315362286.0627041,434969531.23241806,965457819.1129932,553505004.2386036,501118517.8885956,274348201.48713493,-517148037.54576683,307476342.54906464,561923031.4699802,295356076.7543087,569355023.2799263,277005932.90608215,569933287.4470825,321258049.3362484,592658047.8899117,430694801.8224373,-358576817.4147358,656463402.1784725,82555012.88697243,598773846.0850353,313014261.0670738,359464152.50535965,303173100.6231041,647365697.0873508,244394185.44008255,-86008091.95963287,757748630.914093,453361100.1299648,318454913.859169,646783231.1337185,551428729.1909485,596967040.0366459,602773472.9609032,457143348.44000626,154054320.37932968,247298680.1334648,523138273.7904663,398149811.8449402,12250601.976911545,208157633.55888176,93559913.58631897,219405111.31778526,26506895.475294113,23284914.728172302,368353423.2755165,309988636.7982216,284893985.40716934,50789192.300014496,81338627.9144001,398961161.2659416,203529798.16529655,542797240.993597,358653934.2057209,1375095457.4135094,343853015.2940445,509148875.4356117,250293854.13775253,387371797.4457207,473685338.3048973,176209162.48498154,427912382.82774734,299332739.54218674,-279972446.14635277,754936171.3472404,559350870.9746208,16229278.71786499,164040161.5351448,391384609.45347595,277182299.0067158,415016437.75286865,349081597.50740623,738191466.6099873,974138867.3538857,28148332.500087738,638017219.4612999,260545014.5410576,477750537.73181915,541576489.7152138,170797781.3537445,567753374.6013508,259008838.09989738,670242275.5459118,922995578.9034443,1149448826.7411385,412765438.8730507,135159357.19894028,-276601805.55254555,84823816.0166626,908457594.4836254,249668062.64071655,-114927432.43029213,31852101.493541718,183915773.812685,963205727.6840229,735538744.5894623,23433262.07587433,38918789.50180054,590519894.3438587,-154795977.2090912,91111209.13492775,230267669.1427765,344483221.07330894,348645158.66093636,728332098.9383202,101712358.70356369,799256062.4433632,751951589.6241913,132304653.27450943,495753495.351429,-76170847.67611313,355779662.69275093,319414007.4510212,144336781.10198212,178244083.3015995,258102412.40363312,193938571.26712608,674100492.418169,-50478347.76222038,354962917.97454643,590278959.1156178,486339944.62545395,-217350097.37244034,554178228.7285519,50625781.28123665,568586121.9407101,57892018.6506443,350863533.4369869,586998411.1780968,519684163.74339867,320257893.78118324,-99412873.68164825,-52524022.57515144,166917676.64294243,541019467.6483784,407315797.7683811,528638365.6865139,44446061.0776062,300688538.5716133,437031072.58797836,278932938.58446884,-112087038.56053352,575455423.7512856,608060198.5669804,237984478.93780327,220211804.6755371,123151914.84368134,655396235.5811214,766767104.78582,793734195.817379,511214187.05744934,491775390.8654289,100964902.09779167,-194726774.04558754,569088209.3684006,449070302.1017933,453408438.5317631,563326517.159544,6592961.364406586,-104124264.51429749,25346045.69482994,641497523.1723442,741778481.7885456,476094750.5073261,-10158703.895681381,-105070366.25014114,527349105.41628265,202928307.76981544,420229151.3214226,32906334.22232437,413200415.5653057,582468515.8044281,195367574.43276215,557407860.0799179,127311471.69717407,941790719.1653767,202392277.10780334,30212301.78492737,620946455.2551022,119082393.50609589,167767004.5674057,359528625.58992386,135703896.3588009,427977860.3932419,333668689.6713829,724110846.2807446,170931685.92728043,293872038.90010834,747648474.5136547,227834730.52591515,81070763.01203918,377768191.75881195,275557552.55786514,655275124.9207516,-15893592.244838715,189101586.1053543,284961176.4257088,684398471.086649,426138588.5046673,537532085.289938,572624271.8353615,678866007.1118927,7117189.250940323,884680911.6831284,815101454.6964607,326589240.7706814,248083789.15992355,615542449.6442184,862828836.4534321,-146674813.59669876,191842702.8106327,556873146.4030437,372233253.37075233,180334284.87492752,990566192.9388237,446577493.9577942,805225509.8603096,686081964.9290771,566637492.6840019,441952383.00180626,431972613.047678,162185106.7645626,550425607.1334095,469217967.03406525,292066867.99832153,122998438.78276253,551590306.3229542,523088027.2197571,535680671.76667213,172584065.86479568,-200572513.12451553,511879275.9587345,580340433.6431522,522091842.13124275,844086369.0159187,226934059.4453888,275709900.2937527,773817739.0783539,41542256.21292114,556698142.2857285,641590819.0916367,214132716.3029747,491777071.2208328,333259085.0710163,351938876.62730217,282879352.0939617,366162192.1996193,729335570.8685799,214867393.0902462,116459345.88895988,214019689.68514824,48078137.87656021,449598391.6800194,337150969.15010834,511935505.55516624,410086963.33592033,338956361.79805183,370433041.61873627,280750778.3544655,-15588321.725292206,300928209.35539246,904495271.522192,701715908.7143364,156470583.8445034,345690093.91690063,652635628.8570137,425694288.5132351,-261337958.68997383,430110729.7288151,363647545.0186081,200129876.20960617,54345645.3704586,223679191.99472237,132884019.26290512,698954292.118187,483229961.1315479,87186526.85029411,255065445.40171623,254048094.740036,177533593.735281,261868163.31611443,663590817.8344707,301313327.9381523,332866816.3142185,126090658.46113205,199360396.2187271,148314192.5361004,657093937.6051121,39598875.022789,426893677.91220284,271890141.290535,-42034815.32510567,212001091.96405792,-240801591.9232235,460133692.7870312,819981374.6672268,398200480.42775726,538473960.4803143,343462571.02656937,335358931.7078533,640295052.6648502,728401777.0615864,146473264.89522934,406612647.0942974,252390228.09457016,1039709145.6307659,246312841.09134865,618017405.3997135,768724272.1468334,208479282.90592575,434454949.13510704,347384387.9942417,541685050.6735783,497649791.6828575,303508498.98885536,249655653.31627846,215258131.96994781,689416269.9881687,20808596.75741577,362327543.08231354,1032591335.1706352,49636798.00762558,164605847.89831352,-152120529.71318626,254176430.78857994,141017783.28866005,518798158.2364769,210075437.9507084,202097292.44195747,568242333.3440952,709585686.9514275,413617030.8092613,30662511.17304039,219466274.43842316,754280802.1706066,484357656.0266514,429547214.81157494,-22987188.280981064,149086065.5836563,21870350.5310421,487217761.0662346,829038901.2412014,487781836.4601517,175268968.24544525,389510977.94177437,-105233568.45445442,515620152.0014458,468748684.28793144,868863891.8544807,338008760.0093937,195610243.34326744,-171361059.09534454,475719625.91716194,233319183.24707413,305380758.0236378,271144507.30496216,964914351.216568,386375951.9708061,216828479.5581646,561532687.7603245,457982255.87597847,23291706.238603592,209537018.5189743,195295247.63149452,46684798.7242794,402570421.0566654,275028739.6021042,594064340.6984577,482226394.2472515,298703954.83701515,971159161.7649899,628260209.6528721,613574237.4511147,299006628.72070694,94117592.70155144,634837160.4949303,-68283036.17184258,530848130.22434044,619292387.1524105,615819635.7209454,898583329.515171,677960937.665966,190324177.0046444,101062650.56334496,642533705.0531483,449205270.84920883,467955400.491951,548322260.4277077,530987694.4419098,151589048.20386124,371116670.8391857,622292073.8748074,420413782.26158524,373960050.8565731,527531138.1875038,458681334.0836525,808968975.9255524,440299626.88952637,525314760.4592171,734569756.387167,92945585.31581116,131577226.03367615,384038491.6211548,730416681.331253,288845275.3828163,836823986.4903507,153488245.83756447,178728916.36021614,286248029.16189766,-187846744.70170212,589381511.3879185,90471019.1716671,676194832.546135,444460319.24744415,502326451.0698414,346695584.9057522,162447293.27271843,34659891.652534485,324227514.49814224,756922167.6883659,-79845379.82445145,-94148278.50145912,456097779.4806709,403891656.5330391,314877483.243103,443239681.8530693,393451558.4737148,104588007.04489899,219812507.59084892,-178098231.5321312,179956118.3852806,398378386.781517,392046803.33750534,-93891125.04820824,72210330.8938675,608187472.5814037,772245877.0020294,227345592.38266563,458598210.45874023,-29118006.972837448,184295555.74146652,646795819.467947,719712000.0479164,777363399.1614723,482861912.4394398,-139893213.37343407,505338423.1570091,558936095.2553596,264235297.59989548,305594897.9940491,244219298.3256836,181016699.6889038,599928862.7121716,406598346.6229534,652230624.1641006,153022227.60790062,393965096.3895016,707336843.8468056,642942344.258934,732124624.8470554,435231345.68525887,459282050.16355515,46740115.82805824,593568716.4623756,488847464.44605064,587685565.1594868,126226424.92306519,264343690.50619125,748987964.330492,749593598.6841869,-163706014.79722023,357207463.7906742,141401187.85607338,624056918.0610123,817584004.7107868,820217462.1543369,236663993.1736641,491141551.6981449,43195277.8470211,424988686.3236599,-119748653.91924286,859707.1014518738,658986329.7714787,682511267.048706,859291104.9528732,635863504.8465328,296464187.4989624,717711535.327692,150515533.75377464,97218261.04968071,562995626.6860161,286992135.09459496,482577933.9065628,780343446.7946587,372673177.9312496,506838851.43688965,566762497.3114567,-117660589.21146011,44345265.83654213,390815036.5444412,443210874.07809067,290582817.501667,896931892.1475868,319623118.86727333,463472421.57855606,266686510.78435516,650096688.5990696,516442019.60723114,479626638.53871727,577106134.0191135,447325016.8389702,210133845.69132805,255897751.8712654,513606927.69826126,660607214.7570267,-243785781.03960037],\"type\":\"histogram\"},{\"name\":\"\\u043e\\u0442\\u0440\\u0438\\u0446\\u0430\\u0442\\u0435\\u043b\\u044c\\u043d\\u0430\\u044f \\u043f\\u0440\\u0438\\u0431\\u044b\\u043b\\u044c\",\"opacity\":0.75,\"x\":[-251653136.12055206,-70909377.46544075,-61976731.79464722,-187705062.12726974,-133187254.43591118,-153983503.79678917,-39162385.152009964,-399973784.2629509,-53528637.68920708,-109300765.33084106,-102354698.32631493,-12198830.69214058,-46570623.01594162,-109820784.33089256,-4591395.35484314,-306209397.36772346,-342548030.69742584,-461465839.6609478,-4021531.5545864105,-316240823.66887474,-131224755.1204338,-245421120.31960487,-128735664.85618019,-393898073.6518364,-60499254.12467003,-345236622.8468666,-30980555.789873123,-350170269.20018387,-222312183.2864914,-44078194.45035553,-111700733.52282333,-27639370.581935883,-148028532.55235863,-69554211.56406593,-11965851.587974548,-95079495.7065239,-157805463.05216026,-81637346.13928413,-327640645.6729317,-197342073.19185066,-6489758.901659012,-55438903.837911606,-107683450.60605621,-517148037.54576683,-358576817.4147358,-86008091.95963287,-279972446.14635277,-276601805.55254555,-114927432.43029213,-154795977.2090912,-76170847.67611313,-50478347.76222038,-217350097.37244034,-99412873.68164825,-52524022.57515144,-112087038.56053352,-194726774.04558754,-104124264.51429749,-10158703.895681381,-105070366.25014114,-15893592.244838715,-146674813.59669876,-200572513.12451553,-15588321.725292206,-261337958.68997383,-42034815.32510567,-240801591.9232235,-152120529.71318626,-22987188.280981064,-105233568.45445442,-171361059.09534454,-68283036.17184258,-187846744.70170212,-79845379.82445145,-94148278.50145912,-178098231.5321312,-93891125.04820824,-29118006.972837448,-139893213.37343407,-163706014.79722023,-119748653.91924286,-117660589.21146011,-243785781.03960037],\"type\":\"histogram\"}],                        {\"template\":{\"data\":{\"histogram2dcontour\":[{\"type\":\"histogram2dcontour\",\"colorbar\":{\"outlinewidth\":0,\"ticks\":\"\"},\"colorscale\":[[0.0,\"#0d0887\"],[0.1111111111111111,\"#46039f\"],[0.2222222222222222,\"#7201a8\"],[0.3333333333333333,\"#9c179e\"],[0.4444444444444444,\"#bd3786\"],[0.5555555555555556,\"#d8576b\"],[0.6666666666666666,\"#ed7953\"],[0.7777777777777778,\"#fb9f3a\"],[0.8888888888888888,\"#fdca26\"],[1.0,\"#f0f921\"]]}],\"choropleth\":[{\"type\":\"choropleth\",\"colorbar\":{\"outlinewidth\":0,\"ticks\":\"\"}}],\"histogram2d\":[{\"type\":\"histogram2d\",\"colorbar\":{\"outlinewidth\":0,\"ticks\":\"\"},\"colorscale\":[[0.0,\"#0d0887\"],[0.1111111111111111,\"#46039f\"],[0.2222222222222222,\"#7201a8\"],[0.3333333333333333,\"#9c179e\"],[0.4444444444444444,\"#bd3786\"],[0.5555555555555556,\"#d8576b\"],[0.6666666666666666,\"#ed7953\"],[0.7777777777777778,\"#fb9f3a\"],[0.8888888888888888,\"#fdca26\"],[1.0,\"#f0f921\"]]}],\"heatmap\":[{\"type\":\"heatmap\",\"colorbar\":{\"outlinewidth\":0,\"ticks\":\"\"},\"colorscale\":[[0.0,\"#0d0887\"],[0.1111111111111111,\"#46039f\"],[0.2222222222222222,\"#7201a8\"],[0.3333333333333333,\"#9c179e\"],[0.4444444444444444,\"#bd3786\"],[0.5555555555555556,\"#d8576b\"],[0.6666666666666666,\"#ed7953\"],[0.7777777777777778,\"#fb9f3a\"],[0.8888888888888888,\"#fdca26\"],[1.0,\"#f0f921\"]]}],\"heatmapgl\":[{\"type\":\"heatmapgl\",\"colorbar\":{\"outlinewidth\":0,\"ticks\":\"\"},\"colorscale\":[[0.0,\"#0d0887\"],[0.1111111111111111,\"#46039f\"],[0.2222222222222222,\"#7201a8\"],[0.3333333333333333,\"#9c179e\"],[0.4444444444444444,\"#bd3786\"],[0.5555555555555556,\"#d8576b\"],[0.6666666666666666,\"#ed7953\"],[0.7777777777777778,\"#fb9f3a\"],[0.8888888888888888,\"#fdca26\"],[1.0,\"#f0f921\"]]}],\"contourcarpet\":[{\"type\":\"contourcarpet\",\"colorbar\":{\"outlinewidth\":0,\"ticks\":\"\"}}],\"contour\":[{\"type\":\"contour\",\"colorbar\":{\"outlinewidth\":0,\"ticks\":\"\"},\"colorscale\":[[0.0,\"#0d0887\"],[0.1111111111111111,\"#46039f\"],[0.2222222222222222,\"#7201a8\"],[0.3333333333333333,\"#9c179e\"],[0.4444444444444444,\"#bd3786\"],[0.5555555555555556,\"#d8576b\"],[0.6666666666666666,\"#ed7953\"],[0.7777777777777778,\"#fb9f3a\"],[0.8888888888888888,\"#fdca26\"],[1.0,\"#f0f921\"]]}],\"surface\":[{\"type\":\"surface\",\"colorbar\":{\"outlinewidth\":0,\"ticks\":\"\"},\"colorscale\":[[0.0,\"#0d0887\"],[0.1111111111111111,\"#46039f\"],[0.2222222222222222,\"#7201a8\"],[0.3333333333333333,\"#9c179e\"],[0.4444444444444444,\"#bd3786\"],[0.5555555555555556,\"#d8576b\"],[0.6666666666666666,\"#ed7953\"],[0.7777777777777778,\"#fb9f3a\"],[0.8888888888888888,\"#fdca26\"],[1.0,\"#f0f921\"]]}],\"mesh3d\":[{\"type\":\"mesh3d\",\"colorbar\":{\"outlinewidth\":0,\"ticks\":\"\"}}],\"scatter\":[{\"fillpattern\":{\"fillmode\":\"overlay\",\"size\":10,\"solidity\":0.2},\"type\":\"scatter\"}],\"parcoords\":[{\"type\":\"parcoords\",\"line\":{\"colorbar\":{\"outlinewidth\":0,\"ticks\":\"\"}}}],\"scatterpolargl\":[{\"type\":\"scatterpolargl\",\"marker\":{\"colorbar\":{\"outlinewidth\":0,\"ticks\":\"\"}}}],\"bar\":[{\"error_x\":{\"color\":\"#2a3f5f\"},\"error_y\":{\"color\":\"#2a3f5f\"},\"marker\":{\"line\":{\"color\":\"#E5ECF6\",\"width\":0.5},\"pattern\":{\"fillmode\":\"overlay\",\"size\":10,\"solidity\":0.2}},\"type\":\"bar\"}],\"scattergeo\":[{\"type\":\"scattergeo\",\"marker\":{\"colorbar\":{\"outlinewidth\":0,\"ticks\":\"\"}}}],\"scatterpolar\":[{\"type\":\"scatterpolar\",\"marker\":{\"colorbar\":{\"outlinewidth\":0,\"ticks\":\"\"}}}],\"histogram\":[{\"marker\":{\"pattern\":{\"fillmode\":\"overlay\",\"size\":10,\"solidity\":0.2}},\"type\":\"histogram\"}],\"scattergl\":[{\"type\":\"scattergl\",\"marker\":{\"colorbar\":{\"outlinewidth\":0,\"ticks\":\"\"}}}],\"scatter3d\":[{\"type\":\"scatter3d\",\"line\":{\"colorbar\":{\"outlinewidth\":0,\"ticks\":\"\"}},\"marker\":{\"colorbar\":{\"outlinewidth\":0,\"ticks\":\"\"}}}],\"scattermapbox\":[{\"type\":\"scattermapbox\",\"marker\":{\"colorbar\":{\"outlinewidth\":0,\"ticks\":\"\"}}}],\"scatterternary\":[{\"type\":\"scatterternary\",\"marker\":{\"colorbar\":{\"outlinewidth\":0,\"ticks\":\"\"}}}],\"scattercarpet\":[{\"type\":\"scattercarpet\",\"marker\":{\"colorbar\":{\"outlinewidth\":0,\"ticks\":\"\"}}}],\"carpet\":[{\"aaxis\":{\"endlinecolor\":\"#2a3f5f\",\"gridcolor\":\"white\",\"linecolor\":\"white\",\"minorgridcolor\":\"white\",\"startlinecolor\":\"#2a3f5f\"},\"baxis\":{\"endlinecolor\":\"#2a3f5f\",\"gridcolor\":\"white\",\"linecolor\":\"white\",\"minorgridcolor\":\"white\",\"startlinecolor\":\"#2a3f5f\"},\"type\":\"carpet\"}],\"table\":[{\"cells\":{\"fill\":{\"color\":\"#EBF0F8\"},\"line\":{\"color\":\"white\"}},\"header\":{\"fill\":{\"color\":\"#C8D4E3\"},\"line\":{\"color\":\"white\"}},\"type\":\"table\"}],\"barpolar\":[{\"marker\":{\"line\":{\"color\":\"#E5ECF6\",\"width\":0.5},\"pattern\":{\"fillmode\":\"overlay\",\"size\":10,\"solidity\":0.2}},\"type\":\"barpolar\"}],\"pie\":[{\"automargin\":true,\"type\":\"pie\"}]},\"layout\":{\"autotypenumbers\":\"strict\",\"colorway\":[\"#636efa\",\"#EF553B\",\"#00cc96\",\"#ab63fa\",\"#FFA15A\",\"#19d3f3\",\"#FF6692\",\"#B6E880\",\"#FF97FF\",\"#FECB52\"],\"font\":{\"color\":\"#2a3f5f\"},\"hovermode\":\"closest\",\"hoverlabel\":{\"align\":\"left\"},\"paper_bgcolor\":\"white\",\"plot_bgcolor\":\"#E5ECF6\",\"polar\":{\"bgcolor\":\"#E5ECF6\",\"angularaxis\":{\"gridcolor\":\"white\",\"linecolor\":\"white\",\"ticks\":\"\"},\"radialaxis\":{\"gridcolor\":\"white\",\"linecolor\":\"white\",\"ticks\":\"\"}},\"ternary\":{\"bgcolor\":\"#E5ECF6\",\"aaxis\":{\"gridcolor\":\"white\",\"linecolor\":\"white\",\"ticks\":\"\"},\"baxis\":{\"gridcolor\":\"white\",\"linecolor\":\"white\",\"ticks\":\"\"},\"caxis\":{\"gridcolor\":\"white\",\"linecolor\":\"white\",\"ticks\":\"\"}},\"coloraxis\":{\"colorbar\":{\"outlinewidth\":0,\"ticks\":\"\"}},\"colorscale\":{\"sequential\":[[0.0,\"#0d0887\"],[0.1111111111111111,\"#46039f\"],[0.2222222222222222,\"#7201a8\"],[0.3333333333333333,\"#9c179e\"],[0.4444444444444444,\"#bd3786\"],[0.5555555555555556,\"#d8576b\"],[0.6666666666666666,\"#ed7953\"],[0.7777777777777778,\"#fb9f3a\"],[0.8888888888888888,\"#fdca26\"],[1.0,\"#f0f921\"]],\"sequentialminus\":[[0.0,\"#0d0887\"],[0.1111111111111111,\"#46039f\"],[0.2222222222222222,\"#7201a8\"],[0.3333333333333333,\"#9c179e\"],[0.4444444444444444,\"#bd3786\"],[0.5555555555555556,\"#d8576b\"],[0.6666666666666666,\"#ed7953\"],[0.7777777777777778,\"#fb9f3a\"],[0.8888888888888888,\"#fdca26\"],[1.0,\"#f0f921\"]],\"diverging\":[[0,\"#8e0152\"],[0.1,\"#c51b7d\"],[0.2,\"#de77ae\"],[0.3,\"#f1b6da\"],[0.4,\"#fde0ef\"],[0.5,\"#f7f7f7\"],[0.6,\"#e6f5d0\"],[0.7,\"#b8e186\"],[0.8,\"#7fbc41\"],[0.9,\"#4d9221\"],[1,\"#276419\"]]},\"xaxis\":{\"gridcolor\":\"white\",\"linecolor\":\"white\",\"ticks\":\"\",\"title\":{\"standoff\":15},\"zerolinecolor\":\"white\",\"automargin\":true,\"zerolinewidth\":2},\"yaxis\":{\"gridcolor\":\"white\",\"linecolor\":\"white\",\"ticks\":\"\",\"title\":{\"standoff\":15},\"zerolinecolor\":\"white\",\"automargin\":true,\"zerolinewidth\":2},\"scene\":{\"xaxis\":{\"backgroundcolor\":\"#E5ECF6\",\"gridcolor\":\"white\",\"linecolor\":\"white\",\"showbackground\":true,\"ticks\":\"\",\"zerolinecolor\":\"white\",\"gridwidth\":2},\"yaxis\":{\"backgroundcolor\":\"#E5ECF6\",\"gridcolor\":\"white\",\"linecolor\":\"white\",\"showbackground\":true,\"ticks\":\"\",\"zerolinecolor\":\"white\",\"gridwidth\":2},\"zaxis\":{\"backgroundcolor\":\"#E5ECF6\",\"gridcolor\":\"white\",\"linecolor\":\"white\",\"showbackground\":true,\"ticks\":\"\",\"zerolinecolor\":\"white\",\"gridwidth\":2}},\"shapedefaults\":{\"line\":{\"color\":\"#2a3f5f\"}},\"annotationdefaults\":{\"arrowcolor\":\"#2a3f5f\",\"arrowhead\":0,\"arrowwidth\":1},\"geo\":{\"bgcolor\":\"white\",\"landcolor\":\"#E5ECF6\",\"subunitcolor\":\"white\",\"showland\":true,\"showlakes\":true,\"lakecolor\":\"white\"},\"title\":{\"x\":0.05},\"mapbox\":{\"style\":\"light\"}}},\"shapes\":[{\"line\":{\"color\":\"green\",\"dash\":\"dash\",\"width\":2},\"type\":\"line\",\"x0\":-178338402.29700965,\"x1\":-178338402.29700965,\"xref\":\"x\",\"y0\":0,\"y1\":1,\"yref\":\"y domain\"},{\"line\":{\"color\":\"green\",\"dash\":\"dash\",\"width\":2},\"type\":\"line\",\"x0\":898731128.0653465,\"x1\":898731128.0653465,\"xref\":\"x\",\"y0\":0,\"y1\":1,\"yref\":\"y domain\"}],\"title\":{\"text\":\"\\u0413\\u0438\\u0441\\u0442\\u043e\\u0433\\u0440\\u0430\\u043c\\u043c\\u0430 \\u043f\\u0440\\u0438\\u0431\\u044b\\u043b\\u0438 200 \\u043b\\u0443\\u0447\\u0448\\u0438\\u0445 \\u0441\\u043a\\u0432\\u0430\\u0436\\u0438\\u043d \\u0440\\u0435\\u0433\\u0438\\u043e\\u043d\\u0430 3\",\"x\":0.5},\"legend\":{\"x\":0.5,\"xanchor\":\"center\",\"orientation\":\"h\"},\"margin\":{\"l\":0,\"r\":0,\"t\":30,\"b\":0},\"xaxis\":{\"title\":{\"text\":\"\\u041f\\u0440\\u0438\\u0431\\u044b\\u043b\\u044c\"}},\"barmode\":\"overlay\"},                        {\"responsive\": true}                    ).then(function(){\n",
       "                            \n",
       "var gd = document.getElementById('671005f0-c48b-45e8-aff0-abef6ae0cd9e');\n",
       "var x = new MutationObserver(function (mutations, observer) {{\n",
       "        var display = window.getComputedStyle(gd).display;\n",
       "        if (!display || display === 'none') {{\n",
       "            console.log([gd, 'removed!']);\n",
       "            Plotly.purge(gd);\n",
       "            observer.disconnect();\n",
       "        }}\n",
       "}});\n",
       "\n",
       "// Listen for the removal of the full notebook cells\n",
       "var notebookContainer = gd.closest('#notebook-container');\n",
       "if (notebookContainer) {{\n",
       "    x.observe(notebookContainer, {childList: true});\n",
       "}}\n",
       "\n",
       "// Listen for the clearing of the current output cell\n",
       "var outputEl = gd.closest('.output');\n",
       "if (outputEl) {{\n",
       "    x.observe(outputEl, {childList: true});\n",
       "}}\n",
       "\n",
       "                        })                };                });            </script>        </div>"
      ]
     },
     "metadata": {},
     "output_type": "display_data"
    }
   ],
   "source": [
    "# цикл формирования выборок методом бутстреп, расчета метрик, построения гистограм прибыли\n",
    "for i in range(1, 4):\n",
    "    \n",
    "    # bootstrap\n",
    "    vars()['values_' + str(i)] = []\n",
    "    \n",
    "    for j in range(1000):\n",
    "        \n",
    "        subsample = vars()['pred_' + str(i)].sample(n=500, replace=True, random_state=state)\n",
    "        target_subsample = vars()['target_valid_' + str(i)][subsample.index]\n",
    "        \n",
    "        # сбросим индексы, чтобы не было повторяющихся\n",
    "        subsample = subsample.reset_index(drop=True)\n",
    "        target_subsample = target_subsample.reset_index(drop=True)\n",
    "        \n",
    "        prof = profit(subsample, target_subsample)\n",
    "        vars()['values_' + str(i)].append(prof)\n",
    "        \n",
    "    # список values преобразуем в Series\n",
    "    vars()['values_' + str(i)] = pd.Series(vars()['values_' + str(i)])\n",
    "    \n",
    "    # находим среднее значение прибыли для региона\n",
    "    vars()['profit_mean_' + str(i)] = vars()['values_' + str(i)].mean()\n",
    "    \n",
    "    # нижняя граница дов.инт. (2.5% квантиль)\n",
    "    vars()['lower_' + str(i)] = vars()['values_' + str(i)].quantile(0.025)\n",
    "    \n",
    "    # верхняя граница дов.инт. (97.5% квантиль)\n",
    "    vars()['upper_' + str(i)] = vars()['values_' + str(i)].quantile(0.975)\n",
    "    \n",
    "    # убытки\n",
    "    vars()['negative_values_' + str(i)] = vars()['values_' + str(i)].loc[vars()['values_' + str(i)] < 0]\n",
    "    \n",
    "    # построение гистограммы прибыли, убытков, доверительного интервала\n",
    "    \n",
    "    fig = go.Figure()\n",
    "    # строим гистограмму прибыли\n",
    "    fig.add_trace(go.Histogram(x=vars()['values_' + str(i)], opacity=0.75, name='положительная прибыль'))\n",
    "    # строим гистограмму убытков\n",
    "    fig.add_trace(go.Histogram(x=vars()['negative_values_' + str(i)], opacity=0.75, name='отрицательная прибыль'))\n",
    "    # отмечаем нижнюю границу дов.инт.\n",
    "    fig.add_vline(x=vars()['lower_' + str(i)], line_width=2, line_dash=\"dash\", line_color=\"green\")\n",
    "    # отмечаем верхнюю границу дов.инт.\n",
    "    fig.add_vline(x=vars()['upper_' + str(i)], line_width=2, line_dash=\"dash\", line_color=\"green\")\n",
    "    fig.update_layout(\n",
    "        title=f\"Гистограмма прибыли 200 лучших скважин региона {i}\",\n",
    "        title_x = 0.5,\n",
    "        xaxis_title=\"Прибыль\",\n",
    "        legend=dict(x=.5, xanchor=\"center\", orientation=\"h\"),\n",
    "        barmode='overlay',\n",
    "        margin=dict(l=0, r=0, t=30, b=0))\n",
    "\n",
    "    fig.show()\n",
    "    \n",
    "    # считаем вероятность убытков\n",
    "    vars()['prob_loss_' + str(i)] = len(vars()['negative_values_' + str(i)]) / len(vars()['values_' + str(i)]) * 100\n",
    "    \n",
    "    # заполняем таблицу данными\n",
    "    comparison.iloc[i-1, 0] = vars()['profit_mean_' + str(i)]\n",
    "    comparison.iloc[i-1, 1] = vars()['lower_' + str(i)]\n",
    "    comparison.iloc[i-1, 2] = vars()['upper_' + str(i)]\n",
    "    comparison.iloc[i-1, 3] = vars()['prob_loss_' + str(i)]\n",
    "    "
   ]
  },
  {
   "cell_type": "code",
   "execution_count": 79,
   "metadata": {
    "scrolled": true
   },
   "outputs": [
    {
     "data": {
      "text/html": [
       "<div>\n",
       "<style scoped>\n",
       "    .dataframe tbody tr th:only-of-type {\n",
       "        vertical-align: middle;\n",
       "    }\n",
       "\n",
       "    .dataframe tbody tr th {\n",
       "        vertical-align: top;\n",
       "    }\n",
       "\n",
       "    .dataframe thead th {\n",
       "        text-align: right;\n",
       "    }\n",
       "</style>\n",
       "<table border=\"1\" class=\"dataframe\">\n",
       "  <thead>\n",
       "    <tr style=\"text-align: right;\">\n",
       "      <th></th>\n",
       "      <th>Средняя прибыль, руб.</th>\n",
       "      <th>Квантиль 2.5%</th>\n",
       "      <th>Квантиль 97.5%</th>\n",
       "      <th>Вероятность убытков, %</th>\n",
       "    </tr>\n",
       "  </thead>\n",
       "  <tbody>\n",
       "    <tr>\n",
       "      <th>регион_1</th>\n",
       "      <td>4.250373e+08</td>\n",
       "      <td>-4.424168e+07</td>\n",
       "      <td>9.098090e+08</td>\n",
       "      <td>4.1</td>\n",
       "    </tr>\n",
       "    <tr>\n",
       "      <th>регион_2</th>\n",
       "      <td>4.325615e+08</td>\n",
       "      <td>1.749616e+07</td>\n",
       "      <td>8.023616e+08</td>\n",
       "      <td>1.8</td>\n",
       "    </tr>\n",
       "    <tr>\n",
       "      <th>регион_3</th>\n",
       "      <td>3.689507e+08</td>\n",
       "      <td>-1.783384e+08</td>\n",
       "      <td>8.987311e+08</td>\n",
       "      <td>8.3</td>\n",
       "    </tr>\n",
       "  </tbody>\n",
       "</table>\n",
       "</div>"
      ],
      "text/plain": [
       "          Средняя прибыль, руб.  Квантиль 2.5%  Квантиль 97.5%  \\\n",
       "регион_1           4.250373e+08  -4.424168e+07    9.098090e+08   \n",
       "регион_2           4.325615e+08   1.749616e+07    8.023616e+08   \n",
       "регион_3           3.689507e+08  -1.783384e+08    8.987311e+08   \n",
       "\n",
       "          Вероятность убытков, %  \n",
       "регион_1                     4.1  \n",
       "регион_2                     1.8  \n",
       "регион_3                     8.3  "
      ]
     },
     "execution_count": 79,
     "metadata": {},
     "output_type": "execute_result"
    }
   ],
   "source": [
    "comparison"
   ]
  },
  {
   "cell_type": "markdown",
   "metadata": {},
   "source": [
    "Первый и третий регионы с вероятностью убытков более 2.5% (4.1% и 8.3%). Второй регион выигрывает и по самой низкой вероятности убытков (1.8%) и по средней прибыли 200 лучших скважин 4.33*10^8 руб."
   ]
  }
 ],
 "metadata": {
  "kernelspec": {
   "display_name": "Python 3 (ipykernel)",
   "language": "python",
   "name": "python3"
  },
  "language_info": {
   "codemirror_mode": {
    "name": "ipython",
    "version": 3
   },
   "file_extension": ".py",
   "mimetype": "text/x-python",
   "name": "python",
   "nbconvert_exporter": "python",
   "pygments_lexer": "ipython3",
   "version": "3.10.9"
  },
  "toc": {
   "base_numbering": 1,
   "nav_menu": {},
   "number_sections": true,
   "sideBar": true,
   "skip_h1_title": true,
   "title_cell": "Table of Contents",
   "title_sidebar": "Contents",
   "toc_cell": false,
   "toc_position": {},
   "toc_section_display": true,
   "toc_window_display": false
  }
 },
 "nbformat": 4,
 "nbformat_minor": 2
}
